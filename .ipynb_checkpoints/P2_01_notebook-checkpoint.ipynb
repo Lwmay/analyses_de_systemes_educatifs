{
 "cells": [
  {
   "cell_type": "markdown",
   "id": "e5f20814-08c5-4464-ac68-d2cdca5b5373",
   "metadata": {},
   "source": [
    "<center><img src=\"img/EdTech_logo.png\" style=\"width: 500px;\"/></center>"
   ]
  },
  {
   "cell_type": "markdown",
   "id": "42451191-db76-43a3-8f11-0be2f2d2836b",
   "metadata": {},
   "source": [
    "Notre start-up de la EdTech, nommée **academy**, propose des contenus de formation en ligne pour un public de niveau lycée et université. Dans le cadre de notre projet d’expansion à l’international de l’entreprise, nous avons réalisé une analyse exploratoire, pour déterminer si les données sur l’éducation de la banque mondiale permettent d’informer sur ce projet.  \n",
    "\n",
    "**Les objectifs sont :**\n",
    "- Déterminer les pays avec un fort potentiel de clients pour nos services.\n",
    "- Évaluer l’évolution de ce potentiel de clients.\n",
    "- Les pays dans lesquels l'entreprise doit opérer en priorité.\n"
   ]
  },
  {
   "cell_type": "markdown",
   "id": "c586c343-a185-40ef-8ebe-9d026f1bb466",
   "metadata": {},
   "source": [
    "**Les données :**"
   ]
  },
  {
   "cell_type": "markdown",
   "id": "c361b26b-0e5d-4bca-9781-e3a5e9b59766",
   "metadata": {},
   "source": [
    "Les données que nous utiliserons proviennent de la Banque mondiale **The World Bank** “EdStats All Indicator Query” disponible à l'adresse suivante :  https://datacatalog.worldbank.org/dataset/education-statistics . Elle répertorie 4000 indicateurs internationaux décrivant l’accès à l’éducation, l’obtention de diplômes et des informations relatives aux professeurs, aux dépenses liées à l’éducation.."
   ]
  },
  {
   "cell_type": "markdown",
   "id": "f59de019-9caa-487f-a08a-dfee5fdd31b4",
   "metadata": {},
   "source": [
    "Nous disposons de 5 fichiers :"
   ]
  },
  {
   "cell_type": "markdown",
   "id": "28368401-4052-4b9b-8d70-53a6ae3510d8",
   "metadata": {},
   "source": [
    "<center><img src=\"img/Vue_ens_fichiers.png\" style=\"width: 1000px;\"/></center>"
   ]
  },
  {
   "cell_type": "markdown",
   "id": "2f03ef84-7207-45b6-adaf-63450154b540",
   "metadata": {},
   "source": [
    "**Les indicateurs :**"
   ]
  },
  {
   "cell_type": "markdown",
   "id": "f2df9eba-4e40-49ed-8ee2-54b8663dc282",
   "metadata": {},
   "source": [
    "Pour répondre à nos objectifs, nous allons choisir des indicateurs qui pourront apporter une aide dans la segmentation des populations. Nous choisissons 3 axes :\n",
    "- Population étudiante\n",
    "- PIB moyen (financement des études)\n",
    "- Connectivité à internet\n",
    "!!! A Développer"
   ]
  },
  {
   "cell_type": "markdown",
   "id": "755efa3a-9344-4f17-8988-911a92537f1c",
   "metadata": {},
   "source": [
    "Nous allons donc :  \n",
    "- Valider la qualité de ce jeu de données (comporte-t-il beaucoup de données manquantes, dupliquées ?)\n",
    "- Décrire les informations contenues dans le jeu de données (nombre de colonnes ? nombre de lignes ?)\n",
    "- Sélectionner les informations qui semblent pertinentes pour répondre à la problématique (quelles sont les colonnes contenant des informations qui peuvent être utiles pour répondre à la problématique de l’entreprise ?)\n",
    "- Déterminer des ordres de grandeurs des indicateurs statistiques classiques pour les différentes zones géographiques et pays du monde (moyenne/médiane/écart-type par pays et par continent ou bloc géographique)"
   ]
  },
  {
   "cell_type": "markdown",
   "id": "eeb34816",
   "metadata": {},
   "source": [
    "---"
   ]
  },
  {
   "cell_type": "markdown",
   "id": "6e7858fc-45aa-4b62-9dbd-bb525975c0ab",
   "metadata": {
    "tags": []
   },
   "source": [
    "# Importation des librairies"
   ]
  },
  {
   "cell_type": "code",
   "execution_count": 1,
   "id": "bdff5bcf-e7ae-43cf-9021-1281806d919c",
   "metadata": {},
   "outputs": [],
   "source": [
    "#!pip freeze > requirements.txt"
   ]
  },
  {
   "cell_type": "code",
   "execution_count": 2,
   "id": "68348bf6-f033-4eba-a0e7-f73c6c3746a9",
   "metadata": {},
   "outputs": [],
   "source": [
    "import os, sys\n",
    "import numpy as np\n",
    "import pandas as pd\n",
    "import seaborn as sns\n",
    "import matplotlib.pyplot as plt\n",
    "\n",
    "import warnings\n",
    "warnings.filterwarnings(\"ignore\")\n",
    "warnings.simplefilter(action='ignore')\n",
    "\n",
    "# Pandas settings\n",
    "pd.set_option(\"display.max_columns\", 50)\n",
    "pd.set_option(\"display.max_rows\", 100)\n",
    "pd.set_option('display.max_columns', None)\n",
    "pd.set_option('display.max_rows', None)\n",
    "pd.set_option('display.max_colwidth', None)\n",
    "\n",
    "\n",
    "# plot config\n",
    "sns.set_theme(\n",
    "    style = \"whitegrid\",\n",
    "    font_scale = 1.2,\n",
    "    rc = {\n",
    "        \"figure.figsize\" : (15,10),\n",
    "        \"axes.titlepad\": 20,\n",
    "        \"axes.labelweight\": \"bold\",\n",
    "        \"axes.labelsize\": 12,\n",
    "        \"axes.titleweight\": \"bold\",\n",
    "        \"axes.titlesize\": 18,\n",
    "        \"axes.titlepad\": 20,\n",
    "        'figure.figsize':(12,6)\n",
    "    }\n",
    ")\n",
    "palette = \"GnBu_r\"\n",
    "color = \"#539ebb\""
   ]
  },
  {
   "cell_type": "code",
   "execution_count": 3,
   "id": "21632c5d",
   "metadata": {},
   "outputs": [
    {
     "name": "stdout",
     "output_type": "stream",
     "text": [
      "Version des librairies utilisées :\n",
      "Python   : 3.8.12 (default, Oct 12 2021, 06:23:56) \n",
      "[Clang 10.0.0 ]\n",
      "NumPy    : 1.20.3\n",
      "Pandas   : 1.4.1\n",
      "Seaborn  : 0.11.2\n"
     ]
    }
   ],
   "source": [
    "# Versions \n",
    "print('Version des librairies utilisées :')\n",
    "print('Python   : ' + sys.version)\n",
    "print('NumPy    : ' + np.version.full_version)\n",
    "print('Pandas   : ' + pd.__version__)\n",
    "print('Seaborn  : ' + sns.__version__)"
   ]
  },
  {
   "cell_type": "code",
   "execution_count": 4,
   "id": "583fc068-ff29-4e6c-936c-6e28ee689714",
   "metadata": {},
   "outputs": [
    {
     "data": {
      "text/html": [
       "<style>\n",
       "    table {float:left}\n",
       "</style>\n"
      ],
      "text/plain": [
       "<IPython.core.display.HTML object>"
      ]
     },
     "metadata": {},
     "output_type": "display_data"
    }
   ],
   "source": [
    "%%html\n",
    "<style>\n",
    "    table {float:left}\n",
    "</style>"
   ]
  },
  {
   "cell_type": "markdown",
   "id": "28cce9a6-2733-4da9-85e6-24d70ecab3ca",
   "metadata": {},
   "source": [
    "Instalation des librairies :"
   ]
  },
  {
   "cell_type": "code",
   "execution_count": 5,
   "id": "1c6927b2-ce24-4645-88b1-2bfdb98fc621",
   "metadata": {},
   "outputs": [],
   "source": [
    "#!pip install -r requirements.txt"
   ]
  },
  {
   "cell_type": "markdown",
   "id": "4722e14a",
   "metadata": {},
   "source": [
    "---"
   ]
  },
  {
   "cell_type": "markdown",
   "id": "cb2c462f",
   "metadata": {
    "tags": []
   },
   "source": [
    "# Importation des données"
   ]
  },
  {
   "cell_type": "markdown",
   "id": "1f6b7b7b-c00a-4b9f-97f6-d3b7fd3eb234",
   "metadata": {
    "tags": []
   },
   "source": [
    "## Données EdStatsData"
   ]
  },
  {
   "cell_type": "markdown",
   "id": "8d54168e-989d-4d12-9f97-a436c58410fd",
   "metadata": {},
   "source": [
    "EdStatsData contient des valeurs par indicateurs, par an et par pays."
   ]
  },
  {
   "cell_type": "code",
   "execution_count": 6,
   "id": "2b714154-d564-4725-90c6-47f22e46a8dd",
   "metadata": {},
   "outputs": [
    {
     "data": {
      "text/html": [
       "<div>\n",
       "<style scoped>\n",
       "    .dataframe tbody tr th:only-of-type {\n",
       "        vertical-align: middle;\n",
       "    }\n",
       "\n",
       "    .dataframe tbody tr th {\n",
       "        vertical-align: top;\n",
       "    }\n",
       "\n",
       "    .dataframe thead th {\n",
       "        text-align: right;\n",
       "    }\n",
       "</style>\n",
       "<table border=\"1\" class=\"dataframe\">\n",
       "  <thead>\n",
       "    <tr style=\"text-align: right;\">\n",
       "      <th></th>\n",
       "      <th>Country Name</th>\n",
       "      <th>Country Code</th>\n",
       "      <th>Indicator Name</th>\n",
       "      <th>Indicator Code</th>\n",
       "      <th>1970</th>\n",
       "      <th>1971</th>\n",
       "      <th>1972</th>\n",
       "      <th>1973</th>\n",
       "      <th>1974</th>\n",
       "      <th>1975</th>\n",
       "      <th>1976</th>\n",
       "      <th>1977</th>\n",
       "      <th>1978</th>\n",
       "      <th>1979</th>\n",
       "      <th>1980</th>\n",
       "      <th>1981</th>\n",
       "      <th>1982</th>\n",
       "      <th>1983</th>\n",
       "      <th>1984</th>\n",
       "      <th>1985</th>\n",
       "      <th>1986</th>\n",
       "      <th>1987</th>\n",
       "      <th>1988</th>\n",
       "      <th>1989</th>\n",
       "      <th>1990</th>\n",
       "      <th>1991</th>\n",
       "      <th>1992</th>\n",
       "      <th>1993</th>\n",
       "      <th>1994</th>\n",
       "      <th>1995</th>\n",
       "      <th>1996</th>\n",
       "      <th>1997</th>\n",
       "      <th>1998</th>\n",
       "      <th>1999</th>\n",
       "      <th>2000</th>\n",
       "      <th>2001</th>\n",
       "      <th>2002</th>\n",
       "      <th>2003</th>\n",
       "      <th>2004</th>\n",
       "      <th>2005</th>\n",
       "      <th>2006</th>\n",
       "      <th>2007</th>\n",
       "      <th>2008</th>\n",
       "      <th>2009</th>\n",
       "      <th>2010</th>\n",
       "      <th>2011</th>\n",
       "      <th>2012</th>\n",
       "      <th>2013</th>\n",
       "      <th>2014</th>\n",
       "      <th>2015</th>\n",
       "      <th>2016</th>\n",
       "      <th>2017</th>\n",
       "      <th>2020</th>\n",
       "      <th>2025</th>\n",
       "      <th>2030</th>\n",
       "      <th>2035</th>\n",
       "      <th>2040</th>\n",
       "      <th>2045</th>\n",
       "      <th>2050</th>\n",
       "      <th>2055</th>\n",
       "      <th>2060</th>\n",
       "      <th>2065</th>\n",
       "      <th>2070</th>\n",
       "      <th>2075</th>\n",
       "      <th>2080</th>\n",
       "      <th>2085</th>\n",
       "      <th>2090</th>\n",
       "      <th>2095</th>\n",
       "      <th>2100</th>\n",
       "      <th>Unnamed: 69</th>\n",
       "    </tr>\n",
       "  </thead>\n",
       "  <tbody>\n",
       "    <tr>\n",
       "      <th>778810</th>\n",
       "      <td>Sweden</td>\n",
       "      <td>SWE</td>\n",
       "      <td>PASEC: Mean performance on the mathematics scale for 6th grade students who did not attend pre-primary education</td>\n",
       "      <td>LO.PASEC.MAT.6.NPP</td>\n",
       "      <td>NaN</td>\n",
       "      <td>NaN</td>\n",
       "      <td>NaN</td>\n",
       "      <td>NaN</td>\n",
       "      <td>NaN</td>\n",
       "      <td>NaN</td>\n",
       "      <td>NaN</td>\n",
       "      <td>NaN</td>\n",
       "      <td>NaN</td>\n",
       "      <td>NaN</td>\n",
       "      <td>NaN</td>\n",
       "      <td>NaN</td>\n",
       "      <td>NaN</td>\n",
       "      <td>NaN</td>\n",
       "      <td>NaN</td>\n",
       "      <td>NaN</td>\n",
       "      <td>NaN</td>\n",
       "      <td>NaN</td>\n",
       "      <td>NaN</td>\n",
       "      <td>NaN</td>\n",
       "      <td>NaN</td>\n",
       "      <td>NaN</td>\n",
       "      <td>NaN</td>\n",
       "      <td>NaN</td>\n",
       "      <td>NaN</td>\n",
       "      <td>NaN</td>\n",
       "      <td>NaN</td>\n",
       "      <td>NaN</td>\n",
       "      <td>NaN</td>\n",
       "      <td>NaN</td>\n",
       "      <td>NaN</td>\n",
       "      <td>NaN</td>\n",
       "      <td>NaN</td>\n",
       "      <td>NaN</td>\n",
       "      <td>NaN</td>\n",
       "      <td>NaN</td>\n",
       "      <td>NaN</td>\n",
       "      <td>NaN</td>\n",
       "      <td>NaN</td>\n",
       "      <td>NaN</td>\n",
       "      <td>NaN</td>\n",
       "      <td>NaN</td>\n",
       "      <td>NaN</td>\n",
       "      <td>NaN</td>\n",
       "      <td>NaN</td>\n",
       "      <td>NaN</td>\n",
       "      <td>NaN</td>\n",
       "      <td>NaN</td>\n",
       "      <td>NaN</td>\n",
       "      <td>NaN</td>\n",
       "      <td>NaN</td>\n",
       "      <td>NaN</td>\n",
       "      <td>NaN</td>\n",
       "      <td>NaN</td>\n",
       "      <td>NaN</td>\n",
       "      <td>NaN</td>\n",
       "      <td>NaN</td>\n",
       "      <td>NaN</td>\n",
       "      <td>NaN</td>\n",
       "      <td>NaN</td>\n",
       "      <td>NaN</td>\n",
       "      <td>NaN</td>\n",
       "      <td>NaN</td>\n",
       "      <td>NaN</td>\n",
       "      <td>NaN</td>\n",
       "      <td>NaN</td>\n",
       "    </tr>\n",
       "    <tr>\n",
       "      <th>622053</th>\n",
       "      <td>Nigeria</td>\n",
       "      <td>NGA</td>\n",
       "      <td>SABER: (Education Management Information Systems) Policy Goal 3: Quality data</td>\n",
       "      <td>SABER.EMIS.GOAL3</td>\n",
       "      <td>NaN</td>\n",
       "      <td>NaN</td>\n",
       "      <td>NaN</td>\n",
       "      <td>NaN</td>\n",
       "      <td>NaN</td>\n",
       "      <td>NaN</td>\n",
       "      <td>NaN</td>\n",
       "      <td>NaN</td>\n",
       "      <td>NaN</td>\n",
       "      <td>NaN</td>\n",
       "      <td>NaN</td>\n",
       "      <td>NaN</td>\n",
       "      <td>NaN</td>\n",
       "      <td>NaN</td>\n",
       "      <td>NaN</td>\n",
       "      <td>NaN</td>\n",
       "      <td>NaN</td>\n",
       "      <td>NaN</td>\n",
       "      <td>NaN</td>\n",
       "      <td>NaN</td>\n",
       "      <td>NaN</td>\n",
       "      <td>NaN</td>\n",
       "      <td>NaN</td>\n",
       "      <td>NaN</td>\n",
       "      <td>NaN</td>\n",
       "      <td>NaN</td>\n",
       "      <td>NaN</td>\n",
       "      <td>NaN</td>\n",
       "      <td>NaN</td>\n",
       "      <td>NaN</td>\n",
       "      <td>NaN</td>\n",
       "      <td>NaN</td>\n",
       "      <td>NaN</td>\n",
       "      <td>NaN</td>\n",
       "      <td>NaN</td>\n",
       "      <td>NaN</td>\n",
       "      <td>NaN</td>\n",
       "      <td>NaN</td>\n",
       "      <td>NaN</td>\n",
       "      <td>NaN</td>\n",
       "      <td>NaN</td>\n",
       "      <td>NaN</td>\n",
       "      <td>NaN</td>\n",
       "      <td>NaN</td>\n",
       "      <td>NaN</td>\n",
       "      <td>NaN</td>\n",
       "      <td>NaN</td>\n",
       "      <td>NaN</td>\n",
       "      <td>NaN</td>\n",
       "      <td>NaN</td>\n",
       "      <td>NaN</td>\n",
       "      <td>NaN</td>\n",
       "      <td>NaN</td>\n",
       "      <td>NaN</td>\n",
       "      <td>NaN</td>\n",
       "      <td>NaN</td>\n",
       "      <td>NaN</td>\n",
       "      <td>NaN</td>\n",
       "      <td>NaN</td>\n",
       "      <td>NaN</td>\n",
       "      <td>NaN</td>\n",
       "      <td>NaN</td>\n",
       "      <td>NaN</td>\n",
       "      <td>NaN</td>\n",
       "      <td>NaN</td>\n",
       "      <td>NaN</td>\n",
       "    </tr>\n",
       "  </tbody>\n",
       "</table>\n",
       "</div>"
      ],
      "text/plain": [
       "       Country Name Country Code  \\\n",
       "778810       Sweden          SWE   \n",
       "622053      Nigeria          NGA   \n",
       "\n",
       "                                                                                                          Indicator Name  \\\n",
       "778810  PASEC: Mean performance on the mathematics scale for 6th grade students who did not attend pre-primary education   \n",
       "622053                                     SABER: (Education Management Information Systems) Policy Goal 3: Quality data   \n",
       "\n",
       "            Indicator Code  1970  1971  1972  1973  1974  1975  1976  1977  \\\n",
       "778810  LO.PASEC.MAT.6.NPP   NaN   NaN   NaN   NaN   NaN   NaN   NaN   NaN   \n",
       "622053    SABER.EMIS.GOAL3   NaN   NaN   NaN   NaN   NaN   NaN   NaN   NaN   \n",
       "\n",
       "        1978  1979  1980  1981  1982  1983  1984  1985  1986  1987  1988  \\\n",
       "778810   NaN   NaN   NaN   NaN   NaN   NaN   NaN   NaN   NaN   NaN   NaN   \n",
       "622053   NaN   NaN   NaN   NaN   NaN   NaN   NaN   NaN   NaN   NaN   NaN   \n",
       "\n",
       "        1989  1990  1991  1992  1993  1994  1995  1996  1997  1998  1999  \\\n",
       "778810   NaN   NaN   NaN   NaN   NaN   NaN   NaN   NaN   NaN   NaN   NaN   \n",
       "622053   NaN   NaN   NaN   NaN   NaN   NaN   NaN   NaN   NaN   NaN   NaN   \n",
       "\n",
       "        2000  2001  2002  2003  2004  2005  2006  2007  2008  2009  2010  \\\n",
       "778810   NaN   NaN   NaN   NaN   NaN   NaN   NaN   NaN   NaN   NaN   NaN   \n",
       "622053   NaN   NaN   NaN   NaN   NaN   NaN   NaN   NaN   NaN   NaN   NaN   \n",
       "\n",
       "        2011  2012  2013  2014  2015  2016  2017  2020  2025  2030  2035  \\\n",
       "778810   NaN   NaN   NaN   NaN   NaN   NaN   NaN   NaN   NaN   NaN   NaN   \n",
       "622053   NaN   NaN   NaN   NaN   NaN   NaN   NaN   NaN   NaN   NaN   NaN   \n",
       "\n",
       "        2040  2045  2050  2055  2060  2065  2070  2075  2080  2085  2090  \\\n",
       "778810   NaN   NaN   NaN   NaN   NaN   NaN   NaN   NaN   NaN   NaN   NaN   \n",
       "622053   NaN   NaN   NaN   NaN   NaN   NaN   NaN   NaN   NaN   NaN   NaN   \n",
       "\n",
       "        2095  2100  Unnamed: 69  \n",
       "778810   NaN   NaN          NaN  \n",
       "622053   NaN   NaN          NaN  "
      ]
     },
     "execution_count": 6,
     "metadata": {},
     "output_type": "execute_result"
    }
   ],
   "source": [
    "df_stats = pd.read_csv('data/EdStatsData.csv')\n",
    "df_stats.sample(2)"
   ]
  },
  {
   "cell_type": "code",
   "execution_count": 7,
   "id": "8533fd07-feaf-4776-b0ef-d1d0a4f7a39b",
   "metadata": {},
   "outputs": [
    {
     "name": "stdout",
     "output_type": "stream",
     "text": [
      "﻿\"Country Name\",\"Country Code\",\"Indicator Name\",\"Indicator Code\",\"1970\",\"1971\",\"1972\",\"1973\",\"1974\",\"1975\",\"1976\",\"1977\",\"1978\",\"1979\",\"1980\",\"1981\",\"1982\",\"1983\",\"1984\",\"1985\",\"1986\",\"1987\",\"1988\",\"1989\",\"1990\",\"1991\",\"1992\",\"1993\",\"1994\",\"1995\",\"1996\",\"1997\",\"1998\",\"1999\",\"2000\",\"2001\",\"2002\",\"2003\",\"2004\",\"2005\",\"2006\",\"2007\",\"2008\",\"2009\",\"2010\",\"2011\",\"2012\",\"2013\",\"2014\",\"2015\",\"2016\",\"2017\",\"2020\",\"2025\",\"2030\",\"2035\",\"2040\",\"2045\",\"2050\",\"2055\",\"2060\",\"2065\",\"2070\",\"2075\",\"2080\",\"2085\",\"2090\",\"2095\",\"2100\",\n"
     ]
    }
   ],
   "source": [
    "!head -1 data/EdStatsData.csv"
   ]
  },
  {
   "cell_type": "markdown",
   "id": "a6ccf0d7-fd96-4054-a83b-4f9f0efa2834",
   "metadata": {},
   "source": [
    "> La colonne \"Unnamed: 69\" s'explique par la présence d'un séparateur à la fin de chaque ligne. Il s'agit d'un soucis de formatage du fichier csv."
   ]
  },
  {
   "cell_type": "code",
   "execution_count": 8,
   "id": "a7c086e7-0482-497c-b7ed-cffeaea5f884",
   "metadata": {},
   "outputs": [],
   "source": [
    "df_stats = df_stats.drop(columns='Unnamed: 69')"
   ]
  },
  {
   "cell_type": "markdown",
   "id": "28cfde5c",
   "metadata": {},
   "source": [
    "### Description des données"
   ]
  },
  {
   "cell_type": "markdown",
   "id": "f03d9acd",
   "metadata": {},
   "source": [
    "| Variables | Définition |\n",
    "| --- | --- |\n",
    "| Country Name | Nom du pays (ou de la région) |\n",
    "| Country Code | Code du pays |\n",
    "| Indicator Name | Nom de l'indicateur |\n",
    "| Indicator Code | Code de l'indicateur |\n",
    "| 1970-2100 | Valeurs par années |"
   ]
  },
  {
   "cell_type": "code",
   "execution_count": 9,
   "id": "efa9bb1c",
   "metadata": {
    "scrolled": true,
    "tags": []
   },
   "outputs": [
    {
     "name": "stdout",
     "output_type": "stream",
     "text": [
      "\n",
      "EdStatsData\n",
      "----------------------------------\n",
      "886930 entrées et 69 variables.\n",
      "Absence de données dupliquées.\n",
      "242 Country Code référencés.\n",
      "3665 indicateurs uniques.\n",
      "\n"
     ]
    }
   ],
   "source": [
    "print(\"\")\n",
    "print(\"EdStatsData\")\n",
    "print(\"----------------------------------\")\n",
    "print(\"{} entrées et {} variables.\".format(df_stats.shape[0],df_stats.shape[1]))\n",
    "\n",
    "duplicates = df_stats.duplicated(subset=[\"Country Code\",\"Indicator Code\"], keep='first')\n",
    "if duplicates.any():\n",
    "    print(\"Présence de données dupliquées.\")\n",
    "else:\n",
    "    print(\"Absence de données dupliquées.\")\n",
    "\n",
    "print(\"{} Country Code référencés.\".format(len(df_stats['Country Code'].unique())))\n",
    "print(\"{} indicateurs uniques.\".format(len(df_stats['Indicator Code'].unique())))\n",
    "print(\"\")"
   ]
  },
  {
   "cell_type": "markdown",
   "id": "c4c603df-178c-49ba-8c39-ace4eed42c80",
   "metadata": {},
   "source": [
    "### Données manquantes"
   ]
  },
  {
   "cell_type": "code",
   "execution_count": 10,
   "id": "f0cc74fa-f7e4-46c7-9c6c-ed49811c1285",
   "metadata": {},
   "outputs": [
    {
     "data": {
      "image/png": "[encoded data removed]",
      "text/plain": [
       "<Figure size 1440x576 with 1 Axes>"
      ]
     },
     "metadata": {},
     "output_type": "display_data"
    }
   ],
   "source": [
    "plt.figure(figsize=(20, 8))\n",
    "ax = sns.countplot(data=df_stats, palette=\"GnBu_r\")\n",
    "ax.set_title('Nombre de données non nulles par années')\n",
    "ax.tick_params(axis='x', labelrotation=90)\n",
    "plt.show()"
   ]
  },
  {
   "cell_type": "markdown",
   "id": "14097883-8efa-492b-b21d-a65b2745aa2c",
   "metadata": {},
   "source": [
    "Les années 2016 et 2017 ne présente pas un nombre de données suffisantes. Les années de 2020 à 2100 semblent être des données prédictives.\n",
    "> Nous allons garder comme plage d'année **2000 à 2015** au vu du nombre de leurs valeurs nulles.  "
   ]
  },
  {
   "cell_type": "markdown",
   "id": "aafdfd4c",
   "metadata": {
    "tags": []
   },
   "source": [
    "## Données EdStatsSeries"
   ]
  },
  {
   "cell_type": "markdown",
   "id": "13987e64",
   "metadata": {},
   "source": [
    "EdStatsSeries contient des informations sur les indicateurs. Nous allons voir quelles informations peuvent être retenus pour nous aider dans le traitement de nos indicateurs."
   ]
  },
  {
   "cell_type": "code",
   "execution_count": 11,
   "id": "b7481e51",
   "metadata": {
    "scrolled": true
   },
   "outputs": [
    {
     "data": {
      "text/html": [
       "<div>\n",
       "<style scoped>\n",
       "    .dataframe tbody tr th:only-of-type {\n",
       "        vertical-align: middle;\n",
       "    }\n",
       "\n",
       "    .dataframe tbody tr th {\n",
       "        vertical-align: top;\n",
       "    }\n",
       "\n",
       "    .dataframe thead th {\n",
       "        text-align: right;\n",
       "    }\n",
       "</style>\n",
       "<table border=\"1\" class=\"dataframe\">\n",
       "  <thead>\n",
       "    <tr style=\"text-align: right;\">\n",
       "      <th></th>\n",
       "      <th>Series Code</th>\n",
       "      <th>Topic</th>\n",
       "      <th>Indicator Name</th>\n",
       "      <th>Short definition</th>\n",
       "      <th>Long definition</th>\n",
       "      <th>Unit of measure</th>\n",
       "      <th>Periodicity</th>\n",
       "      <th>Base Period</th>\n",
       "      <th>Other notes</th>\n",
       "      <th>Aggregation method</th>\n",
       "      <th>Limitations and exceptions</th>\n",
       "      <th>Notes from original source</th>\n",
       "      <th>General comments</th>\n",
       "      <th>Source</th>\n",
       "      <th>Statistical concept and methodology</th>\n",
       "      <th>Development relevance</th>\n",
       "      <th>Related source links</th>\n",
       "      <th>Other web links</th>\n",
       "      <th>Related indicators</th>\n",
       "      <th>License Type</th>\n",
       "      <th>Unnamed: 20</th>\n",
       "    </tr>\n",
       "  </thead>\n",
       "  <tbody>\n",
       "    <tr>\n",
       "      <th>0</th>\n",
       "      <td>BAR.NOED.1519.FE.ZS</td>\n",
       "      <td>Attainment</td>\n",
       "      <td>Barro-Lee: Percentage of female population age 15-19 with no education</td>\n",
       "      <td>Percentage of female population age 15-19 with no education</td>\n",
       "      <td>Percentage of female population age 15-19 with no education</td>\n",
       "      <td>NaN</td>\n",
       "      <td>NaN</td>\n",
       "      <td>NaN</td>\n",
       "      <td>NaN</td>\n",
       "      <td>NaN</td>\n",
       "      <td>NaN</td>\n",
       "      <td>NaN</td>\n",
       "      <td>NaN</td>\n",
       "      <td>Robert J. Barro and Jong-Wha Lee: http://www.barrolee.com/</td>\n",
       "      <td>NaN</td>\n",
       "      <td>NaN</td>\n",
       "      <td>NaN</td>\n",
       "      <td>NaN</td>\n",
       "      <td>NaN</td>\n",
       "      <td>NaN</td>\n",
       "      <td>NaN</td>\n",
       "    </tr>\n",
       "    <tr>\n",
       "      <th>1</th>\n",
       "      <td>BAR.NOED.1519.ZS</td>\n",
       "      <td>Attainment</td>\n",
       "      <td>Barro-Lee: Percentage of population age 15-19 with no education</td>\n",
       "      <td>Percentage of population age 15-19 with no education</td>\n",
       "      <td>Percentage of population age 15-19 with no education</td>\n",
       "      <td>NaN</td>\n",
       "      <td>NaN</td>\n",
       "      <td>NaN</td>\n",
       "      <td>NaN</td>\n",
       "      <td>NaN</td>\n",
       "      <td>NaN</td>\n",
       "      <td>NaN</td>\n",
       "      <td>NaN</td>\n",
       "      <td>Robert J. Barro and Jong-Wha Lee: http://www.barrolee.com/</td>\n",
       "      <td>NaN</td>\n",
       "      <td>NaN</td>\n",
       "      <td>NaN</td>\n",
       "      <td>NaN</td>\n",
       "      <td>NaN</td>\n",
       "      <td>NaN</td>\n",
       "      <td>NaN</td>\n",
       "    </tr>\n",
       "  </tbody>\n",
       "</table>\n",
       "</div>"
      ],
      "text/plain": [
       "           Series Code       Topic  \\\n",
       "0  BAR.NOED.1519.FE.ZS  Attainment   \n",
       "1     BAR.NOED.1519.ZS  Attainment   \n",
       "\n",
       "                                                           Indicator Name  \\\n",
       "0  Barro-Lee: Percentage of female population age 15-19 with no education   \n",
       "1         Barro-Lee: Percentage of population age 15-19 with no education   \n",
       "\n",
       "                                              Short definition  \\\n",
       "0  Percentage of female population age 15-19 with no education   \n",
       "1         Percentage of population age 15-19 with no education   \n",
       "\n",
       "                                               Long definition  \\\n",
       "0  Percentage of female population age 15-19 with no education   \n",
       "1         Percentage of population age 15-19 with no education   \n",
       "\n",
       "   Unit of measure Periodicity Base Period Other notes Aggregation method  \\\n",
       "0              NaN         NaN         NaN         NaN                NaN   \n",
       "1              NaN         NaN         NaN         NaN                NaN   \n",
       "\n",
       "  Limitations and exceptions  Notes from original source General comments  \\\n",
       "0                        NaN                         NaN              NaN   \n",
       "1                        NaN                         NaN              NaN   \n",
       "\n",
       "                                                       Source  \\\n",
       "0  Robert J. Barro and Jong-Wha Lee: http://www.barrolee.com/   \n",
       "1  Robert J. Barro and Jong-Wha Lee: http://www.barrolee.com/   \n",
       "\n",
       "  Statistical concept and methodology Development relevance  \\\n",
       "0                                 NaN                   NaN   \n",
       "1                                 NaN                   NaN   \n",
       "\n",
       "  Related source links  Other web links  Related indicators  License Type  \\\n",
       "0                  NaN              NaN                 NaN           NaN   \n",
       "1                  NaN              NaN                 NaN           NaN   \n",
       "\n",
       "   Unnamed: 20  \n",
       "0          NaN  \n",
       "1          NaN  "
      ]
     },
     "execution_count": 11,
     "metadata": {},
     "output_type": "execute_result"
    }
   ],
   "source": [
    "df_stats_series = pd.read_csv('data/EdStatsSeries.csv')\n",
    "df_stats_series.head(2)"
   ]
  },
  {
   "cell_type": "code",
   "execution_count": 12,
   "id": "d9053f99-cd7f-4b45-aff0-707c0438520e",
   "metadata": {},
   "outputs": [
    {
     "name": "stdout",
     "output_type": "stream",
     "text": [
      "﻿\"Series Code\",\"Topic\",\"Indicator Name\",\"Short definition\",\"Long definition\",\"Unit of measure\",\"Periodicity\",\"Base Period\",\"Other notes\",\"Aggregation method\",\"Limitations and exceptions\",\"Notes from original source\",\"General comments\",\"Source\",\"Statistical concept and methodology\",\"Development relevance\",\"Related source links\",\"Other web links\",\"Related indicators\",\"License Type\",\n"
     ]
    }
   ],
   "source": [
    "!head -1 data/EdStatsSeries.csv"
   ]
  },
  {
   "cell_type": "code",
   "execution_count": 13,
   "id": "c20703a1-24a4-4fa8-b151-5609385ae523",
   "metadata": {},
   "outputs": [],
   "source": [
    "df_stats_series = df_stats_series.drop(columns='Unnamed: 20')"
   ]
  },
  {
   "cell_type": "markdown",
   "id": "2bdb31ba",
   "metadata": {},
   "source": [
    "### Description des données"
   ]
  },
  {
   "cell_type": "code",
   "execution_count": 14,
   "id": "79535c8b",
   "metadata": {},
   "outputs": [
    {
     "name": "stdout",
     "output_type": "stream",
     "text": [
      "<class 'pandas.core.frame.DataFrame'>\n",
      "RangeIndex: 3665 entries, 0 to 3664\n",
      "Data columns (total 20 columns):\n",
      " #   Column                               Non-Null Count  Dtype  \n",
      "---  ------                               --------------  -----  \n",
      " 0   Series Code                          3665 non-null   object \n",
      " 1   Topic                                3665 non-null   object \n",
      " 2   Indicator Name                       3665 non-null   object \n",
      " 3   Short definition                     2156 non-null   object \n",
      " 4   Long definition                      3665 non-null   object \n",
      " 5   Unit of measure                      0 non-null      float64\n",
      " 6   Periodicity                          99 non-null     object \n",
      " 7   Base Period                          314 non-null    object \n",
      " 8   Other notes                          552 non-null    object \n",
      " 9   Aggregation method                   47 non-null     object \n",
      " 10  Limitations and exceptions           14 non-null     object \n",
      " 11  Notes from original source           0 non-null      float64\n",
      " 12  General comments                     14 non-null     object \n",
      " 13  Source                               3665 non-null   object \n",
      " 14  Statistical concept and methodology  23 non-null     object \n",
      " 15  Development relevance                3 non-null      object \n",
      " 16  Related source links                 215 non-null    object \n",
      " 17  Other web links                      0 non-null      float64\n",
      " 18  Related indicators                   0 non-null      float64\n",
      " 19  License Type                         0 non-null      float64\n",
      "dtypes: float64(5), object(15)\n",
      "memory usage: 572.8+ KB\n",
      "None\n",
      "\n",
      "EdStatsSeries\n",
      "----------------------------------\n",
      "3665 entrées et 20 variables.\n",
      "Absence de données dupliquées.\n",
      "Nombre de Topic : 37\n"
     ]
    }
   ],
   "source": [
    "print(df_stats_series.info())\n",
    "\n",
    "print(\"\")\n",
    "print(\"EdStatsSeries\")\n",
    "print(\"----------------------------------\")\n",
    "print(\"{} entrées et {} variables.\".format(df_stats_series.shape[0],df_stats_series.shape[1]))\n",
    "\n",
    "duplicates = df_stats_series.duplicated(subset=[\"Series Code\"], keep='first')\n",
    "if duplicates.any():\n",
    "    print(\"Présence de données dupliquées.\")\n",
    "else:\n",
    "    print(\"Absence de données dupliquées.\")\n",
    "\n",
    "print(\"Nombre de Topic : {}\".format(len(df_stats_series['Topic'].unique())))"
   ]
  },
  {
   "cell_type": "markdown",
   "id": "7350dbf5-d4cb-420a-b729-8502598c1068",
   "metadata": {},
   "source": [
    "### Données manquantes"
   ]
  },
  {
   "cell_type": "markdown",
   "id": "2d9426e9-c2ae-4bd4-8d8b-0032345c6942",
   "metadata": {},
   "source": [
    "Nous gardons les colonnes qui contiennet suffisament de données."
   ]
  },
  {
   "cell_type": "code",
   "execution_count": 15,
   "id": "0efee238-18e8-495a-97f2-9fd62ea33363",
   "metadata": {},
   "outputs": [],
   "source": [
    "df_stats_series_selected = df_stats_series.drop(columns = df_stats_series.loc[:,'Unit of measure':'General comments'])\n",
    "df_stats_series_selected = df_stats_series_selected.drop(columns=df_stats_series_selected.loc[:,'Statistical concept and methodology':'License Type'])"
   ]
  },
  {
   "cell_type": "code",
   "execution_count": 16,
   "id": "8334c1f5-bf91-4f29-80d5-5319c10a5a5e",
   "metadata": {},
   "outputs": [
    {
     "data": {
      "text/html": [
       "<div>\n",
       "<style scoped>\n",
       "    .dataframe tbody tr th:only-of-type {\n",
       "        vertical-align: middle;\n",
       "    }\n",
       "\n",
       "    .dataframe tbody tr th {\n",
       "        vertical-align: top;\n",
       "    }\n",
       "\n",
       "    .dataframe thead th {\n",
       "        text-align: right;\n",
       "    }\n",
       "</style>\n",
       "<table border=\"1\" class=\"dataframe\">\n",
       "  <thead>\n",
       "    <tr style=\"text-align: right;\">\n",
       "      <th></th>\n",
       "      <th>Series Code</th>\n",
       "      <th>Topic</th>\n",
       "      <th>Indicator Name</th>\n",
       "      <th>Short definition</th>\n",
       "      <th>Long definition</th>\n",
       "      <th>Source</th>\n",
       "    </tr>\n",
       "  </thead>\n",
       "  <tbody>\n",
       "    <tr>\n",
       "      <th>0</th>\n",
       "      <td>BAR.NOED.1519.FE.ZS</td>\n",
       "      <td>Attainment</td>\n",
       "      <td>Barro-Lee: Percentage of female population age 15-19 with no education</td>\n",
       "      <td>Percentage of female population age 15-19 with no education</td>\n",
       "      <td>Percentage of female population age 15-19 with no education</td>\n",
       "      <td>Robert J. Barro and Jong-Wha Lee: http://www.barrolee.com/</td>\n",
       "    </tr>\n",
       "  </tbody>\n",
       "</table>\n",
       "</div>"
      ],
      "text/plain": [
       "           Series Code       Topic  \\\n",
       "0  BAR.NOED.1519.FE.ZS  Attainment   \n",
       "\n",
       "                                                           Indicator Name  \\\n",
       "0  Barro-Lee: Percentage of female population age 15-19 with no education   \n",
       "\n",
       "                                              Short definition  \\\n",
       "0  Percentage of female population age 15-19 with no education   \n",
       "\n",
       "                                               Long definition  \\\n",
       "0  Percentage of female population age 15-19 with no education   \n",
       "\n",
       "                                                       Source  \n",
       "0  Robert J. Barro and Jong-Wha Lee: http://www.barrolee.com/  "
      ]
     },
     "execution_count": 16,
     "metadata": {},
     "output_type": "execute_result"
    }
   ],
   "source": [
    "df_stats_series_selected.head(1)"
   ]
  },
  {
   "cell_type": "markdown",
   "id": "e1c8aaa1",
   "metadata": {
    "tags": []
   },
   "source": [
    "## Données EdStatsCountry"
   ]
  },
  {
   "cell_type": "code",
   "execution_count": 17,
   "id": "15210f2b-6351-4d39-8154-228e5333f6c8",
   "metadata": {},
   "outputs": [
    {
     "data": {
      "text/html": [
       "<div>\n",
       "<style scoped>\n",
       "    .dataframe tbody tr th:only-of-type {\n",
       "        vertical-align: middle;\n",
       "    }\n",
       "\n",
       "    .dataframe tbody tr th {\n",
       "        vertical-align: top;\n",
       "    }\n",
       "\n",
       "    .dataframe thead th {\n",
       "        text-align: right;\n",
       "    }\n",
       "</style>\n",
       "<table border=\"1\" class=\"dataframe\">\n",
       "  <thead>\n",
       "    <tr style=\"text-align: right;\">\n",
       "      <th></th>\n",
       "      <th>Country Code</th>\n",
       "      <th>Short Name</th>\n",
       "      <th>Table Name</th>\n",
       "      <th>Long Name</th>\n",
       "      <th>2-alpha code</th>\n",
       "      <th>Currency Unit</th>\n",
       "      <th>Special Notes</th>\n",
       "      <th>Region</th>\n",
       "      <th>Income Group</th>\n",
       "      <th>WB-2 code</th>\n",
       "      <th>National accounts base year</th>\n",
       "      <th>National accounts reference year</th>\n",
       "      <th>SNA price valuation</th>\n",
       "      <th>Lending category</th>\n",
       "      <th>Other groups</th>\n",
       "      <th>System of National Accounts</th>\n",
       "      <th>Alternative conversion factor</th>\n",
       "      <th>PPP survey year</th>\n",
       "      <th>Balance of Payments Manual in use</th>\n",
       "      <th>External debt Reporting status</th>\n",
       "      <th>System of trade</th>\n",
       "      <th>Government Accounting concept</th>\n",
       "      <th>IMF data dissemination standard</th>\n",
       "      <th>Latest population census</th>\n",
       "      <th>Latest household survey</th>\n",
       "      <th>Source of most recent Income and expenditure data</th>\n",
       "      <th>Vital registration complete</th>\n",
       "      <th>Latest agricultural census</th>\n",
       "      <th>Latest industrial data</th>\n",
       "      <th>Latest trade data</th>\n",
       "      <th>Latest water withdrawal data</th>\n",
       "      <th>Unnamed: 31</th>\n",
       "    </tr>\n",
       "  </thead>\n",
       "  <tbody>\n",
       "    <tr>\n",
       "      <th>0</th>\n",
       "      <td>ABW</td>\n",
       "      <td>Aruba</td>\n",
       "      <td>Aruba</td>\n",
       "      <td>Aruba</td>\n",
       "      <td>AW</td>\n",
       "      <td>Aruban florin</td>\n",
       "      <td>SNA data for 2000-2011 are updated from official government statistics; 1994-1999 from UN databases. Base year has changed from 1995 to 2000.</td>\n",
       "      <td>Latin America &amp; Caribbean</td>\n",
       "      <td>High income: nonOECD</td>\n",
       "      <td>AW</td>\n",
       "      <td>2000</td>\n",
       "      <td>NaN</td>\n",
       "      <td>Value added at basic prices (VAB)</td>\n",
       "      <td>NaN</td>\n",
       "      <td>NaN</td>\n",
       "      <td>Country uses the 1993 System of National Accounts methodology.</td>\n",
       "      <td>NaN</td>\n",
       "      <td>NaN</td>\n",
       "      <td>IMF Balance of Payments Manual, 6th edition.</td>\n",
       "      <td>NaN</td>\n",
       "      <td>Special trade system</td>\n",
       "      <td>NaN</td>\n",
       "      <td>NaN</td>\n",
       "      <td>2010</td>\n",
       "      <td>NaN</td>\n",
       "      <td>NaN</td>\n",
       "      <td>Yes</td>\n",
       "      <td>NaN</td>\n",
       "      <td>NaN</td>\n",
       "      <td>2012.0</td>\n",
       "      <td>NaN</td>\n",
       "      <td>NaN</td>\n",
       "    </tr>\n",
       "    <tr>\n",
       "      <th>1</th>\n",
       "      <td>AFG</td>\n",
       "      <td>Afghanistan</td>\n",
       "      <td>Afghanistan</td>\n",
       "      <td>Islamic State of Afghanistan</td>\n",
       "      <td>AF</td>\n",
       "      <td>Afghan afghani</td>\n",
       "      <td>Fiscal year end: March 20; reporting period for national accounts data: FY (from 2013 are CY). National accounts data are sourced from the IMF and differ from the Central Statistics Organization numbers due to exclusion of the opium economy.</td>\n",
       "      <td>South Asia</td>\n",
       "      <td>Low income</td>\n",
       "      <td>AF</td>\n",
       "      <td>2002/03</td>\n",
       "      <td>NaN</td>\n",
       "      <td>Value added at basic prices (VAB)</td>\n",
       "      <td>IDA</td>\n",
       "      <td>HIPC</td>\n",
       "      <td>Country uses the 1993 System of National Accounts methodology.</td>\n",
       "      <td>NaN</td>\n",
       "      <td>NaN</td>\n",
       "      <td>NaN</td>\n",
       "      <td>Actual</td>\n",
       "      <td>General trade system</td>\n",
       "      <td>Consolidated central government</td>\n",
       "      <td>General Data Dissemination System (GDDS)</td>\n",
       "      <td>1979</td>\n",
       "      <td>Multiple Indicator Cluster Survey (MICS), 2010/11</td>\n",
       "      <td>Integrated household survey (IHS), 2008</td>\n",
       "      <td>NaN</td>\n",
       "      <td>2013/14</td>\n",
       "      <td>NaN</td>\n",
       "      <td>2012.0</td>\n",
       "      <td>2000</td>\n",
       "      <td>NaN</td>\n",
       "    </tr>\n",
       "  </tbody>\n",
       "</table>\n",
       "</div>"
      ],
      "text/plain": [
       "  Country Code   Short Name   Table Name                     Long Name  \\\n",
       "0          ABW        Aruba        Aruba                         Aruba   \n",
       "1          AFG  Afghanistan  Afghanistan  Islamic State of Afghanistan   \n",
       "\n",
       "  2-alpha code   Currency Unit  \\\n",
       "0           AW   Aruban florin   \n",
       "1           AF  Afghan afghani   \n",
       "\n",
       "                                                                                                                                                                                                                                       Special Notes  \\\n",
       "0                                                                                                      SNA data for 2000-2011 are updated from official government statistics; 1994-1999 from UN databases. Base year has changed from 1995 to 2000.   \n",
       "1  Fiscal year end: March 20; reporting period for national accounts data: FY (from 2013 are CY). National accounts data are sourced from the IMF and differ from the Central Statistics Organization numbers due to exclusion of the opium economy.   \n",
       "\n",
       "                      Region          Income Group WB-2 code  \\\n",
       "0  Latin America & Caribbean  High income: nonOECD        AW   \n",
       "1                 South Asia            Low income        AF   \n",
       "\n",
       "  National accounts base year  National accounts reference year  \\\n",
       "0                        2000                               NaN   \n",
       "1                     2002/03                               NaN   \n",
       "\n",
       "                 SNA price valuation Lending category Other groups  \\\n",
       "0  Value added at basic prices (VAB)              NaN          NaN   \n",
       "1  Value added at basic prices (VAB)              IDA         HIPC   \n",
       "\n",
       "                                      System of National Accounts  \\\n",
       "0  Country uses the 1993 System of National Accounts methodology.   \n",
       "1  Country uses the 1993 System of National Accounts methodology.   \n",
       "\n",
       "  Alternative conversion factor PPP survey year  \\\n",
       "0                           NaN             NaN   \n",
       "1                           NaN             NaN   \n",
       "\n",
       "              Balance of Payments Manual in use  \\\n",
       "0  IMF Balance of Payments Manual, 6th edition.   \n",
       "1                                           NaN   \n",
       "\n",
       "  External debt Reporting status       System of trade  \\\n",
       "0                            NaN  Special trade system   \n",
       "1                         Actual  General trade system   \n",
       "\n",
       "     Government Accounting concept           IMF data dissemination standard  \\\n",
       "0                              NaN                                       NaN   \n",
       "1  Consolidated central government  General Data Dissemination System (GDDS)   \n",
       "\n",
       "  Latest population census                            Latest household survey  \\\n",
       "0                     2010                                                NaN   \n",
       "1                     1979  Multiple Indicator Cluster Survey (MICS), 2010/11   \n",
       "\n",
       "  Source of most recent Income and expenditure data  \\\n",
       "0                                               NaN   \n",
       "1           Integrated household survey (IHS), 2008   \n",
       "\n",
       "  Vital registration complete Latest agricultural census  \\\n",
       "0                         Yes                        NaN   \n",
       "1                         NaN                    2013/14   \n",
       "\n",
       "   Latest industrial data  Latest trade data Latest water withdrawal data  \\\n",
       "0                     NaN             2012.0                          NaN   \n",
       "1                     NaN             2012.0                         2000   \n",
       "\n",
       "   Unnamed: 31  \n",
       "0          NaN  \n",
       "1          NaN  "
      ]
     },
     "execution_count": 17,
     "metadata": {},
     "output_type": "execute_result"
    }
   ],
   "source": [
    "df_country = pd.read_csv('data/EdStatsCountry.csv')\n",
    "df_country.head(2)"
   ]
  },
  {
   "cell_type": "code",
   "execution_count": 18,
   "id": "b0927c0c-dc62-4a77-adb9-333746eed0c1",
   "metadata": {},
   "outputs": [
    {
     "name": "stdout",
     "output_type": "stream",
     "text": [
      "﻿\"Country Code\",\"Short Name\",\"Table Name\",\"Long Name\",\"2-alpha code\",\"Currency Unit\",\"Special Notes\",\"Region\",\"Income Group\",\"WB-2 code\",\"National accounts base year\",\"National accounts reference year\",\"SNA price valuation\",\"Lending category\",\"Other groups\",\"System of National Accounts\",\"Alternative conversion factor\",\"PPP survey year\",\"Balance of Payments Manual in use\",\"External debt Reporting status\",\"System of trade\",\"Government Accounting concept\",\"IMF data dissemination standard\",\"Latest population census\",\"Latest household survey\",\"Source of most recent Income and expenditure data\",\"Vital registration complete\",\"Latest agricultural census\",\"Latest industrial data\",\"Latest trade data\",\"Latest water withdrawal data\",\n"
     ]
    }
   ],
   "source": [
    "!head -1 data/EdStatsCountry.csv"
   ]
  },
  {
   "cell_type": "code",
   "execution_count": 19,
   "id": "16690538-a15e-4d86-8719-5794907c9458",
   "metadata": {},
   "outputs": [],
   "source": [
    "df_country = df_country.drop(columns='Unnamed: 31')"
   ]
  },
  {
   "cell_type": "markdown",
   "id": "93cda745",
   "metadata": {},
   "source": [
    "### Description des données"
   ]
  },
  {
   "cell_type": "code",
   "execution_count": 20,
   "id": "2e4108c5",
   "metadata": {},
   "outputs": [
    {
     "name": "stdout",
     "output_type": "stream",
     "text": [
      "<class 'pandas.core.frame.DataFrame'>\n",
      "RangeIndex: 241 entries, 0 to 240\n",
      "Data columns (total 31 columns):\n",
      " #   Column                                             Non-Null Count  Dtype  \n",
      "---  ------                                             --------------  -----  \n",
      " 0   Country Code                                       241 non-null    object \n",
      " 1   Short Name                                         241 non-null    object \n",
      " 2   Table Name                                         241 non-null    object \n",
      " 3   Long Name                                          241 non-null    object \n",
      " 4   2-alpha code                                       238 non-null    object \n",
      " 5   Currency Unit                                      215 non-null    object \n",
      " 6   Special Notes                                      145 non-null    object \n",
      " 7   Region                                             214 non-null    object \n",
      " 8   Income Group                                       214 non-null    object \n",
      " 9   WB-2 code                                          240 non-null    object \n",
      " 10  National accounts base year                        205 non-null    object \n",
      " 11  National accounts reference year                   32 non-null     float64\n",
      " 12  SNA price valuation                                197 non-null    object \n",
      " 13  Lending category                                   144 non-null    object \n",
      " 14  Other groups                                       58 non-null     object \n",
      " 15  System of National Accounts                        215 non-null    object \n",
      " 16  Alternative conversion factor                      47 non-null     object \n",
      " 17  PPP survey year                                    145 non-null    object \n",
      " 18  Balance of Payments Manual in use                  181 non-null    object \n",
      " 19  External debt Reporting status                     124 non-null    object \n",
      " 20  System of trade                                    200 non-null    object \n",
      " 21  Government Accounting concept                      161 non-null    object \n",
      " 22  IMF data dissemination standard                    181 non-null    object \n",
      " 23  Latest population census                           213 non-null    object \n",
      " 24  Latest household survey                            141 non-null    object \n",
      " 25  Source of most recent Income and expenditure data  160 non-null    object \n",
      " 26  Vital registration complete                        111 non-null    object \n",
      " 27  Latest agricultural census                         142 non-null    object \n",
      " 28  Latest industrial data                             107 non-null    float64\n",
      " 29  Latest trade data                                  185 non-null    float64\n",
      " 30  Latest water withdrawal data                       179 non-null    object \n",
      "dtypes: float64(3), object(28)\n",
      "memory usage: 58.5+ KB\n",
      "None\n",
      "\n",
      "EdStatsCountry\n",
      "----------------------------------\n",
      "241 entrées et 31 variables.\n",
      "Absence de données dupliquées.\n",
      "241 Country Code référencés.\n"
     ]
    }
   ],
   "source": [
    "print(df_country.info())\n",
    "\n",
    "print(\"\")\n",
    "print(\"EdStatsCountry\")\n",
    "print(\"----------------------------------\")\n",
    "print(\"{} entrées et {} variables.\".format(df_country.shape[0],df_country.shape[1]))\n",
    "\n",
    "duplicates = df_country.duplicated(subset=[\"Country Code\"], keep='first')\n",
    "if duplicates.any():\n",
    "    print(\"Présence de données dupliquées.\")\n",
    "else:\n",
    "    print(\"Absence de données dupliquées.\")\n",
    "\n",
    "print(\"{} Country Code référencés.\".format(len(df_country['Country Code'].unique())))"
   ]
  },
  {
   "cell_type": "markdown",
   "id": "264d4b8f",
   "metadata": {},
   "source": [
    "### Données manquantes"
   ]
  },
  {
   "cell_type": "code",
   "execution_count": 21,
   "id": "35bfbf67",
   "metadata": {},
   "outputs": [
    {
     "data": {
      "text/plain": [
       "Country Code                                           0\n",
       "Short Name                                             0\n",
       "Table Name                                             0\n",
       "Long Name                                              0\n",
       "2-alpha code                                           3\n",
       "Currency Unit                                         26\n",
       "Special Notes                                         96\n",
       "Region                                                27\n",
       "Income Group                                          27\n",
       "WB-2 code                                              1\n",
       "National accounts base year                           36\n",
       "National accounts reference year                     209\n",
       "SNA price valuation                                   44\n",
       "Lending category                                      97\n",
       "Other groups                                         183\n",
       "System of National Accounts                           26\n",
       "Alternative conversion factor                        194\n",
       "PPP survey year                                       96\n",
       "Balance of Payments Manual in use                     60\n",
       "External debt Reporting status                       117\n",
       "System of trade                                       41\n",
       "Government Accounting concept                         80\n",
       "IMF data dissemination standard                       60\n",
       "Latest population census                              28\n",
       "Latest household survey                              100\n",
       "Source of most recent Income and expenditure data     81\n",
       "Vital registration complete                          130\n",
       "Latest agricultural census                            99\n",
       "Latest industrial data                               134\n",
       "Latest trade data                                     56\n",
       "Latest water withdrawal data                          62\n",
       "dtype: int64"
      ]
     },
     "execution_count": 21,
     "metadata": {},
     "output_type": "execute_result"
    }
   ],
   "source": [
    "df_country.isnull().sum()"
   ]
  },
  {
   "cell_type": "markdown",
   "id": "139b61cf",
   "metadata": {},
   "source": [
    "> Nous observons qu'il y a 27 valeurs manquantes pour la variable \"Region\". Le nombre d'entrées est de 241, hors selon l'ONU, il y a 197 Etats dans le monde. La liste des \"Country\" sans nom de région, semblerai donc indiquer qu'il s'agit de régions."
   ]
  },
  {
   "cell_type": "markdown",
   "id": "da2caeac",
   "metadata": {},
   "source": [
    "**Données de régions :**"
   ]
  },
  {
   "cell_type": "code",
   "execution_count": 22,
   "id": "aa715ae3",
   "metadata": {},
   "outputs": [
    {
     "name": "stdout",
     "output_type": "stream",
     "text": [
      "\n",
      "Il y a 241 'Country Code' référencés.\n",
      "Nombre d'entreés ne possédant pas de région : 27\n",
      "\n",
      "Liste des income levels :\n",
      "----------------------------------\n",
      "High income\n",
      "Low income\n",
      "Lower middle income\n",
      "Low & middle income\n",
      "Middle income\n",
      "Upper middle income\n",
      "\n",
      "Liste des régions :\n",
      "----------------------------------\n",
      "Arab World\n",
      "East Asia & Pacific (developing only)\n",
      "East Asia & Pacific (all income levels)\n",
      "Europe & Central Asia (developing only)\n",
      "Europe & Central Asia (all income levels)\n",
      "Euro area\n",
      "European Union\n",
      "Gibraltar\n",
      "Heavily indebted poor countries (HIPC)\n",
      "Latin America & Caribbean (developing only)\n",
      "Latin America & Caribbean (all income levels)\n",
      "Least developed countries: UN classification\n",
      "Middle East & North Africa (all income levels)\n",
      "Middle East & North Africa (developing only)\n",
      "North America\n",
      "Nauru\n",
      "OECD members\n",
      "South Asia\n",
      "Sub-Saharan Africa (developing only)\n",
      "Sub-Saharan Africa (all income levels)\n",
      "World\n"
     ]
    }
   ],
   "source": [
    "list_region_income_group = df_country[df_country['Region'].isnull()]['Short Name'].unique()\n",
    "\n",
    "list_income_groups = [x for x in list_region_income_group if x.endswith('income')]\n",
    "list_regions = [x for x in list_region_income_group if not x.endswith('income')]\n",
    "\n",
    "print(\"\")\n",
    "print(\"Il y a {} 'Country Code' référencés.\".format(len(df_country['Country Code'].unique())))\n",
    "print(\"Nombre d'entreés ne possédant pas de région : {}\".format(len(list_region_income_group)))\n",
    "\n",
    "print(\"\")\n",
    "print(\"Liste des income levels :\")\n",
    "print(\"----------------------------------\")\n",
    "print(*list_income_groups, sep = \"\\n\")\n",
    "\n",
    "print(\"\")\n",
    "print(\"Liste des régions :\")\n",
    "print(\"----------------------------------\")\n",
    "print(*list_regions, sep = \"\\n\")"
   ]
  },
  {
   "cell_type": "code",
   "execution_count": 23,
   "id": "e3208f93",
   "metadata": {},
   "outputs": [
    {
     "name": "stdout",
     "output_type": "stream",
     "text": [
      "                       Region  Short Name\n",
      "1       Europe & Central Asia          57\n",
      "6          Sub-Saharan Africa          48\n",
      "2   Latin America & Caribbean          41\n",
      "0         East Asia & Pacific          36\n",
      "3  Middle East & North Africa          21\n"
     ]
    }
   ],
   "source": [
    "country_by_income_grp = df_country.groupby('Income Group')[['Short Name']].count().reset_index()\n",
    "country_by_income_grp = country_by_income_grp.sort_values(by='Short Name', ascending=False)\n",
    "\n",
    "country_by_region = df_country.groupby('Region')[['Short Name']].count().reset_index()\n",
    "country_by_region = country_by_region.sort_values(by='Short Name', ascending=False)\n",
    "print(country_by_region.head(5))"
   ]
  },
  {
   "cell_type": "code",
   "execution_count": 24,
   "id": "426a42ea",
   "metadata": {},
   "outputs": [
    {
     "data": {
      "image/png": "[encoded data removed]",
      "text/plain": [
       "<Figure size 864x432 with 2 Axes>"
      ]
     },
     "metadata": {},
     "output_type": "display_data"
    }
   ],
   "source": [
    "plt.subplot(2,1,1)\n",
    "ax = sns.barplot(data=country_by_income_grp, x=\"Short Name\", y=\"Income Group\", palette=\"GnBu_r\")\n",
    "ax.set_title('Nombre de pays par groupe de richesse')\n",
    "ax.set(xlabel='Nombre de pays')\n",
    "\n",
    "for container in ax.containers:\n",
    "    ax.bar_label(container, padding = 4)\n",
    "\n",
    "plt.subplot(2,1,2)\n",
    "ax = sns.barplot(data=country_by_region, x=\"Short Name\", y=\"Region\", palette=\"GnBu_r\")\n",
    "ax.set_title('Nombre de spays par région')\n",
    "ax.set(xlabel='Nombre de pays')\n",
    "\n",
    "for container in ax.containers:\n",
    "    ax.bar_label(container, padding = 4)\n",
    "\n",
    "plt.subplots_adjust(top=1.2, hspace = 1, wspace = 1)\n",
    "plt.show()"
   ]
  },
  {
   "cell_type": "markdown",
   "id": "56e9e26b",
   "metadata": {},
   "source": [
    "> Nous pouvons utiliser les données **EdStatsCountry** pour segementer nos données **EdStatsData** par pays et par régions."
   ]
  },
  {
   "cell_type": "markdown",
   "id": "6517598b",
   "metadata": {
    "tags": []
   },
   "source": [
    "## Données EdStatsCountrySeries"
   ]
  },
  {
   "cell_type": "code",
   "execution_count": 25,
   "id": "a6cd1f98",
   "metadata": {},
   "outputs": [
    {
     "data": {
      "text/html": [
       "<div>\n",
       "<style scoped>\n",
       "    .dataframe tbody tr th:only-of-type {\n",
       "        vertical-align: middle;\n",
       "    }\n",
       "\n",
       "    .dataframe tbody tr th {\n",
       "        vertical-align: top;\n",
       "    }\n",
       "\n",
       "    .dataframe thead th {\n",
       "        text-align: right;\n",
       "    }\n",
       "</style>\n",
       "<table border=\"1\" class=\"dataframe\">\n",
       "  <thead>\n",
       "    <tr style=\"text-align: right;\">\n",
       "      <th></th>\n",
       "      <th>CountryCode</th>\n",
       "      <th>SeriesCode</th>\n",
       "      <th>DESCRIPTION</th>\n",
       "      <th>Unnamed: 3</th>\n",
       "    </tr>\n",
       "  </thead>\n",
       "  <tbody>\n",
       "    <tr>\n",
       "      <th>0</th>\n",
       "      <td>ABW</td>\n",
       "      <td>SP.POP.TOTL</td>\n",
       "      <td>Data sources : United Nations World Population Prospects</td>\n",
       "      <td>NaN</td>\n",
       "    </tr>\n",
       "    <tr>\n",
       "      <th>1</th>\n",
       "      <td>ABW</td>\n",
       "      <td>SP.POP.GROW</td>\n",
       "      <td>Data sources: United Nations World Population Prospects</td>\n",
       "      <td>NaN</td>\n",
       "    </tr>\n",
       "    <tr>\n",
       "      <th>2</th>\n",
       "      <td>AFG</td>\n",
       "      <td>SP.POP.GROW</td>\n",
       "      <td>Data sources: United Nations World Population Prospects</td>\n",
       "      <td>NaN</td>\n",
       "    </tr>\n",
       "    <tr>\n",
       "      <th>3</th>\n",
       "      <td>AFG</td>\n",
       "      <td>NY.GDP.PCAP.PP.CD</td>\n",
       "      <td>Estimates are based on regression.</td>\n",
       "      <td>NaN</td>\n",
       "    </tr>\n",
       "    <tr>\n",
       "      <th>4</th>\n",
       "      <td>AFG</td>\n",
       "      <td>SP.POP.TOTL</td>\n",
       "      <td>Data sources : United Nations World Population Prospects</td>\n",
       "      <td>NaN</td>\n",
       "    </tr>\n",
       "  </tbody>\n",
       "</table>\n",
       "</div>"
      ],
      "text/plain": [
       "  CountryCode         SeriesCode  \\\n",
       "0         ABW        SP.POP.TOTL   \n",
       "1         ABW        SP.POP.GROW   \n",
       "2         AFG        SP.POP.GROW   \n",
       "3         AFG  NY.GDP.PCAP.PP.CD   \n",
       "4         AFG        SP.POP.TOTL   \n",
       "\n",
       "                                                DESCRIPTION  Unnamed: 3  \n",
       "0  Data sources : United Nations World Population Prospects         NaN  \n",
       "1   Data sources: United Nations World Population Prospects         NaN  \n",
       "2   Data sources: United Nations World Population Prospects         NaN  \n",
       "3                        Estimates are based on regression.         NaN  \n",
       "4  Data sources : United Nations World Population Prospects         NaN  "
      ]
     },
     "execution_count": 25,
     "metadata": {},
     "output_type": "execute_result"
    }
   ],
   "source": [
    "df_country_series = pd.read_csv('data/EdStatsCountry-Series.csv')\n",
    "df_country_series.head()"
   ]
  },
  {
   "cell_type": "code",
   "execution_count": 26,
   "id": "16b8198d-9030-4035-b68f-11a3a4d4f78f",
   "metadata": {},
   "outputs": [
    {
     "name": "stdout",
     "output_type": "stream",
     "text": [
      "﻿\"CountryCode\",\"SeriesCode\",\"DESCRIPTION\",\n"
     ]
    }
   ],
   "source": [
    "!head -1 data/EdStatsCountry-Series.csv"
   ]
  },
  {
   "cell_type": "code",
   "execution_count": 27,
   "id": "8c796a52-9619-4dff-9a8b-0a62e9c4bde0",
   "metadata": {},
   "outputs": [],
   "source": [
    "df_country_series = df_country_series.drop(columns='Unnamed: 3')"
   ]
  },
  {
   "cell_type": "markdown",
   "id": "930f6b76",
   "metadata": {},
   "source": [
    "### Description des données"
   ]
  },
  {
   "cell_type": "code",
   "execution_count": 28,
   "id": "04a78a22",
   "metadata": {},
   "outputs": [
    {
     "name": "stdout",
     "output_type": "stream",
     "text": [
      "<class 'pandas.core.frame.DataFrame'>\n",
      "RangeIndex: 613 entries, 0 to 612\n",
      "Data columns (total 3 columns):\n",
      " #   Column       Non-Null Count  Dtype \n",
      "---  ------       --------------  ----- \n",
      " 0   CountryCode  613 non-null    object\n",
      " 1   SeriesCode   613 non-null    object\n",
      " 2   DESCRIPTION  613 non-null    object\n",
      "dtypes: object(3)\n",
      "memory usage: 14.5+ KB\n",
      "\n",
      "EdStatsCountry-Series\n",
      "----------------------------------\n",
      "613 entrées et 3 variables.\n",
      "Présence de données dupliquées.\n",
      "211 Country Code référencés.\n",
      "21 indicateurs uniques.\n"
     ]
    }
   ],
   "source": [
    "df_country_series.info()\n",
    "\n",
    "print(\"\")\n",
    "print(\"EdStatsCountry-Series\")\n",
    "print(\"----------------------------------\")\n",
    "print(\"{} entrées et {} variables.\".format(df_country_series.shape[0],df_country_series.shape[1]))\n",
    "\n",
    "duplicates = df_country_series.duplicated(subset=[\"CountryCode\"], keep='first')\n",
    "if duplicates.any():\n",
    "    print(\"Présence de données dupliquées.\")\n",
    "else:\n",
    "    print(\"Absence de données dupliquées.\")\n",
    "\n",
    "print(\"{} Country Code référencés.\".format(len(df_country_series['CountryCode'].unique())))\n",
    "\n",
    "list_country_series_code = list(df_country_series['SeriesCode'].unique())\n",
    "print(\"{} indicateurs uniques.\".format(len(list_country_series_code)))"
   ]
  },
  {
   "cell_type": "markdown",
   "id": "c79ce7ca-e820-4b04-97ff-9063816d33de",
   "metadata": {},
   "source": [
    "### Données manquantes"
   ]
  },
  {
   "cell_type": "code",
   "execution_count": 29,
   "id": "147c1920",
   "metadata": {},
   "outputs": [
    {
     "name": "stdout",
     "output_type": "stream",
     "text": [
      "['SP.POP.TOTL', 'SP.POP.GROW', 'NY.GDP.PCAP.PP.CD', 'NY.GDP.MKTP.PP.KD', 'NY.GNP.MKTP.PP.CD', 'NY.GDP.MKTP.PP.CD', 'NY.GDP.PCAP.PP.KD', 'NY.GNP.PCAP.PP.CD', 'SP.POP.1564.TO.ZS', 'SP.POP.TOTL.MA.ZS', 'SP.POP.TOTL.FE.ZS', 'SP.POP.0014.TO.ZS', 'NY.GNP.PCAP.CD', 'NY.GDP.PCAP.CD', 'NY.GDP.PCAP.KD', 'SP.POP.1564.MA.IN', 'SP.POP.0014.TO', 'SP.POP.1564.TO', 'SP.POP.1564.FE.IN', 'SP.POP.0014.MA.IN', 'SP.POP.0014.FE.IN']\n"
     ]
    }
   ],
   "source": [
    "# List of indicators\n",
    "print(list_country_series_code)"
   ]
  },
  {
   "cell_type": "code",
   "execution_count": 30,
   "id": "076d7ee4",
   "metadata": {},
   "outputs": [],
   "source": [
    "countries_by_indicator = df_country_series.groupby('SeriesCode').count().reset_index()\n",
    "countries_by_indicator = countries_by_indicator.sort_values(by='CountryCode', ascending=False)"
   ]
  },
  {
   "cell_type": "code",
   "execution_count": 31,
   "id": "8f87c485",
   "metadata": {},
   "outputs": [
    {
     "data": {
      "image/png": "[encoded data removed]",
      "text/plain": [
       "<Figure size 864x576 with 1 Axes>"
      ]
     },
     "metadata": {},
     "output_type": "display_data"
    }
   ],
   "source": [
    "plt.figure(figsize=(12,8))\n",
    "ax = sns.barplot(data=countries_by_indicator, x=\"CountryCode\", y=\"SeriesCode\", palette=\"GnBu_r\")\n",
    "ax.set_title('Nombre de pays par indicateur')\n",
    "ax.set(xlabel='Nombre de pays')\n",
    "\n",
    "for container in ax.containers:\n",
    "    ax.bar_label(container, padding = 4)\n",
    "\n",
    "plt.show()"
   ]
  },
  {
   "cell_type": "markdown",
   "id": "ae393a8a",
   "metadata": {},
   "source": [
    "> Nous garderons pour notre analyse les indicateurs **SP.POP.TOTL** et **SP.POP.GROW**."
   ]
  },
  {
   "cell_type": "code",
   "execution_count": 32,
   "id": "e839c3a6",
   "metadata": {},
   "outputs": [],
   "source": [
    "list_country_series_code.remove('SP.POP.TOTL')\n",
    "list_country_series_code.remove('SP.POP.GROW')\n",
    "\n",
    "df_stats_selected = df_stats[~df_stats['Indicator Code'].isin(list_country_series_code)]"
   ]
  },
  {
   "cell_type": "markdown",
   "id": "432467e4",
   "metadata": {
    "tags": []
   },
   "source": [
    "## Données EdStatsFootNote"
   ]
  },
  {
   "cell_type": "code",
   "execution_count": 33,
   "id": "5a32b3ac-3be7-4d11-9270-42c8d41e38f0",
   "metadata": {},
   "outputs": [
    {
     "data": {
      "text/html": [
       "<div>\n",
       "<style scoped>\n",
       "    .dataframe tbody tr th:only-of-type {\n",
       "        vertical-align: middle;\n",
       "    }\n",
       "\n",
       "    .dataframe tbody tr th {\n",
       "        vertical-align: top;\n",
       "    }\n",
       "\n",
       "    .dataframe thead th {\n",
       "        text-align: right;\n",
       "    }\n",
       "</style>\n",
       "<table border=\"1\" class=\"dataframe\">\n",
       "  <thead>\n",
       "    <tr style=\"text-align: right;\">\n",
       "      <th></th>\n",
       "      <th>CountryCode</th>\n",
       "      <th>SeriesCode</th>\n",
       "      <th>Year</th>\n",
       "      <th>DESCRIPTION</th>\n",
       "      <th>Unnamed: 4</th>\n",
       "    </tr>\n",
       "  </thead>\n",
       "  <tbody>\n",
       "    <tr>\n",
       "      <th>0</th>\n",
       "      <td>ABW</td>\n",
       "      <td>SE.PRE.ENRL.FE</td>\n",
       "      <td>YR2001</td>\n",
       "      <td>Country estimation.</td>\n",
       "      <td>NaN</td>\n",
       "    </tr>\n",
       "    <tr>\n",
       "      <th>1</th>\n",
       "      <td>ABW</td>\n",
       "      <td>SE.TER.TCHR.FE</td>\n",
       "      <td>YR2005</td>\n",
       "      <td>Country estimation.</td>\n",
       "      <td>NaN</td>\n",
       "    </tr>\n",
       "    <tr>\n",
       "      <th>2</th>\n",
       "      <td>ABW</td>\n",
       "      <td>SE.PRE.TCHR.FE</td>\n",
       "      <td>YR2000</td>\n",
       "      <td>Country estimation.</td>\n",
       "      <td>NaN</td>\n",
       "    </tr>\n",
       "    <tr>\n",
       "      <th>3</th>\n",
       "      <td>ABW</td>\n",
       "      <td>SE.SEC.ENRL.GC</td>\n",
       "      <td>YR2004</td>\n",
       "      <td>Country estimation.</td>\n",
       "      <td>NaN</td>\n",
       "    </tr>\n",
       "    <tr>\n",
       "      <th>4</th>\n",
       "      <td>ABW</td>\n",
       "      <td>SE.PRE.TCHR</td>\n",
       "      <td>YR2006</td>\n",
       "      <td>Country estimation.</td>\n",
       "      <td>NaN</td>\n",
       "    </tr>\n",
       "  </tbody>\n",
       "</table>\n",
       "</div>"
      ],
      "text/plain": [
       "  CountryCode      SeriesCode    Year          DESCRIPTION  Unnamed: 4\n",
       "0         ABW  SE.PRE.ENRL.FE  YR2001  Country estimation.         NaN\n",
       "1         ABW  SE.TER.TCHR.FE  YR2005  Country estimation.         NaN\n",
       "2         ABW  SE.PRE.TCHR.FE  YR2000  Country estimation.         NaN\n",
       "3         ABW  SE.SEC.ENRL.GC  YR2004  Country estimation.         NaN\n",
       "4         ABW     SE.PRE.TCHR  YR2006  Country estimation.         NaN"
      ]
     },
     "execution_count": 33,
     "metadata": {},
     "output_type": "execute_result"
    }
   ],
   "source": [
    "df_foot_note = pd.read_csv('data/EdStatsFootNote.csv')\n",
    "df_foot_note.head()"
   ]
  },
  {
   "cell_type": "code",
   "execution_count": 34,
   "id": "479bdea0-e72e-46d3-bf48-16ff1ee0176e",
   "metadata": {},
   "outputs": [
    {
     "name": "stdout",
     "output_type": "stream",
     "text": [
      "﻿\"CountryCode\",\"SeriesCode\",\"Year\",\"DESCRIPTION\",\n"
     ]
    }
   ],
   "source": [
    "!head -1 data/EdStatsFootNote.csv"
   ]
  },
  {
   "cell_type": "code",
   "execution_count": 35,
   "id": "1c9e0db7-ac2f-4904-bee1-97099bf2d965",
   "metadata": {},
   "outputs": [],
   "source": [
    "df_foot_note = df_foot_note.drop(columns='Unnamed: 4')"
   ]
  },
  {
   "cell_type": "markdown",
   "id": "2bf04b53",
   "metadata": {},
   "source": [
    "### Description des données"
   ]
  },
  {
   "cell_type": "code",
   "execution_count": 36,
   "id": "566caaa0",
   "metadata": {},
   "outputs": [
    {
     "name": "stdout",
     "output_type": "stream",
     "text": [
      "<class 'pandas.core.frame.DataFrame'>\n",
      "RangeIndex: 643638 entries, 0 to 643637\n",
      "Data columns (total 4 columns):\n",
      " #   Column       Non-Null Count   Dtype \n",
      "---  ------       --------------   ----- \n",
      " 0   CountryCode  643638 non-null  object\n",
      " 1   SeriesCode   643638 non-null  object\n",
      " 2   Year         643638 non-null  object\n",
      " 3   DESCRIPTION  643638 non-null  object\n",
      "dtypes: object(4)\n",
      "memory usage: 19.6+ MB\n",
      "None\n",
      "\n",
      "EdStatsFootNote\n",
      "----------------------------------\n",
      "643638 entrées et 4 variables.\n",
      "Présence de données dupliquées.\n",
      "239 Country Code référencés.\n",
      "1558 indicateurs uniques.\n"
     ]
    }
   ],
   "source": [
    "print(df_foot_note.info())\n",
    "\n",
    "print(\"\")\n",
    "print(\"EdStatsFootNote\")\n",
    "print(\"----------------------------------\")\n",
    "print(\"{} entrées et {} variables.\".format(df_foot_note.shape[0],df_foot_note.shape[1]))\n",
    "\n",
    "duplicates = df_foot_note.duplicated(subset=[\"CountryCode\"], keep='first')\n",
    "if True in list(duplicates.unique()):\n",
    "    print(\"Présence de données dupliquées.\")\n",
    "else:\n",
    "    print(\"Absence de données dupliquées.\")\n",
    "\n",
    "print(\"{} Country Code référencés.\".format(len(df_foot_note['CountryCode'].unique())))\n",
    "\n",
    "list_foot_note_series_code = list(df_foot_note['SeriesCode'].unique())\n",
    "print(\"{} indicateurs uniques.\".format(len(list_foot_note_series_code)))"
   ]
  },
  {
   "cell_type": "markdown",
   "id": "33bf5353-3419-4aef-96a4-62d379ac5ea1",
   "metadata": {},
   "source": [
    "### Répartition des données"
   ]
  },
  {
   "cell_type": "code",
   "execution_count": 37,
   "id": "4dec0b4c-7a28-4035-bc73-feae4be90740",
   "metadata": {},
   "outputs": [],
   "source": [
    "df_foot_note_by_year = df_foot_note\n",
    "df_foot_note_by_year['year_formated'] = df_foot_note_by_year['Year'].apply(lambda x : x[-4:]).astype('int')\n",
    "df_foot_note_by_year = df_foot_note_by_year.groupby('year_formated').count().reset_index()"
   ]
  },
  {
   "cell_type": "code",
   "execution_count": 38,
   "id": "94b3caab-56e4-4910-a630-1bb8df890b15",
   "metadata": {},
   "outputs": [
    {
     "data": {
      "image/png": "[encoded data removed]",
      "text/plain": [
       "<Figure size 1440x576 with 1 Axes>"
      ]
     },
     "metadata": {},
     "output_type": "display_data"
    }
   ],
   "source": [
    "plt.figure(figsize=(20, 8))\n",
    "ax = sns.barplot(x=\"year_formated\", y=\"CountryCode\", data=df_foot_note_by_year, palette=\"GnBu_r\")\n",
    "ax.set_title('Nombre de données non nulles par années')\n",
    "ax.set(xlabel='Years')\n",
    "ax.set(xlabel='Nombre de de données')\n",
    "ax.tick_params(axis='x', labelrotation=90)\n",
    "plt.show()"
   ]
  },
  {
   "cell_type": "code",
   "execution_count": 39,
   "id": "3b84aaf6-32c9-4b56-a4a6-0895e923b077",
   "metadata": {},
   "outputs": [],
   "source": [
    "foot_note_countries_by_indicator = df_foot_note.groupby('SeriesCode')[['CountryCode']].count().reset_index()\n",
    "foot_note_countries_by_indicator = foot_note_countries_by_indicator.sort_values(by='CountryCode', ascending=False)\n",
    "foot_note_countries_by_indicator = foot_note_countries_by_indicator.head(15)"
   ]
  },
  {
   "cell_type": "code",
   "execution_count": 40,
   "id": "87bd1bd5-e7de-487d-b069-9bfdf3fab2ac",
   "metadata": {},
   "outputs": [
    {
     "data": {
      "image/png": "[encoded data removed]",
      "text/plain": [
       "<Figure size 576x432 with 1 Axes>"
      ]
     },
     "metadata": {},
     "output_type": "display_data"
    }
   ],
   "source": [
    "plt.figure(figsize=(8,6))\n",
    "ax = sns.barplot(data=foot_note_countries_by_indicator, x=\"CountryCode\", y=\"SeriesCode\", palette=\"GnBu_r\")\n",
    "ax.set_title(\"Nombre moyen d'indicateurs par pays\")\n",
    "ax.set(xlabel=\"Nombre moyen d'indicateurs\")\n",
    "\n",
    "for container in ax.containers:\n",
    "    ax.bar_label(container, padding = 4)\n",
    "\n",
    "plt.show()"
   ]
  },
  {
   "cell_type": "markdown",
   "id": "257b6060",
   "metadata": {},
   "source": [
    "> ?????"
   ]
  },
  {
   "cell_type": "markdown",
   "id": "aed0b2ea",
   "metadata": {},
   "source": [
    "# Nettoyage des données et sélection des indicateurs"
   ]
  },
  {
   "cell_type": "code",
   "execution_count": 41,
   "id": "57fecd72-aaca-4d10-89ad-0ddf93595769",
   "metadata": {},
   "outputs": [],
   "source": [
    "# initialize list of selected indicators\n",
    "list_indicator_selected = []"
   ]
  },
  {
   "cell_type": "markdown",
   "id": "76f14981-9350-4414-8407-001e0acc2105",
   "metadata": {},
   "source": [
    "On fusionne les données de EdStatsData avec EdStatsSeries. "
   ]
  },
  {
   "cell_type": "code",
   "execution_count": 42,
   "id": "b0892b29",
   "metadata": {},
   "outputs": [],
   "source": [
    "df_stats_series_selected.rename(columns = {'Series Code' : 'Indicator Code'}, inplace=True)\n",
    "df_stats_selected = df_stats_selected.merge(df_stats_series_selected, how='inner', on='Indicator Code')\n",
    "\n",
    "df_stats_selected = df_stats_selected.drop(columns=['Indicator Name_y'])\n",
    "df_stats_selected.rename(columns = {'Indicator Name_x' : 'Indicator Name'}, inplace=True)"
   ]
  },
  {
   "cell_type": "markdown",
   "id": "e490b19c-68ef-40e9-a48a-dd1f3d883fb6",
   "metadata": {},
   "source": [
    "**Indicateurs par genre :**"
   ]
  },
  {
   "cell_type": "markdown",
   "id": "ee34fb0f",
   "metadata": {},
   "source": [
    "En faisant une recherche sur les indicateurs, on remarque que ces derniers sont déclinés en sous-indicateurs :\n",
    "- par genre (femme ou homme)\n",
    "- par tranche d'âge\n",
    "- par régions"
   ]
  },
  {
   "cell_type": "markdown",
   "id": "e081411d",
   "metadata": {},
   "source": [
    "Par genre :\n",
    "- contiennent : \"F\", \"M\", \"FE\", MA\"\n",
    "- se terminent par : \"F\", \"M\", \"FE\", \"GPI\", \"MA\", \"FE.ZS\", \"MA.ZS\""
   ]
  },
  {
   "cell_type": "markdown",
   "id": "e073b978-49d3-4b1a-946c-10a3fbacea03",
   "metadata": {},
   "source": [
    "On crée une fonction qui servira à discréditer les genres sur les inficateurs étudiés :"
   ]
  },
  {
   "cell_type": "code",
   "execution_count": 43,
   "id": "7fc498fb-fad5-4bd2-9b6a-9c07f6f6039f",
   "metadata": {
    "scrolled": true
   },
   "outputs": [],
   "source": [
    "def drop_gender(dataframe):\n",
    "    result = dataframe[~dataframe['Indicator Code'].str.endswith((\n",
    "        '.F','.M','.GPI','FE','MA','FE.ZS','MA.ZS'))]\n",
    "\n",
    "    result = result[~result['Indicator Code'].str.contains(\n",
    "        \".F.|.M.|.FE.|.MA.|.AG\", regex=True)]\n",
    "    \n",
    "    return result\n"
   ]
  },
  {
   "cell_type": "markdown",
   "id": "be942fad",
   "metadata": {
    "jp-MarkdownHeadingCollapsed": true,
    "tags": []
   },
   "source": [
    "## Par années"
   ]
  },
  {
   "cell_type": "markdown",
   "id": "6ee8f0f0",
   "metadata": {},
   "source": [
    "Nous avons sélectionné les années de 2000 à 2015 pour les données EdStatsData :"
   ]
  },
  {
   "cell_type": "code",
   "execution_count": 44,
   "id": "ba7a8f1c-b824-42b6-8731-a35ef5672c52",
   "metadata": {},
   "outputs": [],
   "source": [
    "df_stats_selected = df_stats_selected.drop(columns = df_stats_selected.loc[:,'1970':'1999'])\n",
    "df_stats_selected = df_stats_selected.drop(columns=df_stats_selected.loc[:,'2016':'2100'])"
   ]
  },
  {
   "cell_type": "markdown",
   "id": "7fcde689",
   "metadata": {},
   "source": [
    "> Nous avons maintenant des données sur une période ciblée. Il y a cependant un grand nombre d'incateurs par Country Code et de valeurs manquantes. Nous devons sélectionner les indicateurs les plus pertinents qui participerons à répondre à nos problématiques."
   ]
  },
  {
   "cell_type": "markdown",
   "id": "733b4ab1-e135-4355-8305-587be2670daf",
   "metadata": {
    "jp-MarkdownHeadingCollapsed": true,
    "tags": []
   },
   "source": [
    "## Suppression des lignes vide"
   ]
  },
  {
   "cell_type": "code",
   "execution_count": 45,
   "id": "60b75193-0440-47fa-8d34-777854e6fe77",
   "metadata": {},
   "outputs": [],
   "source": [
    "list_columns = list(df_stats_selected.loc[:,\"2000\":\"2015\"])\n",
    "df_stats_selected = df_stats_selected.dropna(how=\"all\", subset=list_columns)"
   ]
  },
  {
   "cell_type": "markdown",
   "id": "3d99f864-b76b-4265-a15e-f2bfd21b00b4",
   "metadata": {
    "tags": []
   },
   "source": [
    "## Dernières valeurs disponibles"
   ]
  },
  {
   "cell_type": "code",
   "execution_count": 46,
   "id": "211a5ce7-2958-45ef-be82-74163623cf44",
   "metadata": {},
   "outputs": [],
   "source": [
    "df_stats_lv = df_stats_selected.copy()"
   ]
  },
  {
   "cell_type": "code",
   "execution_count": 47,
   "id": "0364cdbd-9346-4de3-beff-4a02232f77ce",
   "metadata": {},
   "outputs": [
    {
     "data": {
      "text/html": [
       "<div>\n",
       "<style scoped>\n",
       "    .dataframe tbody tr th:only-of-type {\n",
       "        vertical-align: middle;\n",
       "    }\n",
       "\n",
       "    .dataframe tbody tr th {\n",
       "        vertical-align: top;\n",
       "    }\n",
       "\n",
       "    .dataframe thead th {\n",
       "        text-align: right;\n",
       "    }\n",
       "</style>\n",
       "<table border=\"1\" class=\"dataframe\">\n",
       "  <thead>\n",
       "    <tr style=\"text-align: right;\">\n",
       "      <th></th>\n",
       "      <th>Country Name</th>\n",
       "      <th>Country Code</th>\n",
       "      <th>Indicator Name</th>\n",
       "      <th>Indicator Code</th>\n",
       "      <th>Topic</th>\n",
       "      <th>Short definition</th>\n",
       "      <th>Long definition</th>\n",
       "      <th>Source</th>\n",
       "      <th>Last Avail Values</th>\n",
       "    </tr>\n",
       "  </thead>\n",
       "  <tbody>\n",
       "    <tr>\n",
       "      <th>25</th>\n",
       "      <td>Afghanistan</td>\n",
       "      <td>AFG</td>\n",
       "      <td>Adjusted net enrolment rate, lower secondary, both sexes (%)</td>\n",
       "      <td>UIS.NERA.2</td>\n",
       "      <td>Secondary</td>\n",
       "      <td>NaN</td>\n",
       "      <td>Total number of students of the official lower secondary school age group who are enrolled in lower secondary education or higher, expressed as a percentage of the corresponding population. Divide the total number of students in the official lower secondary school age range who are enrolled in lower secondary education or higher by the population of the same age group and multiply the result by 100. NERA should be based on total enrolment of the official school participation age group for all types of schools and education institutions, including public, private and all other institutions that provide organized educational programmes.</td>\n",
       "      <td>UNESCO Institute for Statistics</td>\n",
       "      <td>50.627232</td>\n",
       "    </tr>\n",
       "  </tbody>\n",
       "</table>\n",
       "</div>"
      ],
      "text/plain": [
       "   Country Name Country Code  \\\n",
       "25  Afghanistan          AFG   \n",
       "\n",
       "                                                  Indicator Name  \\\n",
       "25  Adjusted net enrolment rate, lower secondary, both sexes (%)   \n",
       "\n",
       "   Indicator Code      Topic Short definition  \\\n",
       "25     UIS.NERA.2  Secondary              NaN   \n",
       "\n",
       "                                                                                                                                                                                                                                                                                                                                                                                                                                                                                                                                                                                                                                                       Long definition  \\\n",
       "25  Total number of students of the official lower secondary school age group who are enrolled in lower secondary education or higher, expressed as a percentage of the corresponding population. Divide the total number of students in the official lower secondary school age range who are enrolled in lower secondary education or higher by the population of the same age group and multiply the result by 100. NERA should be based on total enrolment of the official school participation age group for all types of schools and education institutions, including public, private and all other institutions that provide organized educational programmes.   \n",
       "\n",
       "                             Source  Last Avail Values  \n",
       "25  UNESCO Institute for Statistics          50.627232  "
      ]
     },
     "execution_count": 47,
     "metadata": {},
     "output_type": "execute_result"
    }
   ],
   "source": [
    "df_stats_years_values = df_stats_selected.loc[:,'2000':'2015']\n",
    "df_stats_lv['Last Avail Values'] = df_stats_years_values.fillna(method='ffill', axis=1).iloc[:, -1]\n",
    "\n",
    "df_stats_lv = df_stats_lv.drop(columns = df_stats_lv.loc[:,\"2000\":\"2015\"])\n",
    "df_stats_lv.head(1)"
   ]
  },
  {
   "cell_type": "markdown",
   "id": "b95d86b9",
   "metadata": {
    "jp-MarkdownHeadingCollapsed": true,
    "tags": []
   },
   "source": [
    "## Par âge"
   ]
  },
  {
   "cell_type": "markdown",
   "id": "65f263f9",
   "metadata": {},
   "source": [
    "Nous allons cibler les indicateurs d'âge sur une population jeune en dessous de 25 ans."
   ]
  },
  {
   "cell_type": "markdown",
   "id": "cb749601",
   "metadata": {},
   "source": [
    "Par exemple :"
   ]
  },
  {
   "cell_type": "code",
   "execution_count": 48,
   "id": "4a420bdc",
   "metadata": {},
   "outputs": [
    {
     "data": {
      "text/plain": [
       "'Average years of primary schooling, 45-49, female is the average years of primary education completed among females age 45-49.'"
      ]
     },
     "execution_count": 48,
     "metadata": {},
     "output_type": "execute_result"
    }
   ],
   "source": [
    "df_temp_age = df_stats_lv[df_stats_lv['Indicator Code'].str.contains('4549')]\n",
    "df_temp_age = df_temp_age['Long definition'].unique()\n",
    "df_temp_age[0]"
   ]
  },
  {
   "cell_type": "markdown",
   "id": "840d913d",
   "metadata": {},
   "source": [
    "Filtre :"
   ]
  },
  {
   "cell_type": "code",
   "execution_count": 49,
   "id": "9e723538",
   "metadata": {},
   "outputs": [],
   "source": [
    "age_range_to_drop = '15UP|25UP|2529|3034|3539|4044|4549|5054|5559|6064|6569|7074|75UP'\n",
    "\n",
    "df_stats_lv = df_stats_lv[~df_stats_selected['Indicator Code'] \\\n",
    "                            .str.contains(age_range_to_drop, regex=True)]"
   ]
  },
  {
   "cell_type": "code",
   "execution_count": 50,
   "id": "8c5f80af-949f-4707-87aa-defff59af399",
   "metadata": {},
   "outputs": [
    {
     "name": "stdout",
     "output_type": "stream",
     "text": [
      "['SP.POP.1014.TO.UN', 'SP.POP.1015.TO.UN', 'SP.POP.1016.TO.UN', 'SP.POP.1017.TO.UN', 'SP.POP.1018.TO.UN', 'SP.POP.1115.TO.UN', 'SP.POP.1116.TO.UN', 'SP.POP.1117.TO.UN', 'SP.POP.1118.TO.UN', 'SP.POP.1215.TO.UN', 'SP.POP.1216.TO.UN', 'SP.POP.1217.TO.UN', 'SP.POP.1218.TO.UN', 'SP.POP.1316.TO.UN', 'SP.POP.1317.TO.UN', 'SP.POP.1318.TO.UN', 'SP.POP.1319.TO.UN', 'SP.POP.1418.TO.UN', 'SP.POP.1419.TO.UN', 'SP.POP.1524.TO.UN', 'SP.POP.0305.TO.UN', 'SP.POP.0406.TO.UN', 'SP.POP.0510.TO.UN', 'SP.POP.0511.TO.UN', 'SP.POP.0509.TO.UN', 'SP.POP.0610.TO.UN', 'SP.POP.0611.TO.UN', 'SP.POP.0612.TO.UN', 'SP.POP.0609.TO.UN', 'SP.POP.0710.TO.UN', 'SP.POP.0711.TO.UN', 'SP.POP.0712.TO.UN', 'SP.POP.0713.TO.UN', 'SP.POP.0709.TO.UN']\n"
     ]
    }
   ],
   "source": [
    "df_temp_age_g = df_stats_lv[df_stats_lv['Indicator Code'].str.endswith('UN')]\n",
    "df_temp_age = drop_gender(df_temp_age_g)\n",
    "list_temp_age = list(df_temp_age['Indicator Code'].unique())\n",
    "print(list_temp_age)"
   ]
  },
  {
   "cell_type": "markdown",
   "id": "c9a359b7-4c6e-4ffd-a424-69cc8675a0fa",
   "metadata": {},
   "source": [
    "Nous garderons comme indicateur : **SP.POP.1524.TO.UN**"
   ]
  },
  {
   "cell_type": "code",
   "execution_count": 51,
   "id": "6c70a32f-c80c-43b3-98e5-0561339db652",
   "metadata": {},
   "outputs": [],
   "source": [
    "list_temp_age_g = list(df_temp_age['Indicator Code'].unique())\n",
    "list_temp_age_g.remove('SP.POP.1524.TO.UN')\n",
    "\n",
    "df_stats_lv = df_stats_lv[~df_stats_lv['Indicator Code'].isin(list_temp_age_g)]\n",
    "\n",
    "list_indicator_selected.append('SP.POP.1524.TO.UN')"
   ]
  },
  {
   "cell_type": "markdown",
   "id": "848b687d",
   "metadata": {},
   "source": [
    "## Par catégories (Topic)"
   ]
  },
  {
   "cell_type": "code",
   "execution_count": 52,
   "id": "976c03ee",
   "metadata": {},
   "outputs": [
    {
     "name": "stdout",
     "output_type": "stream",
     "text": [
      "Secondary\n",
      "Primary\n",
      "Literacy\n",
      "Teachers\n",
      "EMIS\n",
      "Expenditures\n",
      "Attainment\n",
      "Education Equality\n",
      "Background\n",
      "Learning Outcomes\n",
      "Early Childhood Education\n",
      "Tertiary\n",
      "Post-Secondary/Non-Tertiary\n",
      "Economic Policy & Debt: National accounts: US$ at constant 2010 prices: Aggregate indicators\n",
      "Economic Policy & Debt: National accounts: US$ at current prices: Aggregate indicators\n",
      "Pre-Primary\n",
      "Infrastructure: Communications\n",
      "Social Protection & Labor: Labor force structure\n",
      "Health: Mortality\n",
      "Health: Population: Dynamics\n",
      "Population\n",
      "Health: Population: Structure\n",
      "Health: Risk factors\n",
      "Early Child Development (SABER)\n",
      "Education Management Information Systems (SABER)\n",
      "Engaging the Private Sector (SABER)\n",
      "School Autonomy and Accountability (SABER)\n",
      "School Finance (SABER)\n",
      "School Health and School Feeding (SABER)\n",
      "Student Assessment (SABER)\n",
      "Teachers (SABER)\n",
      "Workforce Development (SABER)\n",
      "Laber\n",
      "Social Protection & Labor: Unemployment\n"
     ]
    }
   ],
   "source": [
    "list_topics = df_stats_lv['Topic'].unique()\n",
    "print(*list_topics, sep = \"\\n\")"
   ]
  },
  {
   "cell_type": "markdown",
   "id": "f74dc99c",
   "metadata": {},
   "source": [
    "### Catégories hors sujet"
   ]
  },
  {
   "cell_type": "markdown",
   "id": "b728e2e9",
   "metadata": {},
   "source": [
    "Par rapport à notre contexte, certains Topic ne vont pas nous apporter d'informations. On retrouve des catégories concernant la santé, l'égalité ou les protections sociales."
   ]
  },
  {
   "cell_type": "code",
   "execution_count": 53,
   "id": "8bfb0bfc",
   "metadata": {},
   "outputs": [],
   "source": [
    "list_topic_to_remove = [\n",
    "    'Primary',\n",
    "    'Literacy',\n",
    "    'Teachers',\n",
    "    'Expenditures',\n",
    "    'Education Equality',\n",
    "    'Background',\n",
    "    'Early Childhood Education',\n",
    "    'Economic Policy & Debt: Purchasing power parity',\n",
    "    'Pre-Primary',\n",
    "    'Health: Risk factors',\n",
    "    'Health: Mortality',\n",
    "    'Social Protection & Labor: Labor force structure',\n",
    "    'Social Protection & Labor: Unemployment',\n",
    "    'Health: Population: Structure',\n",
    "    'Health: Population: Dynamics'\n",
    "]\n",
    "\n",
    "df_stats_lv = df_stats_lv[~df_stats_lv['Topic'].isin(list_topic_to_remove)]"
   ]
  },
  {
   "cell_type": "markdown",
   "id": "9cc901b8-4c1c-41fb-ac8a-5fa973736629",
   "metadata": {},
   "source": [
    "### Catégories les plus représentées"
   ]
  },
  {
   "cell_type": "code",
   "execution_count": 54,
   "id": "85641c3d",
   "metadata": {},
   "outputs": [],
   "source": [
    "data_by_topic = df_stats_lv.groupby('Topic')[['Country Code']].count().reset_index()\n",
    "data_by_topic = data_by_topic.sort_values(by='Country Code', ascending=False)"
   ]
  },
  {
   "cell_type": "code",
   "execution_count": 55,
   "id": "b66b76f0",
   "metadata": {},
   "outputs": [
    {
     "data": {
      "image/png": "[encoded data removed]",
      "text/plain": [
       "<Figure size 576x576 with 1 Axes>"
      ]
     },
     "metadata": {},
     "output_type": "display_data"
    }
   ],
   "source": [
    "plt.figure(figsize=(8,8))\n",
    "ax = sns.barplot(data=data_by_topic, x=\"Country Code\", y=\"Topic\", palette=\"GnBu_r\")\n",
    "ax.set_title(\"Nombre moyen d'indicateurs par pays\")\n",
    "ax.set(xlabel=\"Nombre moyen d'indicateurs\")\n",
    "\n",
    "for container in ax.containers:\n",
    "    ax.bar_label(container, padding = 4)\n",
    "\n",
    "plt.show()"
   ]
  },
  {
   "cell_type": "markdown",
   "id": "98e22562-dc02-4ad4-b284-7f3bb8298629",
   "metadata": {},
   "source": [
    "### Secondary"
   ]
  },
  {
   "cell_type": "markdown",
   "id": "9855b057-951f-4b7b-9a20-f6d7ce374a2e",
   "metadata": {},
   "source": [
    "On va cibler ici les étudiants de lycée ce qui correspond au \"Secondary upper\"."
   ]
  },
  {
   "cell_type": "code",
   "execution_count": 56,
   "id": "7b5a94db-8181-4c7b-8ab6-fefb5839b259",
   "metadata": {},
   "outputs": [
    {
     "data": {
      "text/html": [
       "<div>\n",
       "<style scoped>\n",
       "    .dataframe tbody tr th:only-of-type {\n",
       "        vertical-align: middle;\n",
       "    }\n",
       "\n",
       "    .dataframe tbody tr th {\n",
       "        vertical-align: top;\n",
       "    }\n",
       "\n",
       "    .dataframe thead th {\n",
       "        text-align: right;\n",
       "    }\n",
       "</style>\n",
       "<table border=\"1\" class=\"dataframe\">\n",
       "  <thead>\n",
       "    <tr style=\"text-align: right;\">\n",
       "      <th></th>\n",
       "      <th>Indicator Name</th>\n",
       "      <th>Indicator Code</th>\n",
       "      <th>Long definition</th>\n",
       "    </tr>\n",
       "  </thead>\n",
       "  <tbody>\n",
       "    <tr>\n",
       "      <th>1961</th>\n",
       "      <td>Adjusted net enrolment rate, upper secondary, both sexes (%)</td>\n",
       "      <td>UIS.NERA.3</td>\n",
       "      <td>Total number of students of the official upper secondary school age group who are enrolled in upper secondary education or higher, expressed as a percentage of the corresponding population. Divide the total number of students in the official upper secondary school age range who are enrolled in upper secondary education or higher by the population of the same age group and multiply the result by 100. NERA should be based on total enrolment of the official school participation age group for all types of schools and education institutions, including public, private and all other institutions that provide organized educational programmes.</td>\n",
       "    </tr>\n",
       "    <tr>\n",
       "      <th>288464</th>\n",
       "      <td>Enrolment in upper secondary education, both sexes (number)</td>\n",
       "      <td>UIS.E.3</td>\n",
       "      <td>Total number of students enrolled in public and private upper secondary education institutions regardless of age.</td>\n",
       "    </tr>\n",
       "    <tr>\n",
       "      <th>288973</th>\n",
       "      <td>Enrolment in upper secondary education, private institutions, both sexes (number)</td>\n",
       "      <td>UIS.E.3.PR</td>\n",
       "      <td>Total number of individuals enrolled in private upper secondary education institutions regardless of age. A private education institution is an institution that is controlled and managed by a non-governmental organization (e.g. a church, a trade union or a business enterprise, foreign or international agency), or its governing board consists mostly of members who have not been selected by a public agency.</td>\n",
       "    </tr>\n",
       "    <tr>\n",
       "      <th>289457</th>\n",
       "      <td>Enrolment in upper secondary education, public institutions, both sexes (number)</td>\n",
       "      <td>UIS.E.3.PU</td>\n",
       "      <td>Total number of individuals enrolled in public upper secondary education institutions regardless of age. Public education Institutions are controlled and managed directly by a public education authority or agency of the country where it is located or by a government agency directly or by a governing body (council, committee etc.), most of whose members are either appointed by a public authority of the country where it is located or elected by public franchise.</td>\n",
       "    </tr>\n",
       "    <tr>\n",
       "      <th>289674</th>\n",
       "      <td>Enrolment in upper secondary general, both sexes (number)</td>\n",
       "      <td>UIS.E.3.GPV</td>\n",
       "      <td>Total number of students enrolled in general programmes at public and private upper secondary education institutions regardless of age.</td>\n",
       "    </tr>\n",
       "    <tr>\n",
       "      <th>290158</th>\n",
       "      <td>Enrolment in upper secondary vocational, both sexes (number)</td>\n",
       "      <td>UIS.E.3.V</td>\n",
       "      <td>Total number of students enrolled in vocational programmes at public and private upper secondary education institutions regardless of age.</td>\n",
       "    </tr>\n",
       "    <tr>\n",
       "      <th>315326</th>\n",
       "      <td>Gross enrolment ratio, upper secondary, both sexes (%)</td>\n",
       "      <td>SE.SEC.ENRR.UP</td>\n",
       "      <td>Total enrollment in upper secondary education, regardless of age, expressed as a percentage of the total population of official upper secondary education age.</td>\n",
       "    </tr>\n",
       "    <tr>\n",
       "      <th>391339</th>\n",
       "      <td>Net enrolment rate, upper secondary, both sexes (%)</td>\n",
       "      <td>UIS.NER.3</td>\n",
       "      <td>Total number of students in the theoretical age group for upper secondary education enrolled in that level, expressed as a percentage of the total population in that age group. Divide the number of students enrolled who are of the official age group for upper secondary education by the population for the same age group and multiply the result by 100. NER at each level of education should be based on enrolment of the relevant age group in all types of schools and education institutions, including public, private and all other institutions that provide organized educational programmes.</td>\n",
       "    </tr>\n",
       "    <tr>\n",
       "      <th>437319</th>\n",
       "      <td>Percentage of enrolment in upper secondary education in private institutions (%)</td>\n",
       "      <td>UIS.PRP.3</td>\n",
       "      <td>Total number of students in upper secondary education enrolled in institutions that are not operated by a public authority but controlled and managed, whether for profit or not, by a private body (e.g., non-governmental organisation, religious body, special interest group, foundation or business enterprise), expressed as a percentage of total number of students enrolled in upper secondary education.</td>\n",
       "    </tr>\n",
       "    <tr>\n",
       "      <th>484726</th>\n",
       "      <td>Percentage of students in upper secondary education enrolled in general programmes, both sexes (%)</td>\n",
       "      <td>UIS.GTVP.3.GPV</td>\n",
       "      <td>Total number of students enrolled in general programmes at the upper secondary education level, expressed as a percentage of the total number of students enrolled in all programmes (vocational and general) at the upper secondary level. General education is designed to develop learners’ general knowledge, skills and competencies and literacy and numeracy skills, often to prepare students for more advanced educational programmes at the same or higher ISCED levels and to lay the foundation for lifelong learning. General educational programmes are typically school- or college-based. General education includes educational programmes that are designed to prepare students for entry into vocational education, but that do not prepare for employment in a particular occupation or trade or class of occupations or trades, nor lead directly to a labour market relevant qualification.</td>\n",
       "    </tr>\n",
       "    <tr>\n",
       "      <th>484968</th>\n",
       "      <td>Percentage of students in upper secondary education enrolled in vocational programmes, both sexes (%)</td>\n",
       "      <td>UIS.GTVP.3.V</td>\n",
       "      <td>Total number of students enrolled in vocational programmes at the upper secondary education level, expressed as a percentage of the total number of students enrolled in all programmes (vocational and general) at the upper secondary level. Vocational education is designed for learners to acquire the knowledge, skills and competencies specific to a particular occupation or trade or class of occupations or trades. Vocational education may have work-based components (e.g. apprenticeships). Successful completion of such programmes leads to labour-market relevant vocational qualifications acknowledged as occupationally-oriented by the relevant national authorities and/or the labour market.</td>\n",
       "    </tr>\n",
       "    <tr>\n",
       "      <th>706423</th>\n",
       "      <td>Theoretical duration of upper secondary education (years)</td>\n",
       "      <td>SE.SEC.DURS.UP</td>\n",
       "      <td>Number of grades (years) in upper secondary education.</td>\n",
       "    </tr>\n",
       "  </tbody>\n",
       "</table>\n",
       "</div>"
      ],
      "text/plain": [
       "                                                                                               Indicator Name  \\\n",
       "1961                                             Adjusted net enrolment rate, upper secondary, both sexes (%)   \n",
       "288464                                            Enrolment in upper secondary education, both sexes (number)   \n",
       "288973                      Enrolment in upper secondary education, private institutions, both sexes (number)   \n",
       "289457                       Enrolment in upper secondary education, public institutions, both sexes (number)   \n",
       "289674                                              Enrolment in upper secondary general, both sexes (number)   \n",
       "290158                                           Enrolment in upper secondary vocational, both sexes (number)   \n",
       "315326                                                 Gross enrolment ratio, upper secondary, both sexes (%)   \n",
       "391339                                                    Net enrolment rate, upper secondary, both sexes (%)   \n",
       "437319                       Percentage of enrolment in upper secondary education in private institutions (%)   \n",
       "484726     Percentage of students in upper secondary education enrolled in general programmes, both sexes (%)   \n",
       "484968  Percentage of students in upper secondary education enrolled in vocational programmes, both sexes (%)   \n",
       "706423                                              Theoretical duration of upper secondary education (years)   \n",
       "\n",
       "        Indicator Code  \\\n",
       "1961        UIS.NERA.3   \n",
       "288464         UIS.E.3   \n",
       "288973      UIS.E.3.PR   \n",
       "289457      UIS.E.3.PU   \n",
       "289674     UIS.E.3.GPV   \n",
       "290158       UIS.E.3.V   \n",
       "315326  SE.SEC.ENRR.UP   \n",
       "391339       UIS.NER.3   \n",
       "437319       UIS.PRP.3   \n",
       "484726  UIS.GTVP.3.GPV   \n",
       "484968    UIS.GTVP.3.V   \n",
       "706423  SE.SEC.DURS.UP   \n",
       "\n",
       "                                                                                                                                                                                                                                                                                                                                                                                                                                                                                                                                                                                                                                                                                                                                                                                                                                                                                                          Long definition  \n",
       "1961                                                                                                                                                                                                                                                   Total number of students of the official upper secondary school age group who are enrolled in upper secondary education or higher, expressed as a percentage of the corresponding population. Divide the total number of students in the official upper secondary school age range who are enrolled in upper secondary education or higher by the population of the same age group and multiply the result by 100. NERA should be based on total enrolment of the official school participation age group for all types of schools and education institutions, including public, private and all other institutions that provide organized educational programmes.  \n",
       "288464                                                                                                                                                                                                                                                                                                                                                                                                                                                                                                                                                                                                                                                                                                                                                                                                  Total number of students enrolled in public and private upper secondary education institutions regardless of age.  \n",
       "288973                                                                                                                                                                                                                                                                                                                                                                                                                                                                                           Total number of individuals enrolled in private upper secondary education institutions regardless of age. A private education institution is an institution that is controlled and managed by a non-governmental organization (e.g. a church, a trade union or a business enterprise, foreign or international agency), or its governing board consists mostly of members who have not been selected by a public agency.  \n",
       "289457                                                                                                                                                                                                                                                                                                                                                                                                                                   Total number of individuals enrolled in public upper secondary education institutions regardless of age. Public education Institutions are controlled and managed directly by a public education authority or agency of the country where it is located or by a government agency directly or by a governing body (council, committee etc.), most of whose members are either appointed by a public authority of the country where it is located or elected by public franchise.  \n",
       "289674                                                                                                                                                                                                                                                                                                                                                                                                                                                                                                                                                                                                                                                                                                                                                                            Total number of students enrolled in general programmes at public and private upper secondary education institutions regardless of age.  \n",
       "290158                                                                                                                                                                                                                                                                                                                                                                                                                                                                                                                                                                                                                                                                                                                                                                         Total number of students enrolled in vocational programmes at public and private upper secondary education institutions regardless of age.  \n",
       "315326                                                                                                                                                                                                                                                                                                                                                                                                                                                                                                                                                                                                                                                                                                                                                     Total enrollment in upper secondary education, regardless of age, expressed as a percentage of the total population of official upper secondary education age.  \n",
       "391339                                                                                                                                                                                                                                                                                                     Total number of students in the theoretical age group for upper secondary education enrolled in that level, expressed as a percentage of the total population in that age group. Divide the number of students enrolled who are of the official age group for upper secondary education by the population for the same age group and multiply the result by 100. NER at each level of education should be based on enrolment of the relevant age group in all types of schools and education institutions, including public, private and all other institutions that provide organized educational programmes.  \n",
       "437319                                                                                                                                                                                                                                                                                                                                                                                                                                                                                                 Total number of students in upper secondary education enrolled in institutions that are not operated by a public authority but controlled and managed, whether for profit or not, by a private body (e.g., non-governmental organisation, religious body, special interest group, foundation or business enterprise), expressed as a percentage of total number of students enrolled in upper secondary education.  \n",
       "484726  Total number of students enrolled in general programmes at the upper secondary education level, expressed as a percentage of the total number of students enrolled in all programmes (vocational and general) at the upper secondary level. General education is designed to develop learners’ general knowledge, skills and competencies and literacy and numeracy skills, often to prepare students for more advanced educational programmes at the same or higher ISCED levels and to lay the foundation for lifelong learning. General educational programmes are typically school- or college-based. General education includes educational programmes that are designed to prepare students for entry into vocational education, but that do not prepare for employment in a particular occupation or trade or class of occupations or trades, nor lead directly to a labour market relevant qualification.  \n",
       "484968                                                                                                                                                                                               Total number of students enrolled in vocational programmes at the upper secondary education level, expressed as a percentage of the total number of students enrolled in all programmes (vocational and general) at the upper secondary level. Vocational education is designed for learners to acquire the knowledge, skills and competencies specific to a particular occupation or trade or class of occupations or trades. Vocational education may have work-based components (e.g. apprenticeships). Successful completion of such programmes leads to labour-market relevant vocational qualifications acknowledged as occupationally-oriented by the relevant national authorities and/or the labour market.  \n",
       "706423                                                                                                                                                                                                                                                                                                                                                                                                                                                                                                                                                                                                                                                                                                                                                                                                                                                             Number of grades (years) in upper secondary education.  "
      ]
     },
     "execution_count": 56,
     "metadata": {},
     "output_type": "execute_result"
    }
   ],
   "source": [
    "df_temp_sec_g = df_stats_lv[df_stats_lv['Topic']=='Secondary']\n",
    "df_temp_sec = drop_gender(df_temp_sec_g)\n",
    "df_temp_sec = df_temp_sec.drop_duplicates(['Indicator Code'])\n",
    "df_temp_sec = df_temp_sec[df_temp_sec['Long definition'].str.contains(\"upper\")]\n",
    "df_temp_sec[[\"Indicator Name\", \"Indicator Code\", \"Long definition\"]]"
   ]
  },
  {
   "cell_type": "markdown",
   "id": "bee0c7b7-ff85-4b19-916c-d8cd07e60a8b",
   "metadata": {},
   "source": [
    "> On va retenir l'indicateur **UIS.E.3**."
   ]
  },
  {
   "cell_type": "code",
   "execution_count": 57,
   "id": "2b144e73-2627-464b-a4a3-bba99c0b203d",
   "metadata": {},
   "outputs": [],
   "source": [
    "list_temp_secondary = list(df_temp_sec_g['Indicator Code'].unique())\n",
    "list_temp_secondary.remove('UIS.E.3')\n",
    "\n",
    "df_stats_lv = df_stats_lv[~df_stats_lv['Indicator Code'].isin(list_temp_secondary)]\n",
    "\n",
    "list_indicator_selected.append('UIS.E.3')"
   ]
  },
  {
   "cell_type": "markdown",
   "id": "2603efd0-c74c-4973-8504-8928d748dd6b",
   "metadata": {},
   "source": [
    "### Tertiary"
   ]
  },
  {
   "cell_type": "code",
   "execution_count": 58,
   "id": "709d6125-8157-473f-afc8-cf32b3031f84",
   "metadata": {},
   "outputs": [
    {
     "data": {
      "text/html": [
       "<div>\n",
       "<style scoped>\n",
       "    .dataframe tbody tr th:only-of-type {\n",
       "        vertical-align: middle;\n",
       "    }\n",
       "\n",
       "    .dataframe tbody tr th {\n",
       "        vertical-align: top;\n",
       "    }\n",
       "\n",
       "    .dataframe thead th {\n",
       "        text-align: right;\n",
       "    }\n",
       "</style>\n",
       "<table border=\"1\" class=\"dataframe\">\n",
       "  <thead>\n",
       "    <tr style=\"text-align: right;\">\n",
       "      <th></th>\n",
       "      <th>Indicator Name</th>\n",
       "      <th>Indicator Code</th>\n",
       "      <th>Long definition</th>\n",
       "    </tr>\n",
       "  </thead>\n",
       "  <tbody>\n",
       "    <tr>\n",
       "      <th>279994</th>\n",
       "      <td>Enrolment in post-secondary non-tertiary education, both sexes (number)</td>\n",
       "      <td>UIS.E.4</td>\n",
       "      <td>Total number of students enrolled in public and private post-secondary non-tertiary education institutions regardless of age.</td>\n",
       "    </tr>\n",
       "    <tr>\n",
       "      <th>285343</th>\n",
       "      <td>Enrolment in tertiary education per 100,000 inhabitants, both sexes</td>\n",
       "      <td>UIS.TE_100000.56</td>\n",
       "      <td>Number of students enrolled in tertiary education in a given academic year per 100,000 inhabitants. It is calculated by dividing the total number of students enrolled in tertiary education in a given academic year by the country’s population and multiplying the result by 100,000. This indicator shows the general level of participation in tertiary education by indicating the proportion (or density) of students within a country’s population.</td>\n",
       "    </tr>\n",
       "    <tr>\n",
       "      <th>286044</th>\n",
       "      <td>Enrolment in tertiary education, all programmes, both sexes (number)</td>\n",
       "      <td>SE.TER.ENRL</td>\n",
       "      <td>The total number of students enrolled at public and private tertiary education institutions.</td>\n",
       "    </tr>\n",
       "    <tr>\n",
       "      <th>286528</th>\n",
       "      <td>Enrolment in tertiary education, ISCED 5 programmes, both sexes (number)</td>\n",
       "      <td>UIS.E.5.B</td>\n",
       "      <td>Total number of students enrolled in public and private short-cycle tertiary education programmes (ISCED 5).</td>\n",
       "    </tr>\n",
       "    <tr>\n",
       "      <th>287012</th>\n",
       "      <td>Enrolment in tertiary education, ISCED 6 programmes, both sexes (number)</td>\n",
       "      <td>UIS.E.6</td>\n",
       "      <td>Total number of students enrolled in public and private tertiary education institutions in programmes on the bachelors or equivalent (ISCED 6) level.</td>\n",
       "    </tr>\n",
       "    <tr>\n",
       "      <th>287496</th>\n",
       "      <td>Enrolment in tertiary education, ISCED 7 programmes, both sexes (number)</td>\n",
       "      <td>UIS.E.7</td>\n",
       "      <td>Total number of students enrolled in public and private tertiary education institutions in programmes on the masters or equivalent (ISCED 7) level.</td>\n",
       "    </tr>\n",
       "    <tr>\n",
       "      <th>287980</th>\n",
       "      <td>Enrolment in tertiary education, ISCED 8 programmes, both sexes (number)</td>\n",
       "      <td>UIS.E.8</td>\n",
       "      <td>Total number of students enrolled in public and private tertiary education institutions in programmes on the doctoral or equivalent (ISCED 8) level.</td>\n",
       "    </tr>\n",
       "    <tr>\n",
       "      <th>304946</th>\n",
       "      <td>Graduates from ISCED 5 programmes in tertiary education, both sexes (number)</td>\n",
       "      <td>UIS.G.5.B.T</td>\n",
       "      <td>Total number of students successfully completing short-cycle tertiary education programmes (ISCED 5) in public and private tertiary education institutions during the reference academic year.</td>\n",
       "    </tr>\n",
       "    <tr>\n",
       "      <th>305429</th>\n",
       "      <td>Graduates from ISCED 6 programmes in tertiary education, both sexes (number)</td>\n",
       "      <td>UIS.G.6.T</td>\n",
       "      <td>Total number of students successfully completing programmes on the bachelors or equivalent (ISCED 6) level during the reference academic year in public and private tertiary education institutions.</td>\n",
       "    </tr>\n",
       "    <tr>\n",
       "      <th>305913</th>\n",
       "      <td>Graduates from ISCED 7 programmes in tertiary education, both sexes (number)</td>\n",
       "      <td>UIS.G.7.T</td>\n",
       "      <td>Total number of students successfully completing programmes on the masters or equivalent (ISCED 7) level during the reference academic year in public and private tertiary education institutions.</td>\n",
       "    </tr>\n",
       "    <tr>\n",
       "      <th>306398</th>\n",
       "      <td>Graduates from ISCED 8 programmes in tertiary education, both sexes (number)</td>\n",
       "      <td>UIS.G.8.T</td>\n",
       "      <td>Total number of students successfully completing programmes on the doctoral or equivalent (ISCED 8) level during the reference academic year in public and private tertiary education institutions.</td>\n",
       "    </tr>\n",
       "    <tr>\n",
       "      <th>306881</th>\n",
       "      <td>Graduates from tertiary education, both sexes (number)</td>\n",
       "      <td>SE.TER.GRAD</td>\n",
       "      <td>Total number of students successfully completing tertiary education programmes (ISCED 5 to 8) in public and private tertiary education institutions during the reference academic year.</td>\n",
       "    </tr>\n",
       "    <tr>\n",
       "      <th>312180</th>\n",
       "      <td>Gross enrolment ratio, primary to tertiary, both sexes (%)</td>\n",
       "      <td>SE.TOT.ENRR</td>\n",
       "      <td>Total enrollment in primary, secondary and tertiary education, regardless of age, expressed as a percentage of the total population of primary school age, secondary school age, and the five-year age group following on from secondary school leaving. GER can exceed 100% due to the inclusion of over-aged and under-aged students because of early or late school entrance and grade repetition.</td>\n",
       "    </tr>\n",
       "    <tr>\n",
       "      <th>314358</th>\n",
       "      <td>Gross enrolment ratio, tertiary, both sexes (%)</td>\n",
       "      <td>SE.TER.ENRR</td>\n",
       "      <td>Total enrollment in tertiary education (ISCED 5 to 8), regardless of age, expressed as a percentage of the total population of the five-year age group following on from secondary school leaving.</td>\n",
       "    </tr>\n",
       "    <tr>\n",
       "      <th>320892</th>\n",
       "      <td>Gross outbound enrolment ratio, all regions, both sexes (%)</td>\n",
       "      <td>UIS.GOER.56</td>\n",
       "      <td>Total number of mobile tertiary students coming from a country/region as a percentage of the population of tertiary student age in their home country.</td>\n",
       "    </tr>\n",
       "    <tr>\n",
       "      <th>434390</th>\n",
       "      <td>Percentage of all students in tertiary education enrolled in ISCED 5, both sexes (%)</td>\n",
       "      <td>UIS.TEP.5.B</td>\n",
       "      <td>Total enrolment in short-cycle tertiary programmes (ISCED 5) as a percentage of total enrolments in tertiary education (ISCED 5 to 8).</td>\n",
       "    </tr>\n",
       "    <tr>\n",
       "      <th>434632</th>\n",
       "      <td>Percentage of all students in tertiary education enrolled in ISCED 6, both sexes (%)</td>\n",
       "      <td>UIS.TEP.6</td>\n",
       "      <td>Total enrolment in bachelors or equivalent programmes (ISCED 6) as a percentage of total enrolments in tertiary education (ISCED 5 to 8).</td>\n",
       "    </tr>\n",
       "    <tr>\n",
       "      <th>434874</th>\n",
       "      <td>Percentage of all students in tertiary education enrolled in ISCED 7, both sexes (%)</td>\n",
       "      <td>UIS.TEP.7</td>\n",
       "      <td>Total enrolment in masters or equivalent programmes (ISCED 7) as a percentage of total enrolments in tertiary education (ISCED 5 to 8).</td>\n",
       "    </tr>\n",
       "    <tr>\n",
       "      <th>435116</th>\n",
       "      <td>Percentage of all students in tertiary education enrolled in ISCED 8, both sexes (%)</td>\n",
       "      <td>UIS.TEP.8</td>\n",
       "      <td>Total enrolment in doctoral or equivalent programmes (ISCED 8) as a percentage of total enrolments in tertiary education (ISCED 5 to 8).</td>\n",
       "    </tr>\n",
       "    <tr>\n",
       "      <th>437077</th>\n",
       "      <td>Percentage of enrolment in tertiary education in private institutions (%)</td>\n",
       "      <td>SE.TER.PRIV.ZS</td>\n",
       "      <td>Total number of students in tertiary education enrolled in institutions that are not operated by a public authority but controlled and managed, whether for profit or not, by a private body (e.g., non-governmental organisation, religious body, special interest group, foundation or business enterprise), expressed as a percentage of total number of students enrolled in tertiary education.</td>\n",
       "    </tr>\n",
       "    <tr>\n",
       "      <th>449419</th>\n",
       "      <td>Percentage of graduates from tertiary education graduating from Education programmes, both sexes (%)</td>\n",
       "      <td>SE.TER.GRAD.ED.ZS</td>\n",
       "      <td>Share of all tertiary graduates who completed education programmes in the reference year.</td>\n",
       "    </tr>\n",
       "    <tr>\n",
       "      <th>449662</th>\n",
       "      <td>Percentage of graduates from tertiary education graduating from Engineering, Manufacturing and Construction programmes, both sexes (%)</td>\n",
       "      <td>SE.TER.GRAD.EN.ZS</td>\n",
       "      <td>Share of all tertiary graduates who completed engineering, manufacturing and construction programmes in the reference year.</td>\n",
       "    </tr>\n",
       "    <tr>\n",
       "      <th>449904</th>\n",
       "      <td>Percentage of graduates from tertiary education graduating from Health and Welfare programmes, both sexes (%)</td>\n",
       "      <td>SE.TER.GRAD.HL.ZS</td>\n",
       "      <td>Share of all tertiary graduates who completed health and welfare programmes in the reference year.</td>\n",
       "    </tr>\n",
       "    <tr>\n",
       "      <th>450146</th>\n",
       "      <td>Percentage of graduates from tertiary education graduating from Humanities and Arts programmes, both sexes (%)</td>\n",
       "      <td>SE.TER.GRAD.HU.ZS</td>\n",
       "      <td>Share of all tertiary graduates who completed humanities and arts programmes in the reference year.</td>\n",
       "    </tr>\n",
       "    <tr>\n",
       "      <th>450388</th>\n",
       "      <td>Percentage of graduates from tertiary education graduating from programmes in unspecified fields, both sexes (%)</td>\n",
       "      <td>SE.TER.GRAD.OT.ZS</td>\n",
       "      <td>Share of all tertiary graduates who completed programmes in unspecified fields in the reference year.</td>\n",
       "    </tr>\n",
       "    <tr>\n",
       "      <th>450630</th>\n",
       "      <td>Percentage of graduates from tertiary education graduating from Science programmes, both sexes (%)</td>\n",
       "      <td>SE.TER.GRAD.SC.ZS</td>\n",
       "      <td>Share of all tertiary graduates who completed science programmes in the reference year.</td>\n",
       "    </tr>\n",
       "    <tr>\n",
       "      <th>450872</th>\n",
       "      <td>Percentage of graduates from tertiary education graduating from Services programmes, both sexes (%)</td>\n",
       "      <td>SE.TER.GRAD.SV.ZS</td>\n",
       "      <td>Share of all tertiary graduates who completed services programmes in the reference year.</td>\n",
       "    </tr>\n",
       "    <tr>\n",
       "      <th>451114</th>\n",
       "      <td>Percentage of graduates from tertiary education graduating from Social Sciences, Business and Law programmes, both sexes (%)</td>\n",
       "      <td>SE.TER.GRAD.SS.ZS</td>\n",
       "      <td>Share of all tertiary graduates who completed social sciences, business and law programmes in the reference year.</td>\n",
       "    </tr>\n",
       "    <tr>\n",
       "      <th>695750</th>\n",
       "      <td>School life expectancy, tertiary, both sexes (years)</td>\n",
       "      <td>UIS.SLE.56</td>\n",
       "      <td>Number of years a person of school entrance age can expect to spend within the specified level of education. For a child of a certain age a, the school life expectancy is calculated as the sum of the age specific enrolment rates for the levels of education specified. The part of the enrolment that is not distributed by age is divided by the school-age population for the level of education they are enrolled in, and multiplied by the duration of that level of education. The result is then added to the sum of the age-specific enrolment rates. A relatively high SLE indicates greater probability for children to spend more years in education and higher overall retention within the education system. It must be noted that the expected number of years does not necessarily coincide with the expected number of grades of education completed, because of repetition. Since school life expectancy is an average based on participation in different levels of education, the expected number of years of schooling may be pulled down by the magnitude of children who never go to school. Those children who are in school may benefit from many more years of education than the average.</td>\n",
       "    </tr>\n",
       "  </tbody>\n",
       "</table>\n",
       "</div>"
      ],
      "text/plain": [
       "                                                                                                                                Indicator Name  \\\n",
       "279994                                                                 Enrolment in post-secondary non-tertiary education, both sexes (number)   \n",
       "285343                                                                     Enrolment in tertiary education per 100,000 inhabitants, both sexes   \n",
       "286044                                                                    Enrolment in tertiary education, all programmes, both sexes (number)   \n",
       "286528                                                                Enrolment in tertiary education, ISCED 5 programmes, both sexes (number)   \n",
       "287012                                                                Enrolment in tertiary education, ISCED 6 programmes, both sexes (number)   \n",
       "287496                                                                Enrolment in tertiary education, ISCED 7 programmes, both sexes (number)   \n",
       "287980                                                                Enrolment in tertiary education, ISCED 8 programmes, both sexes (number)   \n",
       "304946                                                            Graduates from ISCED 5 programmes in tertiary education, both sexes (number)   \n",
       "305429                                                            Graduates from ISCED 6 programmes in tertiary education, both sexes (number)   \n",
       "305913                                                            Graduates from ISCED 7 programmes in tertiary education, both sexes (number)   \n",
       "306398                                                            Graduates from ISCED 8 programmes in tertiary education, both sexes (number)   \n",
       "306881                                                                                  Graduates from tertiary education, both sexes (number)   \n",
       "312180                                                                              Gross enrolment ratio, primary to tertiary, both sexes (%)   \n",
       "314358                                                                                         Gross enrolment ratio, tertiary, both sexes (%)   \n",
       "320892                                                                             Gross outbound enrolment ratio, all regions, both sexes (%)   \n",
       "434390                                                    Percentage of all students in tertiary education enrolled in ISCED 5, both sexes (%)   \n",
       "434632                                                    Percentage of all students in tertiary education enrolled in ISCED 6, both sexes (%)   \n",
       "434874                                                    Percentage of all students in tertiary education enrolled in ISCED 7, both sexes (%)   \n",
       "435116                                                    Percentage of all students in tertiary education enrolled in ISCED 8, both sexes (%)   \n",
       "437077                                                               Percentage of enrolment in tertiary education in private institutions (%)   \n",
       "449419                                    Percentage of graduates from tertiary education graduating from Education programmes, both sexes (%)   \n",
       "449662  Percentage of graduates from tertiary education graduating from Engineering, Manufacturing and Construction programmes, both sexes (%)   \n",
       "449904                           Percentage of graduates from tertiary education graduating from Health and Welfare programmes, both sexes (%)   \n",
       "450146                          Percentage of graduates from tertiary education graduating from Humanities and Arts programmes, both sexes (%)   \n",
       "450388                        Percentage of graduates from tertiary education graduating from programmes in unspecified fields, both sexes (%)   \n",
       "450630                                      Percentage of graduates from tertiary education graduating from Science programmes, both sexes (%)   \n",
       "450872                                     Percentage of graduates from tertiary education graduating from Services programmes, both sexes (%)   \n",
       "451114            Percentage of graduates from tertiary education graduating from Social Sciences, Business and Law programmes, both sexes (%)   \n",
       "695750                                                                                    School life expectancy, tertiary, both sexes (years)   \n",
       "\n",
       "           Indicator Code  \\\n",
       "279994            UIS.E.4   \n",
       "285343   UIS.TE_100000.56   \n",
       "286044        SE.TER.ENRL   \n",
       "286528          UIS.E.5.B   \n",
       "287012            UIS.E.6   \n",
       "287496            UIS.E.7   \n",
       "287980            UIS.E.8   \n",
       "304946        UIS.G.5.B.T   \n",
       "305429          UIS.G.6.T   \n",
       "305913          UIS.G.7.T   \n",
       "306398          UIS.G.8.T   \n",
       "306881        SE.TER.GRAD   \n",
       "312180        SE.TOT.ENRR   \n",
       "314358        SE.TER.ENRR   \n",
       "320892        UIS.GOER.56   \n",
       "434390        UIS.TEP.5.B   \n",
       "434632          UIS.TEP.6   \n",
       "434874          UIS.TEP.7   \n",
       "435116          UIS.TEP.8   \n",
       "437077     SE.TER.PRIV.ZS   \n",
       "449419  SE.TER.GRAD.ED.ZS   \n",
       "449662  SE.TER.GRAD.EN.ZS   \n",
       "449904  SE.TER.GRAD.HL.ZS   \n",
       "450146  SE.TER.GRAD.HU.ZS   \n",
       "450388  SE.TER.GRAD.OT.ZS   \n",
       "450630  SE.TER.GRAD.SC.ZS   \n",
       "450872  SE.TER.GRAD.SV.ZS   \n",
       "451114  SE.TER.GRAD.SS.ZS   \n",
       "695750         UIS.SLE.56   \n",
       "\n",
       "                                                                                                                                                                                                                                                                                                                                                                                                                                                                                                                                                                                                                                                                                                                                                                                                                                                                                                                                                                                                                                                                                                                                                                                                                Long definition  \n",
       "279994                                                                                                                                                                                                                                                                                                                                                                                                                                                                                                                                                                                                                                                                                                                                                                                                                                                                                                                                                                                                                                                                                            Total number of students enrolled in public and private post-secondary non-tertiary education institutions regardless of age.  \n",
       "285343                                                                                                                                                                                                                                                                                                                                                                                                                                                                                                                                                                                                                                                                                                                                                              Number of students enrolled in tertiary education in a given academic year per 100,000 inhabitants. It is calculated by dividing the total number of students enrolled in tertiary education in a given academic year by the country’s population and multiplying the result by 100,000. This indicator shows the general level of participation in tertiary education by indicating the proportion (or density) of students within a country’s population.  \n",
       "286044                                                                                                                                                                                                                                                                                                                                                                                                                                                                                                                                                                                                                                                                                                                                                                                                                                                                                                                                                                                                                                                                                                                             The total number of students enrolled at public and private tertiary education institutions.  \n",
       "286528                                                                                                                                                                                                                                                                                                                                                                                                                                                                                                                                                                                                                                                                                                                                                                                                                                                                                                                                                                                                                                                                                                             Total number of students enrolled in public and private short-cycle tertiary education programmes (ISCED 5).  \n",
       "287012                                                                                                                                                                                                                                                                                                                                                                                                                                                                                                                                                                                                                                                                                                                                                                                                                                                                                                                                                                                                                                                                    Total number of students enrolled in public and private tertiary education institutions in programmes on the bachelors or equivalent (ISCED 6) level.  \n",
       "287496                                                                                                                                                                                                                                                                                                                                                                                                                                                                                                                                                                                                                                                                                                                                                                                                                                                                                                                                                                                                                                                                      Total number of students enrolled in public and private tertiary education institutions in programmes on the masters or equivalent (ISCED 7) level.  \n",
       "287980                                                                                                                                                                                                                                                                                                                                                                                                                                                                                                                                                                                                                                                                                                                                                                                                                                                                                                                                                                                                                                                                     Total number of students enrolled in public and private tertiary education institutions in programmes on the doctoral or equivalent (ISCED 8) level.  \n",
       "304946                                                                                                                                                                                                                                                                                                                                                                                                                                                                                                                                                                                                                                                                                                                                                                                                                                                                                                                                                                                                                           Total number of students successfully completing short-cycle tertiary education programmes (ISCED 5) in public and private tertiary education institutions during the reference academic year.  \n",
       "305429                                                                                                                                                                                                                                                                                                                                                                                                                                                                                                                                                                                                                                                                                                                                                                                                                                                                                                                                                                                                                     Total number of students successfully completing programmes on the bachelors or equivalent (ISCED 6) level during the reference academic year in public and private tertiary education institutions.  \n",
       "305913                                                                                                                                                                                                                                                                                                                                                                                                                                                                                                                                                                                                                                                                                                                                                                                                                                                                                                                                                                                                                       Total number of students successfully completing programmes on the masters or equivalent (ISCED 7) level during the reference academic year in public and private tertiary education institutions.  \n",
       "306398                                                                                                                                                                                                                                                                                                                                                                                                                                                                                                                                                                                                                                                                                                                                                                                                                                                                                                                                                                                                                      Total number of students successfully completing programmes on the doctoral or equivalent (ISCED 8) level during the reference academic year in public and private tertiary education institutions.  \n",
       "306881                                                                                                                                                                                                                                                                                                                                                                                                                                                                                                                                                                                                                                                                                                                                                                                                                                                                                                                                                                                                                                  Total number of students successfully completing tertiary education programmes (ISCED 5 to 8) in public and private tertiary education institutions during the reference academic year.  \n",
       "312180                                                                                                                                                                                                                                                                                                                                                                                                                                                                                                                                                                                                                                                                                                                                                                                                                    Total enrollment in primary, secondary and tertiary education, regardless of age, expressed as a percentage of the total population of primary school age, secondary school age, and the five-year age group following on from secondary school leaving. GER can exceed 100% due to the inclusion of over-aged and under-aged students because of early or late school entrance and grade repetition.  \n",
       "314358                                                                                                                                                                                                                                                                                                                                                                                                                                                                                                                                                                                                                                                                                                                                                                                                                                                                                                                                                                                                                       Total enrollment in tertiary education (ISCED 5 to 8), regardless of age, expressed as a percentage of the total population of the five-year age group following on from secondary school leaving.  \n",
       "320892                                                                                                                                                                                                                                                                                                                                                                                                                                                                                                                                                                                                                                                                                                                                                                                                                                                                                                                                                                                                                                                                   Total number of mobile tertiary students coming from a country/region as a percentage of the population of tertiary student age in their home country.  \n",
       "434390                                                                                                                                                                                                                                                                                                                                                                                                                                                                                                                                                                                                                                                                                                                                                                                                                                                                                                                                                                                                                                                                                   Total enrolment in short-cycle tertiary programmes (ISCED 5) as a percentage of total enrolments in tertiary education (ISCED 5 to 8).  \n",
       "434632                                                                                                                                                                                                                                                                                                                                                                                                                                                                                                                                                                                                                                                                                                                                                                                                                                                                                                                                                                                                                                                                                Total enrolment in bachelors or equivalent programmes (ISCED 6) as a percentage of total enrolments in tertiary education (ISCED 5 to 8).  \n",
       "434874                                                                                                                                                                                                                                                                                                                                                                                                                                                                                                                                                                                                                                                                                                                                                                                                                                                                                                                                                                                                                                                                                  Total enrolment in masters or equivalent programmes (ISCED 7) as a percentage of total enrolments in tertiary education (ISCED 5 to 8).  \n",
       "435116                                                                                                                                                                                                                                                                                                                                                                                                                                                                                                                                                                                                                                                                                                                                                                                                                                                                                                                                                                                                                                                                                 Total enrolment in doctoral or equivalent programmes (ISCED 8) as a percentage of total enrolments in tertiary education (ISCED 5 to 8).  \n",
       "437077                                                                                                                                                                                                                                                                                                                                                                                                                                                                                                                                                                                                                                                                                                                                                                                                                     Total number of students in tertiary education enrolled in institutions that are not operated by a public authority but controlled and managed, whether for profit or not, by a private body (e.g., non-governmental organisation, religious body, special interest group, foundation or business enterprise), expressed as a percentage of total number of students enrolled in tertiary education.  \n",
       "449419                                                                                                                                                                                                                                                                                                                                                                                                                                                                                                                                                                                                                                                                                                                                                                                                                                                                                                                                                                                                                                                                                                                                Share of all tertiary graduates who completed education programmes in the reference year.  \n",
       "449662                                                                                                                                                                                                                                                                                                                                                                                                                                                                                                                                                                                                                                                                                                                                                                                                                                                                                                                                                                                                                                                                                              Share of all tertiary graduates who completed engineering, manufacturing and construction programmes in the reference year.  \n",
       "449904                                                                                                                                                                                                                                                                                                                                                                                                                                                                                                                                                                                                                                                                                                                                                                                                                                                                                                                                                                                                                                                                                                                       Share of all tertiary graduates who completed health and welfare programmes in the reference year.  \n",
       "450146                                                                                                                                                                                                                                                                                                                                                                                                                                                                                                                                                                                                                                                                                                                                                                                                                                                                                                                                                                                                                                                                                                                      Share of all tertiary graduates who completed humanities and arts programmes in the reference year.  \n",
       "450388                                                                                                                                                                                                                                                                                                                                                                                                                                                                                                                                                                                                                                                                                                                                                                                                                                                                                                                                                                                                                                                                                                                    Share of all tertiary graduates who completed programmes in unspecified fields in the reference year.  \n",
       "450630                                                                                                                                                                                                                                                                                                                                                                                                                                                                                                                                                                                                                                                                                                                                                                                                                                                                                                                                                                                                                                                                                                                                  Share of all tertiary graduates who completed science programmes in the reference year.  \n",
       "450872                                                                                                                                                                                                                                                                                                                                                                                                                                                                                                                                                                                                                                                                                                                                                                                                                                                                                                                                                                                                                                                                                                                                 Share of all tertiary graduates who completed services programmes in the reference year.  \n",
       "451114                                                                                                                                                                                                                                                                                                                                                                                                                                                                                                                                                                                                                                                                                                                                                                                                                                                                                                                                                                                                                                                                                                        Share of all tertiary graduates who completed social sciences, business and law programmes in the reference year.  \n",
       "695750  Number of years a person of school entrance age can expect to spend within the specified level of education. For a child of a certain age a, the school life expectancy is calculated as the sum of the age specific enrolment rates for the levels of education specified. The part of the enrolment that is not distributed by age is divided by the school-age population for the level of education they are enrolled in, and multiplied by the duration of that level of education. The result is then added to the sum of the age-specific enrolment rates. A relatively high SLE indicates greater probability for children to spend more years in education and higher overall retention within the education system. It must be noted that the expected number of years does not necessarily coincide with the expected number of grades of education completed, because of repetition. Since school life expectancy is an average based on participation in different levels of education, the expected number of years of schooling may be pulled down by the magnitude of children who never go to school. Those children who are in school may benefit from many more years of education than the average.  "
      ]
     },
     "execution_count": 58,
     "metadata": {},
     "output_type": "execute_result"
    }
   ],
   "source": [
    "df_temp_ter_g = df_stats_lv[df_stats_lv['Topic']=='Tertiary']\n",
    "df_temp_ter = drop_gender(df_temp_ter_g)\n",
    "df_temp_ter = df_temp_ter.drop_duplicates(['Indicator Code'])\n",
    "df_temp_ter[[\"Indicator Name\", \"Indicator Code\", \"Long definition\"]]"
   ]
  },
  {
   "cell_type": "markdown",
   "id": "55e574b0-98b2-4e82-a11c-ac3b60a839eb",
   "metadata": {},
   "source": [
    "> On va retenir l'indicateur **SE.TER.ENRL**."
   ]
  },
  {
   "cell_type": "code",
   "execution_count": 59,
   "id": "42746c12-6b37-4fd0-ba2c-ee44de4f55f6",
   "metadata": {},
   "outputs": [],
   "source": [
    "list_temp_tertiary = list(df_temp_ter_g['Indicator Code'].unique())\n",
    "list_temp_tertiary.remove('SE.TER.ENRL')\n",
    "\n",
    "df_stats_lv = df_stats_lv[~df_stats_lv['Indicator Code'].isin(list_temp_tertiary)]\n",
    "\n",
    "list_indicator_selected.append('SE.TER.ENRL')"
   ]
  },
  {
   "cell_type": "markdown",
   "id": "51322c44",
   "metadata": {},
   "source": [
    "### Attainment"
   ]
  },
  {
   "cell_type": "markdown",
   "id": "c056bbdb-94ce-42c1-bf1e-664da8887e8e",
   "metadata": {},
   "source": [
    "<center><img src=\"img/Attainment_topic.png\"/></center>"
   ]
  },
  {
   "cell_type": "code",
   "execution_count": 60,
   "id": "301c4fa2-dbee-4b44-a355-5911b81bd7ae",
   "metadata": {},
   "outputs": [
    {
     "data": {
      "text/html": [
       "<div>\n",
       "<style scoped>\n",
       "    .dataframe tbody tr th:only-of-type {\n",
       "        vertical-align: middle;\n",
       "    }\n",
       "\n",
       "    .dataframe tbody tr th {\n",
       "        vertical-align: top;\n",
       "    }\n",
       "\n",
       "    .dataframe thead th {\n",
       "        text-align: right;\n",
       "    }\n",
       "</style>\n",
       "<table border=\"1\" class=\"dataframe\">\n",
       "  <thead>\n",
       "    <tr style=\"text-align: right;\">\n",
       "      <th></th>\n",
       "      <th>Indicator Name</th>\n",
       "      <th>Indicator Code</th>\n",
       "      <th>Long definition</th>\n",
       "    </tr>\n",
       "  </thead>\n",
       "  <tbody>\n",
       "    <tr>\n",
       "      <th>43101</th>\n",
       "      <td>Barro-Lee: Average years of secondary schooling, age 15-19, total</td>\n",
       "      <td>BAR.SEC.SCHL.1519</td>\n",
       "      <td>Average years of secondary schooling, 15-19, total is the average years of secondary education completed among people age 15-19.</td>\n",
       "    </tr>\n",
       "    <tr>\n",
       "      <th>43585</th>\n",
       "      <td>Barro-Lee: Average years of secondary schooling, age 20-24, total</td>\n",
       "      <td>BAR.SEC.SCHL.2024</td>\n",
       "      <td>Average years of secondary schooling, 20-24, total is the average years of secondary education completed among people age 20-24.</td>\n",
       "    </tr>\n",
       "    <tr>\n",
       "      <th>50361</th>\n",
       "      <td>Barro-Lee: Average years of tertiary schooling, age 15-19, total</td>\n",
       "      <td>BAR.TER.SCHL.1519</td>\n",
       "      <td>Average years of tertiary schooling, 15-19, total is the average years of tertiary education completed among people age 15-19.</td>\n",
       "    </tr>\n",
       "    <tr>\n",
       "      <th>50845</th>\n",
       "      <td>Barro-Lee: Average years of tertiary schooling, age 20-24, total</td>\n",
       "      <td>BAR.TER.SCHL.2024</td>\n",
       "      <td>Average years of tertiary schooling, 20-24, total is the average years of tertiary education completed among people age 20-24.</td>\n",
       "    </tr>\n",
       "    <tr>\n",
       "      <th>57621</th>\n",
       "      <td>Barro-Lee: Average years of total schooling, age 15-19, total</td>\n",
       "      <td>BAR.SCHL.1519</td>\n",
       "      <td>Average years of total schooling, 15-19, total is the average years of education completed among people age 15-19.</td>\n",
       "    </tr>\n",
       "    <tr>\n",
       "      <th>58105</th>\n",
       "      <td>Barro-Lee: Average years of total schooling, age 20-24, total</td>\n",
       "      <td>BAR.SCHL.2024</td>\n",
       "      <td>Average years of total schooling, 20-24, total is the average years of education completed among people age 20-24.</td>\n",
       "    </tr>\n",
       "    <tr>\n",
       "      <th>91259</th>\n",
       "      <td>Barro-Lee: Percentage of population age 15-19 with no education</td>\n",
       "      <td>BAR.NOED.1519.ZS</td>\n",
       "      <td>Percentage of population age 15-19 with no education</td>\n",
       "    </tr>\n",
       "    <tr>\n",
       "      <th>92953</th>\n",
       "      <td>Barro-Lee: Percentage of population age 20-24 with no education</td>\n",
       "      <td>BAR.NOED.2024.ZS</td>\n",
       "      <td>Percentage of population age 20-24 with no education</td>\n",
       "    </tr>\n",
       "    <tr>\n",
       "      <th>115701</th>\n",
       "      <td>Barro-Lee: Population in thousands, age 15-19, total</td>\n",
       "      <td>BAR.POP.1519</td>\n",
       "      <td>Population in thousands, age 15-19, total is the total population of 15-19 year olds in thousands estimated by Barro-Lee.</td>\n",
       "    </tr>\n",
       "    <tr>\n",
       "      <th>116185</th>\n",
       "      <td>Barro-Lee: Population in thousands, age 20-24, total</td>\n",
       "      <td>BAR.POP.2024</td>\n",
       "      <td>Population in thousands, age 20-24, total is the total population of 20-24 year olds in thousands estimated by Barro-Lee.</td>\n",
       "    </tr>\n",
       "  </tbody>\n",
       "</table>\n",
       "</div>"
      ],
      "text/plain": [
       "                                                           Indicator Name  \\\n",
       "43101   Barro-Lee: Average years of secondary schooling, age 15-19, total   \n",
       "43585   Barro-Lee: Average years of secondary schooling, age 20-24, total   \n",
       "50361    Barro-Lee: Average years of tertiary schooling, age 15-19, total   \n",
       "50845    Barro-Lee: Average years of tertiary schooling, age 20-24, total   \n",
       "57621       Barro-Lee: Average years of total schooling, age 15-19, total   \n",
       "58105       Barro-Lee: Average years of total schooling, age 20-24, total   \n",
       "91259     Barro-Lee: Percentage of population age 15-19 with no education   \n",
       "92953     Barro-Lee: Percentage of population age 20-24 with no education   \n",
       "115701               Barro-Lee: Population in thousands, age 15-19, total   \n",
       "116185               Barro-Lee: Population in thousands, age 20-24, total   \n",
       "\n",
       "           Indicator Code  \\\n",
       "43101   BAR.SEC.SCHL.1519   \n",
       "43585   BAR.SEC.SCHL.2024   \n",
       "50361   BAR.TER.SCHL.1519   \n",
       "50845   BAR.TER.SCHL.2024   \n",
       "57621       BAR.SCHL.1519   \n",
       "58105       BAR.SCHL.2024   \n",
       "91259    BAR.NOED.1519.ZS   \n",
       "92953    BAR.NOED.2024.ZS   \n",
       "115701       BAR.POP.1519   \n",
       "116185       BAR.POP.2024   \n",
       "\n",
       "                                                                                                                         Long definition  \n",
       "43101   Average years of secondary schooling, 15-19, total is the average years of secondary education completed among people age 15-19.  \n",
       "43585   Average years of secondary schooling, 20-24, total is the average years of secondary education completed among people age 20-24.  \n",
       "50361     Average years of tertiary schooling, 15-19, total is the average years of tertiary education completed among people age 15-19.  \n",
       "50845     Average years of tertiary schooling, 20-24, total is the average years of tertiary education completed among people age 20-24.  \n",
       "57621                 Average years of total schooling, 15-19, total is the average years of education completed among people age 15-19.  \n",
       "58105                 Average years of total schooling, 20-24, total is the average years of education completed among people age 20-24.  \n",
       "91259                                                                               Percentage of population age 15-19 with no education  \n",
       "92953                                                                               Percentage of population age 20-24 with no education  \n",
       "115701         Population in thousands, age 15-19, total is the total population of 15-19 year olds in thousands estimated by Barro-Lee.  \n",
       "116185         Population in thousands, age 20-24, total is the total population of 20-24 year olds in thousands estimated by Barro-Lee.  "
      ]
     },
     "execution_count": 60,
     "metadata": {},
     "output_type": "execute_result"
    }
   ],
   "source": [
    "df_temp_att_g = df_stats_lv[df_stats_lv['Topic']=='Attainment']\n",
    "df_temp_att = drop_gender(df_temp_att_g)\n",
    "df_temp_att = df_temp_att.drop_duplicates(['Indicator Code'])\n",
    "df_temp_att[[\"Indicator Name\",\"Indicator Code\", \"Long definition\"]]"
   ]
  },
  {
   "cell_type": "markdown",
   "id": "0ac29deb-1e22-48cd-9a96-b83fdcec7dd5",
   "metadata": {},
   "source": [
    "????"
   ]
  },
  {
   "cell_type": "code",
   "execution_count": 61,
   "id": "2af3b1a9-0f5a-48c4-8961-aaff8088096a",
   "metadata": {},
   "outputs": [],
   "source": [
    "list_temp_attain_g = df_temp_att_g['Indicator Code'].unique().tolist()\n",
    "list_temp_attain = df_temp_att['Indicator Code'].unique().tolist()\n",
    "\n",
    "list_temp_attain_g = list(set(list_temp_attain_g)-set(list_temp_attain))\n",
    "\n",
    "df_stats_lv = df_stats_lv[~df_stats_lv['Indicator Code'].isin(list_temp_attain_g)]\n",
    "\n",
    "list_temp_attain = df_temp_att['Indicator Code'].unique().tolist()\n",
    "list_indicator_selected = list_indicator_selected + list_temp_attain"
   ]
  },
  {
   "cell_type": "markdown",
   "id": "faf9c91c",
   "metadata": {},
   "source": [
    "### Infrastructure: Communications"
   ]
  },
  {
   "cell_type": "code",
   "execution_count": 62,
   "id": "21f37e8b",
   "metadata": {},
   "outputs": [
    {
     "name": "stdout",
     "output_type": "stream",
     "text": [
      "Nombre d'indicateur unique : 2\n"
     ]
    }
   ],
   "source": [
    "df_temp_com = df_stats_lv[df_stats_lv['Topic']=='Infrastructure: Communications']\n",
    "print(\"Nombre d'indicateur unique : {}\".format(len(df_temp_com['Indicator Code'].unique())))"
   ]
  },
  {
   "cell_type": "code",
   "execution_count": 63,
   "id": "bb469d03",
   "metadata": {},
   "outputs": [
    {
     "data": {
      "text/html": [
       "<div>\n",
       "<style scoped>\n",
       "    .dataframe tbody tr th:only-of-type {\n",
       "        vertical-align: middle;\n",
       "    }\n",
       "\n",
       "    .dataframe tbody tr th {\n",
       "        vertical-align: top;\n",
       "    }\n",
       "\n",
       "    .dataframe thead th {\n",
       "        text-align: right;\n",
       "    }\n",
       "</style>\n",
       "<table border=\"1\" class=\"dataframe\">\n",
       "  <thead>\n",
       "    <tr style=\"text-align: right;\">\n",
       "      <th></th>\n",
       "      <th>Indicator Code</th>\n",
       "      <th>Long definition</th>\n",
       "    </tr>\n",
       "  </thead>\n",
       "  <tbody>\n",
       "    <tr>\n",
       "      <th>322828</th>\n",
       "      <td>IT.NET.USER.P2</td>\n",
       "      <td>Internet users are individuals who have used the Internet (from any location) in the last 3 months. The Internet can be used via a computer, mobile phone, personal digital assistant, games machine, digital TV etc.</td>\n",
       "    </tr>\n",
       "    <tr>\n",
       "      <th>491744</th>\n",
       "      <td>IT.CMP.PCMP.P2</td>\n",
       "      <td>Personal computers are self-contained computers designed to be used by a single individual.</td>\n",
       "    </tr>\n",
       "  </tbody>\n",
       "</table>\n",
       "</div>"
      ],
      "text/plain": [
       "        Indicator Code  \\\n",
       "322828  IT.NET.USER.P2   \n",
       "491744  IT.CMP.PCMP.P2   \n",
       "\n",
       "                                                                                                                                                                                                              Long definition  \n",
       "322828  Internet users are individuals who have used the Internet (from any location) in the last 3 months. The Internet can be used via a computer, mobile phone, personal digital assistant, games machine, digital TV etc.  \n",
       "491744                                                                                                                            Personal computers are self-contained computers designed to be used by a single individual.  "
      ]
     },
     "execution_count": 63,
     "metadata": {},
     "output_type": "execute_result"
    }
   ],
   "source": [
    "df_temp_com = df_temp_com.drop_duplicates(['Indicator Code'])\n",
    "df_temp_com[[\"Indicator Code\", \"Long definition\"]]"
   ]
  },
  {
   "cell_type": "markdown",
   "id": "61a03a01",
   "metadata": {},
   "source": [
    "> Nous gardons **IT.NET.USER.P2** qui est un indicateur sur l'utilisation d'internet car nos cours sont en lignes."
   ]
  },
  {
   "cell_type": "code",
   "execution_count": 64,
   "id": "2b58f422",
   "metadata": {},
   "outputs": [],
   "source": [
    "df_stats_lv = df_stats_lv[~df_stats_lv['Indicator Code'].str.contains(\"IT.CMP.PCMP.P2\")]\n",
    "\n",
    "list_indicator_selected.append('IT.NET.USER.P2')"
   ]
  },
  {
   "cell_type": "markdown",
   "id": "f4605b64-d727-4362-88c9-7984672d051a",
   "metadata": {},
   "source": [
    "### Population"
   ]
  },
  {
   "cell_type": "code",
   "execution_count": 65,
   "id": "52a936b2-d80f-48f3-809a-260c3be9eb62",
   "metadata": {},
   "outputs": [
    {
     "data": {
      "text/html": [
       "<div>\n",
       "<style scoped>\n",
       "    .dataframe tbody tr th:only-of-type {\n",
       "        vertical-align: middle;\n",
       "    }\n",
       "\n",
       "    .dataframe tbody tr th {\n",
       "        vertical-align: top;\n",
       "    }\n",
       "\n",
       "    .dataframe thead th {\n",
       "        text-align: right;\n",
       "    }\n",
       "</style>\n",
       "<table border=\"1\" class=\"dataframe\">\n",
       "  <thead>\n",
       "    <tr style=\"text-align: right;\">\n",
       "      <th></th>\n",
       "      <th>Indicator Name</th>\n",
       "      <th>Indicator Code</th>\n",
       "      <th>Long definition</th>\n",
       "    </tr>\n",
       "  </thead>\n",
       "  <tbody>\n",
       "    <tr>\n",
       "      <th>545977</th>\n",
       "      <td>Population of compulsory school age, both sexes (number)</td>\n",
       "      <td>UIS.SAP.CE</td>\n",
       "      <td>Population of children within the age span that children are legally obliged to attend school.</td>\n",
       "    </tr>\n",
       "    <tr>\n",
       "      <th>546678</th>\n",
       "      <td>Population of the official age for lower secondary education, both sexes (number)</td>\n",
       "      <td>SP.SEC.LTOT.IN</td>\n",
       "      <td>Population of the age-group theoretically corresponding to lower secondary education as indicated by theoretical entrance age and duration.</td>\n",
       "    </tr>\n",
       "    <tr>\n",
       "      <th>547404</th>\n",
       "      <td>Population of the official age for post-secondary non-tertiary education, both sexes (number)</td>\n",
       "      <td>UIS.SAP.4</td>\n",
       "      <td>Population of the age-group theoretically corresponding to post-secondary non-tertiary education as indicated by theoretical entrance age and duration.</td>\n",
       "    </tr>\n",
       "    <tr>\n",
       "      <th>548130</th>\n",
       "      <td>Population of the official age for pre-primary education, both sexes (number)</td>\n",
       "      <td>SP.PRE.TOTL.IN</td>\n",
       "      <td>Population of the age-group theoretically corresponding to pre-primary education as indicated by theoretical entrance age and duration.</td>\n",
       "    </tr>\n",
       "    <tr>\n",
       "      <th>549582</th>\n",
       "      <td>Population of the official age for secondary education, both sexes (number)</td>\n",
       "      <td>SP.SEC.TOTL.IN</td>\n",
       "      <td>Population of the age-group theoretically corresponding to secondary education as indicated by theoretical entrance age and duration.</td>\n",
       "    </tr>\n",
       "    <tr>\n",
       "      <th>550308</th>\n",
       "      <td>Population of the official age for tertiary education, both sexes (number)</td>\n",
       "      <td>SP.TER.TOTL.IN</td>\n",
       "      <td>Population of the age-group theoretically corresponding to tertiary education as indicated by theoretical entrance age and duration.</td>\n",
       "    </tr>\n",
       "    <tr>\n",
       "      <th>551760</th>\n",
       "      <td>Population of the official age for upper secondary education, both sexes (number)</td>\n",
       "      <td>SP.SEC.UTOT.IN</td>\n",
       "      <td>Population of the age-group theoretically corresponding to upper secondary education as indicated by theoretical entrance age and duration.</td>\n",
       "    </tr>\n",
       "    <tr>\n",
       "      <th>552486</th>\n",
       "      <td>Population of the official entrance age to primary education, both sexes (number)</td>\n",
       "      <td>UIS.SAP.1.G1</td>\n",
       "      <td>Population of the age-group theoretically corresponding to the official entrance age to primary education. The official entrance age is the age at which students would enter a given programme or level of education assuming they start at the official entrance age for the lowest level of education, study full-time throughout and progressed through the system without repeating or skipping a grade. The theoretical entrance age to a given programme or level is typically, but not always, the most common entrance age.</td>\n",
       "    </tr>\n",
       "    <tr>\n",
       "      <th>553212</th>\n",
       "      <td>Population of the official entrance age to secondary general education, both sexes (number)</td>\n",
       "      <td>UIS.SAP.23.GPV.G1</td>\n",
       "      <td>Population of the age-group theoretically corresponding to secondary general education as indicated by theoretical entrance age and duration.</td>\n",
       "    </tr>\n",
       "    <tr>\n",
       "      <th>587117</th>\n",
       "      <td>Population, ages 15-24, total</td>\n",
       "      <td>SP.POP.1524.TO.UN</td>\n",
       "      <td>Population, ages 15-24, total is the total population age 15-24.</td>\n",
       "    </tr>\n",
       "  </tbody>\n",
       "</table>\n",
       "</div>"
      ],
      "text/plain": [
       "                                                                                       Indicator Name  \\\n",
       "545977                                       Population of compulsory school age, both sexes (number)   \n",
       "546678              Population of the official age for lower secondary education, both sexes (number)   \n",
       "547404  Population of the official age for post-secondary non-tertiary education, both sexes (number)   \n",
       "548130                  Population of the official age for pre-primary education, both sexes (number)   \n",
       "549582                    Population of the official age for secondary education, both sexes (number)   \n",
       "550308                     Population of the official age for tertiary education, both sexes (number)   \n",
       "551760              Population of the official age for upper secondary education, both sexes (number)   \n",
       "552486              Population of the official entrance age to primary education, both sexes (number)   \n",
       "553212    Population of the official entrance age to secondary general education, both sexes (number)   \n",
       "587117                                                                  Population, ages 15-24, total   \n",
       "\n",
       "           Indicator Code  \\\n",
       "545977         UIS.SAP.CE   \n",
       "546678     SP.SEC.LTOT.IN   \n",
       "547404          UIS.SAP.4   \n",
       "548130     SP.PRE.TOTL.IN   \n",
       "549582     SP.SEC.TOTL.IN   \n",
       "550308     SP.TER.TOTL.IN   \n",
       "551760     SP.SEC.UTOT.IN   \n",
       "552486       UIS.SAP.1.G1   \n",
       "553212  UIS.SAP.23.GPV.G1   \n",
       "587117  SP.POP.1524.TO.UN   \n",
       "\n",
       "                                                                                                                                                                                                                                                                                                                                                                                                                                                                                                                             Long definition  \n",
       "545977                                                                                                                                                                                                                                                                                                                                                                                                                                        Population of children within the age span that children are legally obliged to attend school.  \n",
       "546678                                                                                                                                                                                                                                                                                                                                                                                           Population of the age-group theoretically corresponding to lower secondary education as indicated by theoretical entrance age and duration.  \n",
       "547404                                                                                                                                                                                                                                                                                                                                                                               Population of the age-group theoretically corresponding to post-secondary non-tertiary education as indicated by theoretical entrance age and duration.  \n",
       "548130                                                                                                                                                                                                                                                                                                                                                                                               Population of the age-group theoretically corresponding to pre-primary education as indicated by theoretical entrance age and duration.  \n",
       "549582                                                                                                                                                                                                                                                                                                                                                                                                 Population of the age-group theoretically corresponding to secondary education as indicated by theoretical entrance age and duration.  \n",
       "550308                                                                                                                                                                                                                                                                                                                                                                                                  Population of the age-group theoretically corresponding to tertiary education as indicated by theoretical entrance age and duration.  \n",
       "551760                                                                                                                                                                                                                                                                                                                                                                                           Population of the age-group theoretically corresponding to upper secondary education as indicated by theoretical entrance age and duration.  \n",
       "552486  Population of the age-group theoretically corresponding to the official entrance age to primary education. The official entrance age is the age at which students would enter a given programme or level of education assuming they start at the official entrance age for the lowest level of education, study full-time throughout and progressed through the system without repeating or skipping a grade. The theoretical entrance age to a given programme or level is typically, but not always, the most common entrance age.  \n",
       "553212                                                                                                                                                                                                                                                                                                                                                                                         Population of the age-group theoretically corresponding to secondary general education as indicated by theoretical entrance age and duration.  \n",
       "587117                                                                                                                                                                                                                                                                                                                                                                                                                                                                      Population, ages 15-24, total is the total population age 15-24.  "
      ]
     },
     "execution_count": 65,
     "metadata": {},
     "output_type": "execute_result"
    }
   ],
   "source": [
    "df_temp_pop_g = df_stats_lv[df_stats_lv['Topic']=='Population']\n",
    "df_temp_pop = drop_gender(df_temp_pop_g)\n",
    "df_temp_pop = df_temp_pop.drop_duplicates(['Indicator Code'])\n",
    "df_temp_pop[[\"Indicator Name\",\"Indicator Code\", \"Long definition\"]]"
   ]
  },
  {
   "cell_type": "markdown",
   "id": "1b04d205-1fe4-4e4b-9c0a-9daa47bfd876",
   "metadata": {},
   "source": [
    "> Les informations ne sont pas petinentes pour notre analyse."
   ]
  },
  {
   "cell_type": "code",
   "execution_count": 66,
   "id": "20ee87d3-98ef-4104-92f5-a02579177099",
   "metadata": {},
   "outputs": [],
   "source": [
    "list_temp_pop = list_temp_tertiary = list(df_temp_pop_g['Indicator Code'].unique())\n",
    "list_temp_pop.remove('SP.POP.1524.TO.UN')\n",
    "\n",
    "df_stats_lv = df_stats_lv[~df_stats_lv['Indicator Code'].isin(list_temp_pop)]\n",
    "\n",
    "list_indicator_selected.append('SP.POP.1524.TO.UN')"
   ]
  },
  {
   "cell_type": "markdown",
   "id": "961720db",
   "metadata": {},
   "source": [
    "### Learning Outcomes"
   ]
  },
  {
   "cell_type": "code",
   "execution_count": 67,
   "id": "e695bfc0",
   "metadata": {
    "scrolled": true
   },
   "outputs": [],
   "source": [
    "df_temp_out = df_stats_lv[df_stats_lv['Topic']=='Learning Outcomes']"
   ]
  },
  {
   "cell_type": "markdown",
   "id": "6eefcf22",
   "metadata": {},
   "source": [
    "<center><img src=\"img/Learning_Outcomes_topic.png\"/></center>"
   ]
  },
  {
   "cell_type": "markdown",
   "id": "bec2c35f-a897-4c06-bf8f-402224baa60d",
   "metadata": {},
   "source": [
    "<center><img src=\"img/UK-US_grade.jpg\" width=\"500\"/></center>"
   ]
  },
  {
   "cell_type": "markdown",
   "id": "319ea4b6-ca91-4cb7-996c-05e460bd0335",
   "metadata": {},
   "source": [
    "> Etant donnée que notre cible concerne le collège et le lycée, nous gardons pas ce topic."
   ]
  },
  {
   "cell_type": "code",
   "execution_count": 68,
   "id": "6190e395-e097-43cf-8be2-140df022838f",
   "metadata": {},
   "outputs": [],
   "source": [
    "df_stats_lv = df_stats_lv[~df_stats_lv['Topic'].str.match('Learning Outcomes')]"
   ]
  },
  {
   "cell_type": "markdown",
   "id": "4bccf294",
   "metadata": {},
   "source": [
    "### Economic Policy & Debt"
   ]
  },
  {
   "cell_type": "code",
   "execution_count": 69,
   "id": "15c15bf3",
   "metadata": {},
   "outputs": [
    {
     "name": "stdout",
     "output_type": "stream",
     "text": [
      "\n",
      "-------------------------------------------------------------\n",
      "Economic Policy & Debt: National accounts: US$ at current prices: Aggregate indicators\n",
      "\n",
      "Nombre d'indicateur unique : 2\n",
      "                            Indicator Name  Indicator Code  \\\n",
      "294756  GDP at market prices (current US$)  NY.GDP.MKTP.CD   \n",
      "294998                   GNI (current US$)  NY.GNP.MKTP.CD   \n",
      "\n",
      "                                                                                                                                                                                                                                                                                                                                                                                                                                                                                                                                                                                                                                                              Long definition  \n",
      "294756  GDP at purchaser's prices is the sum of gross value added by all resident producers in the economy plus any product taxes and minus any subsidies not included in the value of the products. It is calculated without making deductions for depreciation of fabricated assets or for depletion and degradation of natural resources. Data are in current U.S. dollars. Dollar figures for GDP are converted from domestic currencies using single year official exchange rates. For a few countries where the official exchange rate does not reflect the rate effectively applied to actual foreign exchange transactions, an alternative conversion factor is used.  \n",
      "294998                                                                                                                                                                                                                                                                                                                                                                              GNI (formerly GNP) is the sum of value added by all resident producers plus any product taxes (less subsidies) not included in the valuation of output plus net receipts of primary income (compensation of employees and property income) from abroad. Data are in current U.S. dollars.  \n",
      "\n",
      "-------------------------------------------------------------\n",
      "Economic Policy & Debt: National accounts: US$ at constant 2010 prices: Aggregate indicators\n",
      "\n",
      "Nombre d'indicateur unique : 1\n",
      "                                  Indicator Name  Indicator Code  \\\n",
      "294514  GDP at market prices (constant 2005 US$)  NY.GDP.MKTP.KD   \n",
      "\n",
      "                                                                                                                                                                                                                                                                                                                                                                                                                                                                                                                                                                                                                                                             Long definition  \n",
      "294514  GDP at purchaser's prices is the sum of gross value added by all resident producers in the economy plus any product taxes and minus any subsidies not included in the value of the products. It is calculated without making deductions for depreciation of fabricated assets or for depletion and degradation of natural resources. Data are in constant 2010 U.S. dollars. Dollar figures for GDP are converted from domestic currencies using 2010 official exchange rates. For a few countries where the official exchange rate does not reflect the rate effectively applied to actual foreign exchange transactions, an alternative conversion factor is used.  \n",
      "\n",
      "-------------------------------------------------------------\n",
      "Economic Policy & Debt: National accounts: Atlas GNI & GNI per capita\n",
      "\n",
      "Nombre d'indicateur unique : 0\n",
      "Empty DataFrame\n",
      "Columns: [Indicator Name, Indicator Code, Long definition]\n",
      "Index: []\n"
     ]
    }
   ],
   "source": [
    "economic_topic = [\n",
    "    'Economic Policy & Debt: National accounts: US$ at current prices: Aggregate indicators',\n",
    "    'Economic Policy & Debt: National accounts: US$ at constant 2010 prices: Aggregate indicators',\n",
    "    'Economic Policy & Debt: National accounts: Atlas GNI & GNI per capita'\n",
    "]\n",
    "\n",
    "for topic in economic_topic:\n",
    "    print(\"\")\n",
    "    print(\"-------------------------------------------------------------\")\n",
    "    print(topic)\n",
    "    print(\"\")\n",
    "    df_temp_eco = df_stats_lv[df_stats_lv['Topic']==topic]\n",
    "    print(\"Nombre d'indicateur unique : {}\".format(len(df_temp_eco['Indicator Code'].unique())))\n",
    "\n",
    "    df_temp_eco = df_temp_eco.drop_duplicates(['Indicator Code'])\n",
    "    print(df_temp_eco[[\"Indicator Name\",\"Indicator Code\", \"Long definition\"]])"
   ]
  },
  {
   "cell_type": "markdown",
   "id": "95834105",
   "metadata": {},
   "source": [
    "> On va retenir l'indicateur économique **NY.GNP.MKTP.CD** revenu national brut (RNB) par habitant."
   ]
  },
  {
   "cell_type": "code",
   "execution_count": 70,
   "id": "4734887b",
   "metadata": {},
   "outputs": [],
   "source": [
    "list_to_drop = \"NY.GDP.MKTP.CD|NY.GDP.MKTP.KD\"\n",
    "df_stats_lv = df_stats_lv[~df_stats_lv['Indicator Code'].str.contains(list_to_drop)]\n",
    "\n",
    "list_indicator_selected.append('NY.GNP.MKTP.CD')"
   ]
  },
  {
   "cell_type": "markdown",
   "id": "871ee081",
   "metadata": {},
   "source": [
    "## Taux d'informations par indicateurs"
   ]
  },
  {
   "cell_type": "code",
   "execution_count": 71,
   "id": "60a4d111",
   "metadata": {},
   "outputs": [
    {
     "data": {
      "text/html": [
       "<div>\n",
       "<style scoped>\n",
       "    .dataframe tbody tr th:only-of-type {\n",
       "        vertical-align: middle;\n",
       "    }\n",
       "\n",
       "    .dataframe tbody tr th {\n",
       "        vertical-align: top;\n",
       "    }\n",
       "\n",
       "    .dataframe thead th {\n",
       "        text-align: right;\n",
       "    }\n",
       "</style>\n",
       "<table border=\"1\" class=\"dataframe\">\n",
       "  <thead>\n",
       "    <tr style=\"text-align: right;\">\n",
       "      <th></th>\n",
       "      <th>Indicator Code</th>\n",
       "      <th>Country Code</th>\n",
       "      <th>not_null_percent</th>\n",
       "    </tr>\n",
       "  </thead>\n",
       "  <tbody>\n",
       "    <tr>\n",
       "      <th>10</th>\n",
       "      <td>IT.NET.USER.P2</td>\n",
       "      <td>230</td>\n",
       "      <td>0.475207</td>\n",
       "    </tr>\n",
       "    <tr>\n",
       "      <th>11</th>\n",
       "      <td>NY.GNP.MKTP.CD</td>\n",
       "      <td>226</td>\n",
       "      <td>0.466942</td>\n",
       "    </tr>\n",
       "    <tr>\n",
       "      <th>216</th>\n",
       "      <td>UIS.E.3</td>\n",
       "      <td>225</td>\n",
       "      <td>0.464876</td>\n",
       "    </tr>\n",
       "    <tr>\n",
       "      <th>209</th>\n",
       "      <td>SE.TER.ENRL</td>\n",
       "      <td>219</td>\n",
       "      <td>0.452479</td>\n",
       "    </tr>\n",
       "    <tr>\n",
       "      <th>213</th>\n",
       "      <td>SP.POP.1524.TO.UN</td>\n",
       "      <td>192</td>\n",
       "      <td>0.396694</td>\n",
       "    </tr>\n",
       "    <tr>\n",
       "      <th>8</th>\n",
       "      <td>BAR.TER.SCHL.1519</td>\n",
       "      <td>144</td>\n",
       "      <td>0.297521</td>\n",
       "    </tr>\n",
       "    <tr>\n",
       "      <th>1</th>\n",
       "      <td>BAR.NOED.2024.ZS</td>\n",
       "      <td>144</td>\n",
       "      <td>0.297521</td>\n",
       "    </tr>\n",
       "    <tr>\n",
       "      <th>0</th>\n",
       "      <td>BAR.NOED.1519.ZS</td>\n",
       "      <td>144</td>\n",
       "      <td>0.297521</td>\n",
       "    </tr>\n",
       "    <tr>\n",
       "      <th>7</th>\n",
       "      <td>BAR.SEC.SCHL.2024</td>\n",
       "      <td>144</td>\n",
       "      <td>0.297521</td>\n",
       "    </tr>\n",
       "    <tr>\n",
       "      <th>6</th>\n",
       "      <td>BAR.SEC.SCHL.1519</td>\n",
       "      <td>144</td>\n",
       "      <td>0.297521</td>\n",
       "    </tr>\n",
       "    <tr>\n",
       "      <th>5</th>\n",
       "      <td>BAR.SCHL.2024</td>\n",
       "      <td>144</td>\n",
       "      <td>0.297521</td>\n",
       "    </tr>\n",
       "    <tr>\n",
       "      <th>4</th>\n",
       "      <td>BAR.SCHL.1519</td>\n",
       "      <td>144</td>\n",
       "      <td>0.297521</td>\n",
       "    </tr>\n",
       "    <tr>\n",
       "      <th>3</th>\n",
       "      <td>BAR.POP.2024</td>\n",
       "      <td>144</td>\n",
       "      <td>0.297521</td>\n",
       "    </tr>\n",
       "    <tr>\n",
       "      <th>2</th>\n",
       "      <td>BAR.POP.1519</td>\n",
       "      <td>144</td>\n",
       "      <td>0.297521</td>\n",
       "    </tr>\n",
       "    <tr>\n",
       "      <th>9</th>\n",
       "      <td>BAR.TER.SCHL.2024</td>\n",
       "      <td>144</td>\n",
       "      <td>0.297521</td>\n",
       "    </tr>\n",
       "    <tr>\n",
       "      <th>232</th>\n",
       "      <td>UIS.SLE.4</td>\n",
       "      <td>138</td>\n",
       "      <td>0.285124</td>\n",
       "    </tr>\n",
       "    <tr>\n",
       "      <th>234</th>\n",
       "      <td>UIS.SLE.4.GPI</td>\n",
       "      <td>135</td>\n",
       "      <td>0.278926</td>\n",
       "    </tr>\n",
       "    <tr>\n",
       "      <th>233</th>\n",
       "      <td>UIS.SLE.4.F</td>\n",
       "      <td>135</td>\n",
       "      <td>0.278926</td>\n",
       "    </tr>\n",
       "    <tr>\n",
       "      <th>235</th>\n",
       "      <td>UIS.SLE.4.M</td>\n",
       "      <td>135</td>\n",
       "      <td>0.278926</td>\n",
       "    </tr>\n",
       "    <tr>\n",
       "      <th>228</th>\n",
       "      <td>UIS.GTVP.4.V</td>\n",
       "      <td>134</td>\n",
       "      <td>0.276860</td>\n",
       "    </tr>\n",
       "    <tr>\n",
       "      <th>221</th>\n",
       "      <td>UIS.GER.4</td>\n",
       "      <td>133</td>\n",
       "      <td>0.274793</td>\n",
       "    </tr>\n",
       "    <tr>\n",
       "      <th>230</th>\n",
       "      <td>UIS.GTVP.4.V.M</td>\n",
       "      <td>133</td>\n",
       "      <td>0.274793</td>\n",
       "    </tr>\n",
       "    <tr>\n",
       "      <th>220</th>\n",
       "      <td>UIS.FEP.4.V</td>\n",
       "      <td>133</td>\n",
       "      <td>0.274793</td>\n",
       "    </tr>\n",
       "    <tr>\n",
       "      <th>229</th>\n",
       "      <td>UIS.GTVP.4.V.F</td>\n",
       "      <td>132</td>\n",
       "      <td>0.272727</td>\n",
       "    </tr>\n",
       "    <tr>\n",
       "      <th>224</th>\n",
       "      <td>UIS.GER.4.M</td>\n",
       "      <td>131</td>\n",
       "      <td>0.270661</td>\n",
       "    </tr>\n",
       "    <tr>\n",
       "      <th>223</th>\n",
       "      <td>UIS.GER.4.GPI</td>\n",
       "      <td>130</td>\n",
       "      <td>0.268595</td>\n",
       "    </tr>\n",
       "    <tr>\n",
       "      <th>222</th>\n",
       "      <td>UIS.GER.4.F</td>\n",
       "      <td>130</td>\n",
       "      <td>0.268595</td>\n",
       "    </tr>\n",
       "    <tr>\n",
       "      <th>217</th>\n",
       "      <td>UIS.E.4.PR</td>\n",
       "      <td>126</td>\n",
       "      <td>0.260331</td>\n",
       "    </tr>\n",
       "    <tr>\n",
       "      <th>231</th>\n",
       "      <td>UIS.PRP.4</td>\n",
       "      <td>125</td>\n",
       "      <td>0.258264</td>\n",
       "    </tr>\n",
       "    <tr>\n",
       "      <th>218</th>\n",
       "      <td>UIS.E.4.PR.F</td>\n",
       "      <td>90</td>\n",
       "      <td>0.185950</td>\n",
       "    </tr>\n",
       "    <tr>\n",
       "      <th>211</th>\n",
       "      <td>SL.UEM.NEET.MA.ZS</td>\n",
       "      <td>74</td>\n",
       "      <td>0.152893</td>\n",
       "    </tr>\n",
       "    <tr>\n",
       "      <th>210</th>\n",
       "      <td>SL.UEM.NEET.FE.ZS</td>\n",
       "      <td>74</td>\n",
       "      <td>0.152893</td>\n",
       "    </tr>\n",
       "    <tr>\n",
       "      <th>212</th>\n",
       "      <td>SL.UEM.NEET.ZS</td>\n",
       "      <td>74</td>\n",
       "      <td>0.152893</td>\n",
       "    </tr>\n",
       "    <tr>\n",
       "      <th>219</th>\n",
       "      <td>UIS.FEP.4.GPV</td>\n",
       "      <td>72</td>\n",
       "      <td>0.148760</td>\n",
       "    </tr>\n",
       "    <tr>\n",
       "      <th>225</th>\n",
       "      <td>UIS.GTVP.4.GPV</td>\n",
       "      <td>70</td>\n",
       "      <td>0.144628</td>\n",
       "    </tr>\n",
       "    <tr>\n",
       "      <th>226</th>\n",
       "      <td>UIS.GTVP.4.GPV.F</td>\n",
       "      <td>70</td>\n",
       "      <td>0.144628</td>\n",
       "    </tr>\n",
       "    <tr>\n",
       "      <th>227</th>\n",
       "      <td>UIS.GTVP.4.GPV.M</td>\n",
       "      <td>70</td>\n",
       "      <td>0.144628</td>\n",
       "    </tr>\n",
       "    <tr>\n",
       "      <th>214</th>\n",
       "      <td>UIS.AFR.SCHCENRESPR.1.PU</td>\n",
       "      <td>46</td>\n",
       "      <td>0.095041</td>\n",
       "    </tr>\n",
       "    <tr>\n",
       "      <th>215</th>\n",
       "      <td>UIS.AFR.SCHCENRESPR.23.PU</td>\n",
       "      <td>43</td>\n",
       "      <td>0.088843</td>\n",
       "    </tr>\n",
       "    <tr>\n",
       "      <th>155</th>\n",
       "      <td>SABER.STD.ASS.GOAL1.LVL2</td>\n",
       "      <td>37</td>\n",
       "      <td>0.076446</td>\n",
       "    </tr>\n",
       "    <tr>\n",
       "      <th>154</th>\n",
       "      <td>SABER.STD.ASS.GOAL1.LVL1</td>\n",
       "      <td>37</td>\n",
       "      <td>0.076446</td>\n",
       "    </tr>\n",
       "    <tr>\n",
       "      <th>167</th>\n",
       "      <td>SABER.STD.ASS.GOAL4.LVL3</td>\n",
       "      <td>37</td>\n",
       "      <td>0.076446</td>\n",
       "    </tr>\n",
       "    <tr>\n",
       "      <th>166</th>\n",
       "      <td>SABER.STD.ASS.GOAL4.LVL2</td>\n",
       "      <td>37</td>\n",
       "      <td>0.076446</td>\n",
       "    </tr>\n",
       "    <tr>\n",
       "      <th>165</th>\n",
       "      <td>SABER.STD.ASS.GOAL4.LVL1</td>\n",
       "      <td>37</td>\n",
       "      <td>0.076446</td>\n",
       "    </tr>\n",
       "    <tr>\n",
       "      <th>164</th>\n",
       "      <td>SABER.STD.ASS.GOAL4</td>\n",
       "      <td>37</td>\n",
       "      <td>0.076446</td>\n",
       "    </tr>\n",
       "    <tr>\n",
       "      <th>163</th>\n",
       "      <td>SABER.STD.ASS.GOAL3.LVL3</td>\n",
       "      <td>37</td>\n",
       "      <td>0.076446</td>\n",
       "    </tr>\n",
       "    <tr>\n",
       "      <th>162</th>\n",
       "      <td>SABER.STD.ASS.GOAL3.LVL2</td>\n",
       "      <td>37</td>\n",
       "      <td>0.076446</td>\n",
       "    </tr>\n",
       "    <tr>\n",
       "      <th>161</th>\n",
       "      <td>SABER.STD.ASS.GOAL3.LVL1</td>\n",
       "      <td>37</td>\n",
       "      <td>0.076446</td>\n",
       "    </tr>\n",
       "    <tr>\n",
       "      <th>156</th>\n",
       "      <td>SABER.STD.ASS.GOAL2</td>\n",
       "      <td>37</td>\n",
       "      <td>0.076446</td>\n",
       "    </tr>\n",
       "    <tr>\n",
       "      <th>158</th>\n",
       "      <td>SABER.STD.ASS.GOAL2.LVL2</td>\n",
       "      <td>37</td>\n",
       "      <td>0.076446</td>\n",
       "    </tr>\n",
       "  </tbody>\n",
       "</table>\n",
       "</div>"
      ],
      "text/plain": [
       "                Indicator Code  Country Code  not_null_percent\n",
       "10              IT.NET.USER.P2           230          0.475207\n",
       "11              NY.GNP.MKTP.CD           226          0.466942\n",
       "216                    UIS.E.3           225          0.464876\n",
       "209                SE.TER.ENRL           219          0.452479\n",
       "213          SP.POP.1524.TO.UN           192          0.396694\n",
       "8            BAR.TER.SCHL.1519           144          0.297521\n",
       "1             BAR.NOED.2024.ZS           144          0.297521\n",
       "0             BAR.NOED.1519.ZS           144          0.297521\n",
       "7            BAR.SEC.SCHL.2024           144          0.297521\n",
       "6            BAR.SEC.SCHL.1519           144          0.297521\n",
       "5                BAR.SCHL.2024           144          0.297521\n",
       "4                BAR.SCHL.1519           144          0.297521\n",
       "3                 BAR.POP.2024           144          0.297521\n",
       "2                 BAR.POP.1519           144          0.297521\n",
       "9            BAR.TER.SCHL.2024           144          0.297521\n",
       "232                  UIS.SLE.4           138          0.285124\n",
       "234              UIS.SLE.4.GPI           135          0.278926\n",
       "233                UIS.SLE.4.F           135          0.278926\n",
       "235                UIS.SLE.4.M           135          0.278926\n",
       "228               UIS.GTVP.4.V           134          0.276860\n",
       "221                  UIS.GER.4           133          0.274793\n",
       "230             UIS.GTVP.4.V.M           133          0.274793\n",
       "220                UIS.FEP.4.V           133          0.274793\n",
       "229             UIS.GTVP.4.V.F           132          0.272727\n",
       "224                UIS.GER.4.M           131          0.270661\n",
       "223              UIS.GER.4.GPI           130          0.268595\n",
       "222                UIS.GER.4.F           130          0.268595\n",
       "217                 UIS.E.4.PR           126          0.260331\n",
       "231                  UIS.PRP.4           125          0.258264\n",
       "218               UIS.E.4.PR.F            90          0.185950\n",
       "211          SL.UEM.NEET.MA.ZS            74          0.152893\n",
       "210          SL.UEM.NEET.FE.ZS            74          0.152893\n",
       "212             SL.UEM.NEET.ZS            74          0.152893\n",
       "219              UIS.FEP.4.GPV            72          0.148760\n",
       "225             UIS.GTVP.4.GPV            70          0.144628\n",
       "226           UIS.GTVP.4.GPV.F            70          0.144628\n",
       "227           UIS.GTVP.4.GPV.M            70          0.144628\n",
       "214   UIS.AFR.SCHCENRESPR.1.PU            46          0.095041\n",
       "215  UIS.AFR.SCHCENRESPR.23.PU            43          0.088843\n",
       "155   SABER.STD.ASS.GOAL1.LVL2            37          0.076446\n",
       "154   SABER.STD.ASS.GOAL1.LVL1            37          0.076446\n",
       "167   SABER.STD.ASS.GOAL4.LVL3            37          0.076446\n",
       "166   SABER.STD.ASS.GOAL4.LVL2            37          0.076446\n",
       "165   SABER.STD.ASS.GOAL4.LVL1            37          0.076446\n",
       "164        SABER.STD.ASS.GOAL4            37          0.076446\n",
       "163   SABER.STD.ASS.GOAL3.LVL3            37          0.076446\n",
       "162   SABER.STD.ASS.GOAL3.LVL2            37          0.076446\n",
       "161   SABER.STD.ASS.GOAL3.LVL1            37          0.076446\n",
       "156        SABER.STD.ASS.GOAL2            37          0.076446\n",
       "158   SABER.STD.ASS.GOAL2.LVL2            37          0.076446"
      ]
     },
     "execution_count": 71,
     "metadata": {},
     "output_type": "execute_result"
    }
   ],
   "source": [
    "df_temp_ind = df_stats_lv.groupby('Indicator Code')[['Country Code']].count().reset_index()\n",
    "df_temp_ind['not_null_percent'] = df_temp_ind.sum(axis=1) / (df_temp_ind.shape[1] * 242)\n",
    "df_temp_ind = df_temp_ind.sort_values(by='not_null_percent', ascending=False)\n",
    "df_temp_ind.head(50)"
   ]
  },
  {
   "cell_type": "code",
   "execution_count": 72,
   "id": "faf0762f-aeea-4ccd-9bce-762c4d0a6c25",
   "metadata": {},
   "outputs": [
    {
     "data": {
      "text/html": [
       "<div>\n",
       "<style scoped>\n",
       "    .dataframe tbody tr th:only-of-type {\n",
       "        vertical-align: middle;\n",
       "    }\n",
       "\n",
       "    .dataframe tbody tr th {\n",
       "        vertical-align: top;\n",
       "    }\n",
       "\n",
       "    .dataframe thead th {\n",
       "        text-align: right;\n",
       "    }\n",
       "</style>\n",
       "<table border=\"1\" class=\"dataframe\">\n",
       "  <thead>\n",
       "    <tr style=\"text-align: right;\">\n",
       "      <th></th>\n",
       "      <th>Indicator Name</th>\n",
       "      <th>Indicator Code</th>\n",
       "      <th>Long definition</th>\n",
       "      <th>Topic</th>\n",
       "    </tr>\n",
       "  </thead>\n",
       "  <tbody>\n",
       "  </tbody>\n",
       "</table>\n",
       "</div>"
      ],
      "text/plain": [
       "Empty DataFrame\n",
       "Columns: [Indicator Name, Indicator Code, Long definition, Topic]\n",
       "Index: []"
      ]
     },
     "execution_count": 72,
     "metadata": {},
     "output_type": "execute_result"
    }
   ],
   "source": [
    "df_temp = df_stats_lv[df_stats_lv['Indicator Code']=='SE.XPD.TOTL.GD.ZS']\n",
    "df_temp = df_temp.drop_duplicates(['Indicator Code'])\n",
    "df_temp[[\"Indicator Name\", \"Indicator Code\", \"Long definition\", \"Topic\"]]"
   ]
  },
  {
   "cell_type": "markdown",
   "id": "19c21036-d501-4070-bcf1-58f64d79ea79",
   "metadata": {},
   "source": [
    "## Liste des indicateurs sélectionnés"
   ]
  },
  {
   "cell_type": "code",
   "execution_count": 73,
   "id": "d9cb5b05-43b8-41ce-a999-cd43a074d12c",
   "metadata": {},
   "outputs": [
    {
     "name": "stdout",
     "output_type": "stream",
     "text": [
      "['SP.POP.1524.TO.UN', 'UIS.E.3', 'SE.TER.ENRL', 'BAR.SEC.SCHL.1519', 'BAR.SEC.SCHL.2024', 'BAR.TER.SCHL.1519', 'BAR.TER.SCHL.2024', 'BAR.SCHL.1519', 'BAR.SCHL.2024', 'BAR.NOED.1519.ZS', 'BAR.NOED.2024.ZS', 'BAR.POP.1519', 'BAR.POP.2024', 'IT.NET.USER.P2', 'SP.POP.1524.TO.UN', 'NY.GNP.MKTP.CD']\n"
     ]
    }
   ],
   "source": [
    "print(list_indicator_selected)"
   ]
  },
  {
   "cell_type": "code",
   "execution_count": 74,
   "id": "7304a2c2-42f3-40b7-a3be-da9e164fe84e",
   "metadata": {},
   "outputs": [
    {
     "data": {
      "text/html": [
       "<div>\n",
       "<style scoped>\n",
       "    .dataframe tbody tr th:only-of-type {\n",
       "        vertical-align: middle;\n",
       "    }\n",
       "\n",
       "    .dataframe tbody tr th {\n",
       "        vertical-align: top;\n",
       "    }\n",
       "\n",
       "    .dataframe thead th {\n",
       "        text-align: right;\n",
       "    }\n",
       "</style>\n",
       "<table border=\"1\" class=\"dataframe\">\n",
       "  <thead>\n",
       "    <tr style=\"text-align: right;\">\n",
       "      <th></th>\n",
       "      <th>Indicator Code</th>\n",
       "      <th>Country Code</th>\n",
       "      <th>not_null_percent</th>\n",
       "    </tr>\n",
       "  </thead>\n",
       "  <tbody>\n",
       "    <tr>\n",
       "      <th>10</th>\n",
       "      <td>IT.NET.USER.P2</td>\n",
       "      <td>230</td>\n",
       "      <td>0.475207</td>\n",
       "    </tr>\n",
       "    <tr>\n",
       "      <th>11</th>\n",
       "      <td>NY.GNP.MKTP.CD</td>\n",
       "      <td>226</td>\n",
       "      <td>0.466942</td>\n",
       "    </tr>\n",
       "    <tr>\n",
       "      <th>14</th>\n",
       "      <td>UIS.E.3</td>\n",
       "      <td>225</td>\n",
       "      <td>0.464876</td>\n",
       "    </tr>\n",
       "    <tr>\n",
       "      <th>12</th>\n",
       "      <td>SE.TER.ENRL</td>\n",
       "      <td>219</td>\n",
       "      <td>0.452479</td>\n",
       "    </tr>\n",
       "    <tr>\n",
       "      <th>13</th>\n",
       "      <td>SP.POP.1524.TO.UN</td>\n",
       "      <td>192</td>\n",
       "      <td>0.396694</td>\n",
       "    </tr>\n",
       "    <tr>\n",
       "      <th>0</th>\n",
       "      <td>BAR.NOED.1519.ZS</td>\n",
       "      <td>144</td>\n",
       "      <td>0.297521</td>\n",
       "    </tr>\n",
       "    <tr>\n",
       "      <th>1</th>\n",
       "      <td>BAR.NOED.2024.ZS</td>\n",
       "      <td>144</td>\n",
       "      <td>0.297521</td>\n",
       "    </tr>\n",
       "    <tr>\n",
       "      <th>2</th>\n",
       "      <td>BAR.POP.1519</td>\n",
       "      <td>144</td>\n",
       "      <td>0.297521</td>\n",
       "    </tr>\n",
       "    <tr>\n",
       "      <th>3</th>\n",
       "      <td>BAR.POP.2024</td>\n",
       "      <td>144</td>\n",
       "      <td>0.297521</td>\n",
       "    </tr>\n",
       "    <tr>\n",
       "      <th>4</th>\n",
       "      <td>BAR.SCHL.1519</td>\n",
       "      <td>144</td>\n",
       "      <td>0.297521</td>\n",
       "    </tr>\n",
       "    <tr>\n",
       "      <th>5</th>\n",
       "      <td>BAR.SCHL.2024</td>\n",
       "      <td>144</td>\n",
       "      <td>0.297521</td>\n",
       "    </tr>\n",
       "    <tr>\n",
       "      <th>6</th>\n",
       "      <td>BAR.SEC.SCHL.1519</td>\n",
       "      <td>144</td>\n",
       "      <td>0.297521</td>\n",
       "    </tr>\n",
       "    <tr>\n",
       "      <th>7</th>\n",
       "      <td>BAR.SEC.SCHL.2024</td>\n",
       "      <td>144</td>\n",
       "      <td>0.297521</td>\n",
       "    </tr>\n",
       "    <tr>\n",
       "      <th>8</th>\n",
       "      <td>BAR.TER.SCHL.1519</td>\n",
       "      <td>144</td>\n",
       "      <td>0.297521</td>\n",
       "    </tr>\n",
       "    <tr>\n",
       "      <th>9</th>\n",
       "      <td>BAR.TER.SCHL.2024</td>\n",
       "      <td>144</td>\n",
       "      <td>0.297521</td>\n",
       "    </tr>\n",
       "  </tbody>\n",
       "</table>\n",
       "</div>"
      ],
      "text/plain": [
       "       Indicator Code  Country Code  not_null_percent\n",
       "10     IT.NET.USER.P2           230          0.475207\n",
       "11     NY.GNP.MKTP.CD           226          0.466942\n",
       "14            UIS.E.3           225          0.464876\n",
       "12        SE.TER.ENRL           219          0.452479\n",
       "13  SP.POP.1524.TO.UN           192          0.396694\n",
       "0    BAR.NOED.1519.ZS           144          0.297521\n",
       "1    BAR.NOED.2024.ZS           144          0.297521\n",
       "2        BAR.POP.1519           144          0.297521\n",
       "3        BAR.POP.2024           144          0.297521\n",
       "4       BAR.SCHL.1519           144          0.297521\n",
       "5       BAR.SCHL.2024           144          0.297521\n",
       "6   BAR.SEC.SCHL.1519           144          0.297521\n",
       "7   BAR.SEC.SCHL.2024           144          0.297521\n",
       "8   BAR.TER.SCHL.1519           144          0.297521\n",
       "9   BAR.TER.SCHL.2024           144          0.297521"
      ]
     },
     "execution_count": 74,
     "metadata": {},
     "output_type": "execute_result"
    }
   ],
   "source": [
    "df_data = df_stats_lv[df_stats_lv['Indicator Code'].isin(list_indicator_selected)]\n",
    "df_data = df_data.groupby('Indicator Code')[['Country Code']].count().reset_index()\n",
    "df_data['not_null_percent'] = df_data.sum(axis=1) / (df_data.shape[1] * 242)\n",
    "df_data = df_data.sort_values(by='not_null_percent', ascending=False)\n",
    "df_data"
   ]
  },
  {
   "cell_type": "markdown",
   "id": "d7f59c1e-67d5-46f7-8237-373d7c0d3e83",
   "metadata": {},
   "source": [
    "| Indicateurs | Définition | \n",
    "| --- | --- |\n",
    "| IT.NET.USER.P2 | Internet users are individuals who have used the Internet (from any location) in the last 3 months. The Internet can be used via a computer, mobile phone, personal digital assistant, games machine, digital TV etc. |\n",
    "| NY.GNP.MKTP.CD | ??? |\n",
    "| UIS.E.3 | ??? |"
   ]
  },
  {
   "cell_type": "markdown",
   "id": "02d4affb-5f27-4b18-b188-dc840e5faa0f",
   "metadata": {},
   "source": [
    "# Analyses des données"
   ]
  },
  {
   "cell_type": "code",
   "execution_count": 89,
   "id": "27bf731c-41ea-45fc-a502-a9ca7bd5b816",
   "metadata": {},
   "outputs": [
    {
     "data": {
      "text/html": [
       "<div>\n",
       "<style scoped>\n",
       "    .dataframe tbody tr th:only-of-type {\n",
       "        vertical-align: middle;\n",
       "    }\n",
       "\n",
       "    .dataframe tbody tr th {\n",
       "        vertical-align: top;\n",
       "    }\n",
       "\n",
       "    .dataframe thead th {\n",
       "        text-align: right;\n",
       "    }\n",
       "</style>\n",
       "<table border=\"1\" class=\"dataframe\">\n",
       "  <thead>\n",
       "    <tr style=\"text-align: right;\">\n",
       "      <th></th>\n",
       "      <th>Country Code</th>\n",
       "      <th>Region</th>\n",
       "      <th>Income Group</th>\n",
       "    </tr>\n",
       "  </thead>\n",
       "  <tbody>\n",
       "    <tr>\n",
       "      <th>0</th>\n",
       "      <td>ABW</td>\n",
       "      <td>Latin America &amp; Caribbean</td>\n",
       "      <td>High income: nonOECD</td>\n",
       "    </tr>\n",
       "    <tr>\n",
       "      <th>1</th>\n",
       "      <td>AFG</td>\n",
       "      <td>South Asia</td>\n",
       "      <td>Low income</td>\n",
       "    </tr>\n",
       "    <tr>\n",
       "      <th>2</th>\n",
       "      <td>AGO</td>\n",
       "      <td>Sub-Saharan Africa</td>\n",
       "      <td>Upper middle income</td>\n",
       "    </tr>\n",
       "    <tr>\n",
       "      <th>3</th>\n",
       "      <td>ALB</td>\n",
       "      <td>Europe &amp; Central Asia</td>\n",
       "      <td>Upper middle income</td>\n",
       "    </tr>\n",
       "    <tr>\n",
       "      <th>4</th>\n",
       "      <td>AND</td>\n",
       "      <td>Europe &amp; Central Asia</td>\n",
       "      <td>High income: nonOECD</td>\n",
       "    </tr>\n",
       "  </tbody>\n",
       "</table>\n",
       "</div>"
      ],
      "text/plain": [
       "  Country Code                     Region          Income Group\n",
       "0          ABW  Latin America & Caribbean  High income: nonOECD\n",
       "1          AFG                 South Asia            Low income\n",
       "2          AGO         Sub-Saharan Africa   Upper middle income\n",
       "3          ALB      Europe & Central Asia   Upper middle income\n",
       "4          AND      Europe & Central Asia  High income: nonOECD"
      ]
     },
     "execution_count": 89,
     "metadata": {},
     "output_type": "execute_result"
    }
   ],
   "source": [
    "df_country_clean = df_country[['Country Code', 'Region', 'Income Group']]\n",
    "df_country_clean.head()"
   ]
  },
  {
   "cell_type": "code",
   "execution_count": 90,
   "id": "e8b88ea9-0f61-4ffb-a99c-fb53591bc205",
   "metadata": {},
   "outputs": [],
   "source": [
    "df_raw = df_country_clean.merge(df_stats_lv, how='left', on='Country Code')"
   ]
  },
  {
   "cell_type": "markdown",
   "id": "47183e53-4779-49d6-be85-e7f760deac30",
   "metadata": {},
   "source": [
    "## Accéssibilité à internet"
   ]
  },
  {
   "cell_type": "markdown",
   "id": "6c9b560f-034f-44fe-9c43-84ada1f00301",
   "metadata": {},
   "source": [
    "Nous souhaitons sélectionner des pays ayant une bonne accéssibilité à internet pour nos cours en ligne."
   ]
  },
  {
   "cell_type": "code",
   "execution_count": 93,
   "id": "98deab62-3545-4df5-9ec1-37b9b48232f9",
   "metadata": {},
   "outputs": [],
   "source": [
    "df_raw_it_net = df_raw[df_raw['Indicator Code'] == 'IT.NET.USER.P2']\n",
    "df_raw_it_net = df_raw_it_net[['Country Name', 'Country Code','Region', 'Last Avail Values']]"
   ]
  },
  {
   "cell_type": "code",
   "execution_count": 94,
   "id": "8a63d24e-9781-41ba-ba3c-cacd7a5174c5",
   "metadata": {},
   "outputs": [
    {
     "data": {
      "text/html": [
       "<div>\n",
       "<style scoped>\n",
       "    .dataframe tbody tr th:only-of-type {\n",
       "        vertical-align: middle;\n",
       "    }\n",
       "\n",
       "    .dataframe tbody tr th {\n",
       "        vertical-align: top;\n",
       "    }\n",
       "\n",
       "    .dataframe thead th {\n",
       "        text-align: right;\n",
       "    }\n",
       "</style>\n",
       "<table border=\"1\" class=\"dataframe\">\n",
       "  <thead>\n",
       "    <tr style=\"text-align: right;\">\n",
       "      <th></th>\n",
       "      <th>Country Name</th>\n",
       "      <th>Country Code</th>\n",
       "      <th>Region</th>\n",
       "      <th>Last Avail Values</th>\n",
       "    </tr>\n",
       "  </thead>\n",
       "  <tbody>\n",
       "    <tr>\n",
       "      <th>6</th>\n",
       "      <td>Aruba</td>\n",
       "      <td>ABW</td>\n",
       "      <td>Latin America &amp; Caribbean</td>\n",
       "      <td>88.661227</td>\n",
       "    </tr>\n",
       "    <tr>\n",
       "      <th>35</th>\n",
       "      <td>Afghanistan</td>\n",
       "      <td>AFG</td>\n",
       "      <td>South Asia</td>\n",
       "      <td>8.260000</td>\n",
       "    </tr>\n",
       "    <tr>\n",
       "      <th>55</th>\n",
       "      <td>Angola</td>\n",
       "      <td>AGO</td>\n",
       "      <td>Sub-Saharan Africa</td>\n",
       "      <td>12.400000</td>\n",
       "    </tr>\n",
       "    <tr>\n",
       "      <th>91</th>\n",
       "      <td>Albania</td>\n",
       "      <td>ALB</td>\n",
       "      <td>Europe &amp; Central Asia</td>\n",
       "      <td>63.252933</td>\n",
       "    </tr>\n",
       "    <tr>\n",
       "      <th>116</th>\n",
       "      <td>Andorra</td>\n",
       "      <td>AND</td>\n",
       "      <td>Europe &amp; Central Asia</td>\n",
       "      <td>96.910000</td>\n",
       "    </tr>\n",
       "  </tbody>\n",
       "</table>\n",
       "</div>"
      ],
      "text/plain": [
       "    Country Name Country Code                     Region  Last Avail Values\n",
       "6          Aruba          ABW  Latin America & Caribbean          88.661227\n",
       "35   Afghanistan          AFG                 South Asia           8.260000\n",
       "55        Angola          AGO         Sub-Saharan Africa          12.400000\n",
       "91       Albania          ALB      Europe & Central Asia          63.252933\n",
       "116      Andorra          AND      Europe & Central Asia          96.910000"
      ]
     },
     "execution_count": 94,
     "metadata": {},
     "output_type": "execute_result"
    }
   ],
   "source": [
    "df_raw_it_net.head()"
   ]
  },
  {
   "cell_type": "markdown",
   "id": "b59e89be-3b9f-4f33-a60d-11582f0a28fd",
   "metadata": {},
   "source": [
    "### Par Région"
   ]
  },
  {
   "cell_type": "code",
   "execution_count": 95,
   "id": "f2ff2558-2ff7-4c21-8e3c-888c2e67b994",
   "metadata": {},
   "outputs": [
    {
     "data": {
      "image/png": "[encoded data removed]",
      "text/plain": [
       "<Figure size 864x576 with 1 Axes>"
      ]
     },
     "metadata": {},
     "output_type": "display_data"
    }
   ],
   "source": [
    "plt.figure(figsize=(12,8))\n",
    "ax = sns.boxplot(x=\"Last Avail Values\", y=\"Region\",\n",
    "                 data=df_it_net, palette=\"GnBu_r\", orient=\"h\")\n",
    "ax.set_title('Accéssibilité à Internet par région')\n",
    "ax.set(xlabel=\"Accéssibilité (%)\")\n",
    "plt.show()"
   ]
  },
  {
   "cell_type": "markdown",
   "id": "8e335955-53b2-4689-aa59-7ed9824be1af",
   "metadata": {},
   "source": [
    "> Les régions ayant une meilleure accéssibilité à Internet sont :\n",
    ">- North America\n",
    ">- Europe & Central Asia\n"
   ]
  },
  {
   "cell_type": "markdown",
   "id": "e61882c7-b821-43e6-bfb7-d9caf2471848",
   "metadata": {},
   "source": [
    "### Top 20 des pays ayant le meilleur accés à internet"
   ]
  },
  {
   "cell_type": "code",
   "execution_count": 96,
   "id": "68d5fdfe-2261-4cf5-8ac2-90ec177369a2",
   "metadata": {},
   "outputs": [
    {
     "data": {
      "text/html": [
       "<div>\n",
       "<style scoped>\n",
       "    .dataframe tbody tr th:only-of-type {\n",
       "        vertical-align: middle;\n",
       "    }\n",
       "\n",
       "    .dataframe tbody tr th {\n",
       "        vertical-align: top;\n",
       "    }\n",
       "\n",
       "    .dataframe thead th {\n",
       "        text-align: right;\n",
       "    }\n",
       "</style>\n",
       "<table border=\"1\" class=\"dataframe\">\n",
       "  <thead>\n",
       "    <tr style=\"text-align: right;\">\n",
       "      <th></th>\n",
       "      <th>Country Code</th>\n",
       "      <th>Region</th>\n",
       "      <th>Income Group</th>\n",
       "      <th>Country Name</th>\n",
       "      <th>Last Avail Values</th>\n",
       "    </tr>\n",
       "  </thead>\n",
       "  <tbody>\n",
       "    <tr>\n",
       "      <th>25</th>\n",
       "      <td>BMU</td>\n",
       "      <td>North America</td>\n",
       "      <td>High income: nonOECD</td>\n",
       "      <td>Bermuda</td>\n",
       "      <td>98.323610</td>\n",
       "    </tr>\n",
       "    <tr>\n",
       "      <th>102</th>\n",
       "      <td>ISL</td>\n",
       "      <td>Europe &amp; Central Asia</td>\n",
       "      <td>High income: OECD</td>\n",
       "      <td>Iceland</td>\n",
       "      <td>98.200000</td>\n",
       "    </tr>\n",
       "    <tr>\n",
       "      <th>131</th>\n",
       "      <td>LUX</td>\n",
       "      <td>Europe &amp; Central Asia</td>\n",
       "      <td>High income: OECD</td>\n",
       "      <td>Luxembourg</td>\n",
       "      <td>97.334100</td>\n",
       "    </tr>\n",
       "    <tr>\n",
       "      <th>4</th>\n",
       "      <td>AND</td>\n",
       "      <td>Europe &amp; Central Asia</td>\n",
       "      <td>High income: nonOECD</td>\n",
       "      <td>Andorra</td>\n",
       "      <td>96.910000</td>\n",
       "    </tr>\n",
       "    <tr>\n",
       "      <th>164</th>\n",
       "      <td>NOR</td>\n",
       "      <td>Europe &amp; Central Asia</td>\n",
       "      <td>High income: OECD</td>\n",
       "      <td>Norway</td>\n",
       "      <td>96.810300</td>\n",
       "    </tr>\n",
       "    <tr>\n",
       "      <th>125</th>\n",
       "      <td>LIE</td>\n",
       "      <td>Europe &amp; Central Asia</td>\n",
       "      <td>High income: nonOECD</td>\n",
       "      <td>Liechtenstein</td>\n",
       "      <td>96.641195</td>\n",
       "    </tr>\n",
       "    <tr>\n",
       "      <th>54</th>\n",
       "      <td>DNK</td>\n",
       "      <td>Europe &amp; Central Asia</td>\n",
       "      <td>High income: OECD</td>\n",
       "      <td>Denmark</td>\n",
       "      <td>96.330500</td>\n",
       "    </tr>\n",
       "    <tr>\n",
       "      <th>72</th>\n",
       "      <td>FRO</td>\n",
       "      <td>Europe &amp; Central Asia</td>\n",
       "      <td>High income: nonOECD</td>\n",
       "      <td>Faroe Islands</td>\n",
       "      <td>94.200000</td>\n",
       "    </tr>\n",
       "    <tr>\n",
       "      <th>20</th>\n",
       "      <td>BHR</td>\n",
       "      <td>Middle East &amp; North Africa</td>\n",
       "      <td>High income: nonOECD</td>\n",
       "      <td>Bahrain</td>\n",
       "      <td>93.478301</td>\n",
       "    </tr>\n",
       "    <tr>\n",
       "      <th>136</th>\n",
       "      <td>MCO</td>\n",
       "      <td>Europe &amp; Central Asia</td>\n",
       "      <td>High income: nonOECD</td>\n",
       "      <td>Monaco</td>\n",
       "      <td>93.363302</td>\n",
       "    </tr>\n",
       "    <tr>\n",
       "      <th>183</th>\n",
       "      <td>QAT</td>\n",
       "      <td>Middle East &amp; North Africa</td>\n",
       "      <td>High income: nonOECD</td>\n",
       "      <td>Qatar</td>\n",
       "      <td>92.884826</td>\n",
       "    </tr>\n",
       "    <tr>\n",
       "      <th>75</th>\n",
       "      <td>GBR</td>\n",
       "      <td>Europe &amp; Central Asia</td>\n",
       "      <td>High income: OECD</td>\n",
       "      <td>United Kingdom</td>\n",
       "      <td>92.000300</td>\n",
       "    </tr>\n",
       "    <tr>\n",
       "      <th>163</th>\n",
       "      <td>NLD</td>\n",
       "      <td>Europe &amp; Central Asia</td>\n",
       "      <td>High income: OECD</td>\n",
       "      <td>Netherlands</td>\n",
       "      <td>91.724138</td>\n",
       "    </tr>\n",
       "    <tr>\n",
       "      <th>107</th>\n",
       "      <td>JPN</td>\n",
       "      <td>East Asia &amp; Pacific</td>\n",
       "      <td>High income: OECD</td>\n",
       "      <td>Japan</td>\n",
       "      <td>91.058028</td>\n",
       "    </tr>\n",
       "    <tr>\n",
       "      <th>205</th>\n",
       "      <td>SWE</td>\n",
       "      <td>Europe &amp; Central Asia</td>\n",
       "      <td>High income: OECD</td>\n",
       "      <td>Sweden</td>\n",
       "      <td>90.610200</td>\n",
       "    </tr>\n",
       "    <tr>\n",
       "      <th>6</th>\n",
       "      <td>ARE</td>\n",
       "      <td>Middle East &amp; North Africa</td>\n",
       "      <td>High income: nonOECD</td>\n",
       "      <td>United Arab Emirates</td>\n",
       "      <td>90.500000</td>\n",
       "    </tr>\n",
       "    <tr>\n",
       "      <th>114</th>\n",
       "      <td>KOR</td>\n",
       "      <td>East Asia &amp; Pacific</td>\n",
       "      <td>High income: OECD</td>\n",
       "      <td>Korea, Rep.</td>\n",
       "      <td>89.648631</td>\n",
       "    </tr>\n",
       "    <tr>\n",
       "      <th>0</th>\n",
       "      <td>ABW</td>\n",
       "      <td>Latin America &amp; Caribbean</td>\n",
       "      <td>High income: nonOECD</td>\n",
       "      <td>Aruba</td>\n",
       "      <td>88.661227</td>\n",
       "    </tr>\n",
       "    <tr>\n",
       "      <th>33</th>\n",
       "      <td>CAN</td>\n",
       "      <td>North America</td>\n",
       "      <td>High income: OECD</td>\n",
       "      <td>Canada</td>\n",
       "      <td>88.470000</td>\n",
       "    </tr>\n",
       "    <tr>\n",
       "      <th>66</th>\n",
       "      <td>EST</td>\n",
       "      <td>Europe &amp; Central Asia</td>\n",
       "      <td>High income: OECD</td>\n",
       "      <td>Estonia</td>\n",
       "      <td>88.411812</td>\n",
       "    </tr>\n",
       "  </tbody>\n",
       "</table>\n",
       "</div>"
      ],
      "text/plain": [
       "    Country Code                      Region          Income Group  \\\n",
       "25           BMU               North America  High income: nonOECD   \n",
       "102          ISL       Europe & Central Asia     High income: OECD   \n",
       "131          LUX       Europe & Central Asia     High income: OECD   \n",
       "4            AND       Europe & Central Asia  High income: nonOECD   \n",
       "164          NOR       Europe & Central Asia     High income: OECD   \n",
       "125          LIE       Europe & Central Asia  High income: nonOECD   \n",
       "54           DNK       Europe & Central Asia     High income: OECD   \n",
       "72           FRO       Europe & Central Asia  High income: nonOECD   \n",
       "20           BHR  Middle East & North Africa  High income: nonOECD   \n",
       "136          MCO       Europe & Central Asia  High income: nonOECD   \n",
       "183          QAT  Middle East & North Africa  High income: nonOECD   \n",
       "75           GBR       Europe & Central Asia     High income: OECD   \n",
       "163          NLD       Europe & Central Asia     High income: OECD   \n",
       "107          JPN         East Asia & Pacific     High income: OECD   \n",
       "205          SWE       Europe & Central Asia     High income: OECD   \n",
       "6            ARE  Middle East & North Africa  High income: nonOECD   \n",
       "114          KOR         East Asia & Pacific     High income: OECD   \n",
       "0            ABW   Latin America & Caribbean  High income: nonOECD   \n",
       "33           CAN               North America     High income: OECD   \n",
       "66           EST       Europe & Central Asia     High income: OECD   \n",
       "\n",
       "             Country Name  Last Avail Values  \n",
       "25                Bermuda          98.323610  \n",
       "102               Iceland          98.200000  \n",
       "131            Luxembourg          97.334100  \n",
       "4                 Andorra          96.910000  \n",
       "164                Norway          96.810300  \n",
       "125         Liechtenstein          96.641195  \n",
       "54                Denmark          96.330500  \n",
       "72          Faroe Islands          94.200000  \n",
       "20                Bahrain          93.478301  \n",
       "136                Monaco          93.363302  \n",
       "183                 Qatar          92.884826  \n",
       "75         United Kingdom          92.000300  \n",
       "163           Netherlands          91.724138  \n",
       "107                 Japan          91.058028  \n",
       "205                Sweden          90.610200  \n",
       "6    United Arab Emirates          90.500000  \n",
       "114           Korea, Rep.          89.648631  \n",
       "0                   Aruba          88.661227  \n",
       "33                 Canada          88.470000  \n",
       "66                Estonia          88.411812  "
      ]
     },
     "execution_count": 96,
     "metadata": {},
     "output_type": "execute_result"
    }
   ],
   "source": [
    "df_it_net.sort_values(by='Last Avail Values', ascending=False).head(20)"
   ]
  },
  {
   "cell_type": "markdown",
   "id": "289daef0-7e0e-49b4-9fbd-4c396e71e123",
   "metadata": {},
   "source": [
    "> On retrouve de nombreux pays d'Europe avec un haut pouvoir d'achat. "
   ]
  },
  {
   "cell_type": "markdown",
   "id": "c569f394-610f-4928-bf6e-2ebf8743a9ce",
   "metadata": {},
   "source": [
    "## PIB pays"
   ]
  },
  {
   "cell_type": "code",
   "execution_count": 109,
   "id": "57cf7f60-42b8-4623-a5a0-b48a28573589",
   "metadata": {},
   "outputs": [],
   "source": [
    "df_raw_gnp = df_raw[df_raw['Indicator Code'] == 'NY.GNP.MKTP.CD']\n",
    "df_raw_gnp = df_raw_gnp[~df_raw_gnp['Region'].isnull()]\n",
    "df_raw_gnp = df_raw_gnp[['Country Name', 'Country Code', 'Last Avail Values']]\n",
    "df_raw_gnp = df_raw_gnp.sort_values(by='Last Avail Values', ascending=False).head(20)"
   ]
  },
  {
   "cell_type": "code",
   "execution_count": 110,
   "id": "d952e493-0b3a-4093-afcf-1d3e18f4e431",
   "metadata": {},
   "outputs": [
    {
     "data": {
      "image/png": "[encoded data removed]",
      "text/plain": [
       "<Figure size 576x864 with 1 Axes>"
      ]
     },
     "metadata": {},
     "output_type": "display_data"
    }
   ],
   "source": [
    "plt.figure(figsize=(8,12))\n",
    "ax = sns.barplot(data=df_raw_gnp, x=\"Last Avail Values\", y=\"Country Name\", palette=\"GnBu_r\")\n",
    "ax.set_title(\"Nombre moyen d'indicateurs par pays\")\n",
    "ax.set(xlabel=\"Nombre moyen d'indicateurs\")\n",
    "\n",
    "for container in ax.containers:\n",
    "    ax.bar_label(container, padding = 4)\n",
    "\n",
    "plt.show()"
   ]
  },
  {
   "cell_type": "code",
   "execution_count": null,
   "id": "77ea7653-7e80-416d-b760-6cb99d7b5a18",
   "metadata": {},
   "outputs": [],
   "source": []
  }
 ],
 "metadata": {
  "kernelspec": {
   "display_name": "Python 3 (ipykernel)",
   "language": "python",
   "name": "python3"
  },
  "language_info": {
   "codemirror_mode": {
    "name": "ipython",
    "version": 3
   },
   "file_extension": ".py",
   "mimetype": "text/x-python",
   "name": "python",
   "nbconvert_exporter": "python",
   "pygments_lexer": "ipython3",
   "version": "3.8.12"
  },
  "toc": {
   "base_numbering": 1,
   "nav_menu": {},
   "number_sections": true,
   "sideBar": true,
   "skip_h1_title": false,
   "title_cell": "Table of Contents",
   "title_sidebar": "Contents",
   "toc_cell": false,
   "toc_position": {
    "height": "calc(100% - 180px)",
    "left": "10px",
    "top": "150px",
    "width": "303.6px"
   },
   "toc_section_display": true,
   "toc_window_display": true
  }
 },
 "nbformat": 4,
 "nbformat_minor": 5
}
